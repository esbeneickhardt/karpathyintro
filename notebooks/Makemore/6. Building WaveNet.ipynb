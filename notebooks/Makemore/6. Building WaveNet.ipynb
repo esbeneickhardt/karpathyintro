{
 "cells": [
  {
   "cell_type": "markdown",
   "id": "34e3752f",
   "metadata": {},
   "source": [
    "# Introduction\n",
    "We take the 2-layer MLP from previous video and make it deeper with a tree-like structure, arriving at a convolutional neural network architecture similar to the [WaveNet](https://arxiv.org/abs/1609.03499) (2016) from DeepMind."
   ]
  },
  {
   "cell_type": "markdown",
   "id": "06430c20",
   "metadata": {},
   "source": [
    "# Libraries"
   ]
  },
  {
   "cell_type": "code",
   "execution_count": 1,
   "id": "5c99d677",
   "metadata": {},
   "outputs": [],
   "source": [
    "%matplotlib inline\n",
    "%config IPCompleter.use_jedi=False"
   ]
  },
  {
   "cell_type": "code",
   "execution_count": 2,
   "id": "5d87954a",
   "metadata": {},
   "outputs": [],
   "source": [
    "import random\n",
    "import torch\n",
    "import torch.nn.functional as F\n",
    "import matplotlib.pyplot as plt"
   ]
  },
  {
   "cell_type": "markdown",
   "id": "ae75ff06",
   "metadata": {},
   "source": [
    "# Data"
   ]
  },
  {
   "cell_type": "markdown",
   "id": "63643445",
   "metadata": {},
   "source": [
    "### Reading the Data"
   ]
  },
  {
   "cell_type": "code",
   "execution_count": 3,
   "id": "c9c889f7",
   "metadata": {},
   "outputs": [],
   "source": [
    "# Reading names into a list\n",
    "with open('../../data/names.txt', 'r') as f:\n",
    "    names = f.readlines()\n",
    "    names = [name.strip() for name in names]"
   ]
  },
  {
   "cell_type": "markdown",
   "id": "65be39f0",
   "metadata": {},
   "source": [
    "### Creating Vocabulary"
   ]
  },
  {
   "cell_type": "code",
   "execution_count": 4,
   "id": "1d1a06f8",
   "metadata": {},
   "outputs": [
    {
     "name": "stdout",
     "output_type": "stream",
     "text": [
      "{'a': 1, 'b': 2, 'c': 3, 'd': 4, 'e': 5, 'f': 6, 'g': 7, 'h': 8, 'i': 9, 'j': 10, 'k': 11, 'l': 12, 'm': 13, 'n': 14, 'o': 15, 'p': 16, 'q': 17, 'r': 18, 's': 19, 't': 20, 'u': 21, 'v': 22, 'w': 23, 'x': 24, 'y': 25, 'z': 26}\n",
      "{1: 'a', 2: 'b', 3: 'c', 4: 'd', 5: 'e', 6: 'f', 7: 'g', 8: 'h', 9: 'i', 10: 'j', 11: 'k', 12: 'l', 13: 'm', 14: 'n', 15: 'o', 16: 'p', 17: 'q', 18: 'r', 19: 's', 20: 't', 21: 'u', 22: 'v', 23: 'w', 24: 'x', 25: 'y', 26: 'z', 0: '.'}\n"
     ]
    }
   ],
   "source": [
    "# Building the vocabulary (character to/from index)\n",
    "chars = sorted(list(set(''.join(names))))\n",
    "chr_to_idx = {s:i+1 for i,s in enumerate(chars)}; print(chr_to_idx)\n",
    "chr_to_idx['.'] = 0\n",
    "idx_to_chr = {i:s for s,i in chr_to_idx.items()}; print(idx_to_chr)"
   ]
  },
  {
   "cell_type": "markdown",
   "id": "d610117a",
   "metadata": {},
   "source": [
    "### Building dataset\n",
    "This time we use a longer block size of eight!"
   ]
  },
  {
   "cell_type": "code",
   "execution_count": 5,
   "id": "97456dec",
   "metadata": {},
   "outputs": [],
   "source": [
    "def build_dataset(words: list, block_size: int = 3, verbose: bool = False) -> tuple:\n",
    "    \"\"\"\n",
    "    Description:\n",
    "        Take a list of words and creates Xs and Ys give\n",
    "        a block size. E.g. block_size=3 for emma would \n",
    "        result in:\n",
    "            ... ---> e  \n",
    "            ..e ---> m  \n",
    "            .em ---> m  \n",
    "            emm ---> a  \n",
    "            mma ---> . \n",
    "        Stored in a (n, 3) tensor\n",
    "    Inputs:\n",
    "        words: List of words\n",
    "        block_size: The context window\n",
    "        verbose: Where to print the outputs\n",
    "    Ouputs:\n",
    "        A (n, block_size) tensor with Xs\n",
    "        A (n) tensor with Ys\n",
    "    \"\"\"\n",
    "    X, Y = [], []\n",
    "    for word in words:\n",
    "        if verbose:\n",
    "            print(word)\n",
    "        context = [0] * block_size\n",
    "        for char in word + '.':\n",
    "            idx = chr_to_idx[char]\n",
    "            X.append(context)\n",
    "            Y.append(idx)\n",
    "            if verbose:\n",
    "                print(''.join(idx_to_chr[i] for i in context), idx_to_chr[idx])\n",
    "            context = context[1:] + [idx]\n",
    "    \n",
    "    X = torch.tensor(X)\n",
    "    Y = torch.tensor(Y)\n",
    "    \n",
    "    return X, Y"
   ]
  },
  {
   "cell_type": "code",
   "execution_count": 6,
   "id": "a2935367",
   "metadata": {},
   "outputs": [],
   "source": [
    "# Putting names in random order\n",
    "random.shuffle(names)\n",
    "\n",
    "# Creating split indices\n",
    "n1 = int(0.8 * len(names))\n",
    "n2 = int(0.9 * len(names))"
   ]
  },
  {
   "cell_type": "code",
   "execution_count": 7,
   "id": "ff6efe88",
   "metadata": {},
   "outputs": [
    {
     "name": "stdout",
     "output_type": "stream",
     "text": [
      "torch.Size([182498])\n",
      "torch.Size([22789])\n",
      "torch.Size([22859])\n"
     ]
    }
   ],
   "source": [
    "# Building training, validation and test sets\n",
    "Xtr, Ytr = build_dataset(words=names[:n1], block_size=8); print(Ytr.size())\n",
    "Xval, Yval = build_dataset(words=names[n1:n2], block_size=8); print(Yval.size())\n",
    "Xtest, Ytest = build_dataset(words=names[n2:], block_size=8); print(Ytest.size())"
   ]
  },
  {
   "cell_type": "code",
   "execution_count": 8,
   "id": "b3d2aa45",
   "metadata": {},
   "outputs": [
    {
     "name": "stdout",
     "output_type": "stream",
     "text": [
      "........ --> c\n",
      ".......c --> y\n",
      "......cy --> r\n",
      ".....cyr --> u\n",
      "....cyru --> s\n",
      "...cyrus --> .\n",
      "........ --> k\n",
      ".......k --> h\n",
      "......kh --> y\n",
      ".....khy --> r\n",
      "....khyr --> i\n",
      "...khyri --> e\n",
      "..khyrie --> .\n",
      "........ --> p\n",
      ".......p --> r\n",
      "......pr --> a\n",
      ".....pra --> n\n",
      "....pran --> i\n",
      "...prani --> s\n",
      "..pranis --> h\n"
     ]
    }
   ],
   "source": [
    "# Example of x and y\n",
    "for x,y in zip(Xtr[:20],Ytr[:20]):\n",
    "    print(''.join(idx_to_chr[ix.item()] for ix in x), '-->', idx_to_chr[y.item()])"
   ]
  },
  {
   "cell_type": "markdown",
   "id": "52a5263a",
   "metadata": {},
   "source": [
    "# Network Building Blocks\n",
    "We we just reuse the blocks we created in a previous notebook."
   ]
  },
  {
   "cell_type": "code",
   "execution_count": 9,
   "id": "0c1d7119",
   "metadata": {},
   "outputs": [],
   "source": [
    "class Linear:\n",
    "    \n",
    "    def __init__(self, fan_in, fan_out, bias=True):\n",
    "        \"\"\" Initializes Weights \"\"\"\n",
    "        self.weight = torch.randn((fan_in, fan_out)) / fan_in**0.5\n",
    "        self.bias = torch.zeros(fan_out) if bias else None\n",
    "        \n",
    "    def __call__(self, x):\n",
    "        \"\"\" Forward Pass \"\"\"\n",
    "        self.out = x @ self.weight\n",
    "        if self.bias is not None:\n",
    "            self.out += self.bias\n",
    "        return self.out\n",
    "    \n",
    "    def parameters(self):\n",
    "        \"\"\" Returning  All Parameters \"\"\"\n",
    "        return [self.weight] + ([] if self.bias is None else [self.bias])"
   ]
  },
  {
   "cell_type": "code",
   "execution_count": 10,
   "id": "d523a44a",
   "metadata": {},
   "outputs": [],
   "source": [
    "class BatchNorm1d:\n",
    "    \n",
    "    def __init__(self, dim, eps=1e-5, momentum=0.1):\n",
    "        \"\"\" Initializing Batchnorm Weights \"\"\"\n",
    "        self.eps = eps\n",
    "        self.momentum = momentum\n",
    "        self.training = True\n",
    "        \n",
    "        # Batchnorm Shift Parameters\n",
    "        self.gamma = torch.ones(dim)\n",
    "        self.beta = torch.zeros(dim)\n",
    "        \n",
    "        # Running batchnorm Mean and Variance\n",
    "        self.running_mean = torch.zeros(dim)\n",
    "        self.running_var = torch.ones(dim)\n",
    "        \n",
    "    def __call__(self, x):\n",
    "        \"\"\" Forward Pass and Buffers \"\"\"\n",
    "        if self.training:\n",
    "            xmean = x.mean(0, keepdim=True)\n",
    "            xvar = x.var(0, keepdim=True, unbiased=True)\n",
    "        else:\n",
    "            xmean = self.running_mean\n",
    "            xvar = self.running_var\n",
    "        xhat = (x - xmean) / torch.sqrt(xvar + self.eps)\n",
    "        self.out = self.gamma * xhat + self.beta\n",
    "        \n",
    "        if self.training:\n",
    "            with torch.no_grad():\n",
    "                self.running_mean = (1 - self.momentum) * self.running_mean + self.momentum * xmean\n",
    "                self.running_var = (1 - self.momentum) * self.running_var + self.momentum * xvar\n",
    "        return self.out\n",
    "    \n",
    "    def parameters(self):\n",
    "        return [self.gamma, self.beta]"
   ]
  },
  {
   "cell_type": "code",
   "execution_count": 11,
   "id": "ee732fc9",
   "metadata": {},
   "outputs": [],
   "source": [
    "class Tanh:\n",
    "    def __call__(self, x):\n",
    "        \"\"\" Non-linearity \"\"\"\n",
    "        self.out = torch.tanh(x)\n",
    "        return self.out\n",
    "    \n",
    "    def parameters(self):\n",
    "        return []"
   ]
  },
  {
   "cell_type": "code",
   "execution_count": 12,
   "id": "99630980",
   "metadata": {},
   "outputs": [],
   "source": [
    "class Embedding:\n",
    "  \n",
    "    def __init__(self, num_embeddings, embedding_dim):\n",
    "        \"\"\" Initializing Embedding Weights \"\"\"\n",
    "        self.weight = torch.randn((num_embeddings, embedding_dim))\n",
    "\n",
    "    def __call__(self, IX):\n",
    "        \"\"\" Forward Pass \"\"\"\n",
    "        self.out = self.weight[IX]\n",
    "        return self.out\n",
    "\n",
    "    def parameters(self):\n",
    "        \"\"\" Returning All Parameters \"\"\"\n",
    "        return [self.weight]"
   ]
  },
  {
   "cell_type": "code",
   "execution_count": 13,
   "id": "f1ffd59a",
   "metadata": {},
   "outputs": [],
   "source": [
    "class Flatten:\n",
    "  \n",
    "    def __call__(self, x):\n",
    "        \"\"\" Flattens Final Dimension \"\"\"\n",
    "        self.out = x.view(x.shape[0], -1)\n",
    "        return self.out\n",
    "\n",
    "    def parameters(self):\n",
    "        \"\"\" Returning All Parameters \"\"\"\n",
    "        return []"
   ]
  },
  {
   "cell_type": "code",
   "execution_count": 14,
   "id": "fdd21d2a",
   "metadata": {},
   "outputs": [],
   "source": [
    "class Sequential:\n",
    "  \n",
    "    def __init__(self, layers):\n",
    "        \"\"\" Saves a Reference to the Layers \"\"\"\n",
    "        self.layers = layers\n",
    "\n",
    "    def __call__(self, x):\n",
    "        \"\"\" Calls Layers Iteratively \"\"\"\n",
    "        for layer in self.layers:\n",
    "            x = layer(x)\n",
    "        self.out = x\n",
    "        return self.out\n",
    "  \n",
    "    def parameters(self):\n",
    "        \"\"\" Returns All Parameters \"\"\"\n",
    "        return [p for layer in self.layers for p in layer.parameters()]"
   ]
  },
  {
   "cell_type": "markdown",
   "id": "826d50e9",
   "metadata": {},
   "source": [
    "# Training a Network\n",
    "Here we build a simple network and train it. It will be this network that we continously expand in the next notebook."
   ]
  },
  {
   "cell_type": "code",
   "execution_count": 15,
   "id": "e40dbade",
   "metadata": {},
   "outputs": [
    {
     "name": "stdout",
     "output_type": "stream",
     "text": [
      "22097\n"
     ]
    }
   ],
   "source": [
    "# Initializing Weights\n",
    "n_embd = 10\n",
    "n_hidden = 200\n",
    "block_size = 8\n",
    "vocab_size = len(chr_to_idx)\n",
    "\n",
    "# Model\n",
    "model = Sequential([\n",
    "    Embedding(vocab_size, n_embd),\n",
    "    Flatten(),\n",
    "    Linear(n_embd * block_size, n_hidden, bias=False), BatchNorm1d(n_hidden), Tanh(),\n",
    "    Linear(n_hidden, vocab_size),\n",
    "])\n",
    "\n",
    "# Adjusing initialization of layers\n",
    "with torch.no_grad():\n",
    "    # Making last layer less confident\n",
    "    model.layers[-1].weight *= 0.1\n",
    "\n",
    "# All parameters\n",
    "parameters = model.parameters()\n",
    "print(sum(p.nelement() for p in parameters))\n",
    "for p in parameters:\n",
    "    p.requires_grad = True"
   ]
  },
  {
   "cell_type": "code",
   "execution_count": 16,
   "id": "e6a56b7d",
   "metadata": {},
   "outputs": [
    {
     "name": "stdout",
     "output_type": "stream",
     "text": [
      "      0/ 200000: 3.2975\n",
      "  10000/ 200000: 2.5396\n",
      "  20000/ 200000: 2.7344\n",
      "  30000/ 200000: 2.4083\n",
      "  40000/ 200000: 2.2558\n",
      "  50000/ 200000: 2.2601\n",
      "  60000/ 200000: 2.3485\n",
      "  70000/ 200000: 2.4415\n",
      "  80000/ 200000: 2.3535\n",
      "  90000/ 200000: 2.2707\n",
      " 100000/ 200000: 2.1816\n",
      " 110000/ 200000: 2.1921\n",
      " 120000/ 200000: 2.0696\n",
      " 130000/ 200000: 2.2801\n",
      " 140000/ 200000: 2.0228\n",
      " 150000/ 200000: 2.0431\n",
      " 160000/ 200000: 2.4591\n",
      " 170000/ 200000: 1.8949\n",
      " 180000/ 200000: 2.0612\n",
      " 190000/ 200000: 2.3091\n"
     ]
    }
   ],
   "source": [
    "max_steps = 200000\n",
    "batch_size = 64\n",
    "lr = 0.2\n",
    "lossi = []\n",
    "\n",
    "for step in range(max_steps):\n",
    "    \n",
    "    # Minibatch\n",
    "    ix = torch.randint(0, Xtr.shape[0], (batch_size,))\n",
    "    Xb, Yb = Xtr[ix], Ytr[ix]\n",
    "    \n",
    "    # Forward pass\n",
    "    logits = model(Xb)\n",
    "    loss = F.cross_entropy(logits, Yb)    \n",
    "    \n",
    "    # Backward pass\n",
    "    for p in parameters:\n",
    "        p.grad = None\n",
    "    loss.backward()\n",
    "\n",
    "    ## Update\n",
    "    lr = lr if step < 150000 else 0.01\n",
    "    for p in parameters:\n",
    "        p.data += -lr * 0.01 * p.grad        \n",
    "        \n",
    "    # Tracking stats\n",
    "    if not step % 10000:\n",
    "        print(f\"{step:7d}/{max_steps:7d}: {loss.item():.4f}\")\n",
    "    lossi.append(loss.log10().item())"
   ]
  },
  {
   "cell_type": "code",
   "execution_count": 89,
   "id": "a16f5bda",
   "metadata": {},
   "outputs": [
    {
     "name": "stdout",
     "output_type": "stream",
     "text": [
      "Embedding : (64, 8, 10)\n",
      "FlattenConsecutive : (64, 80)\n",
      "Linear : (64, 200)\n",
      "BatchNorm1d : (64, 200)\n",
      "Tanh : (64, 200)\n",
      "Linear : (64, 27)\n"
     ]
    }
   ],
   "source": [
    "# Printing layer shapes\n",
    "for layer in model.layers:\n",
    "    print(layer.__class__.__name__, ':', tuple(layer.out.shape))"
   ]
  },
  {
   "cell_type": "code",
   "execution_count": 94,
   "id": "620b442d",
   "metadata": {},
   "outputs": [
    {
     "data": {
      "text/plain": [
       "[<matplotlib.lines.Line2D at 0x7f5884034eb0>]"
      ]
     },
     "execution_count": 94,
     "metadata": {},
     "output_type": "execute_result"
    },
    {
     "data": {
      "image/png": "[encoded data removed]",
      "text/plain": [
       "<Figure size 640x480 with 1 Axes>"
      ]
     },
     "metadata": {},
     "output_type": "display_data"
    }
   ],
   "source": [
    "# Plotting loss\n",
    "plt.plot(lossi)"
   ]
  },
  {
   "cell_type": "code",
   "execution_count": 18,
   "id": "9ff80c43",
   "metadata": {},
   "outputs": [
    {
     "data": {
      "text/plain": [
       "[<matplotlib.lines.Line2D at 0x7f5884134a90>]"
      ]
     },
     "execution_count": 18,
     "metadata": {},
     "output_type": "execute_result"
    },
    {
     "data": {
      "image/png": "[encoded data removed]",
      "text/plain": [
       "<Figure size 640x480 with 1 Axes>"
      ]
     },
     "metadata": {},
     "output_type": "display_data"
    }
   ],
   "source": [
    "# Plotting a prettier loss\n",
    "plt.plot(torch.tensor(lossi).view(-1, 1000).mean(1))"
   ]
  },
  {
   "cell_type": "code",
   "execution_count": 95,
   "id": "155fd773",
   "metadata": {},
   "outputs": [],
   "source": [
    "# Putting layers into eval mode\n",
    "for layer in model.layers:\n",
    "    layer.training = False"
   ]
  },
  {
   "cell_type": "code",
   "execution_count": 96,
   "id": "3b731953",
   "metadata": {},
   "outputs": [
    {
     "name": "stdout",
     "output_type": "stream",
     "text": [
      "train 3.3022239208221436\n",
      "valid 3.3020124435424805\n"
     ]
    }
   ],
   "source": [
    "# Evaluating the loss\n",
    "@torch.no_grad()\n",
    "def split_loss(split):\n",
    "    x,y = {\n",
    "        'train': (Xtr, Ytr),\n",
    "        'valid': (Xval, Yval),\n",
    "        'test': (Xtest, Ytest),\n",
    "    }[split]\n",
    "    logits = model(x)\n",
    "    loss = F.cross_entropy(logits, y)\n",
    "    print(split, loss.item())\n",
    "\n",
    "split_loss('train')\n",
    "split_loss('valid')"
   ]
  },
  {
   "cell_type": "code",
   "execution_count": 97,
   "id": "59ef9c71",
   "metadata": {},
   "outputs": [
    {
     "name": "stdout",
     "output_type": "stream",
     "text": [
      "eghdzgwqjiiukrxqrpgfbfoozdwihkeyfko.\n",
      "dtrhhst.\n",
      "kzs.\n",
      "fiziztwcsdjrznlwgmkfcdx.\n",
      "vcckkanfnzdjtqiuatknucsmalpsqhnayqcsexwzwuedrnpzzarnekemgbeeaykw.\n",
      "iulodwgyuqghedcmiuerpwwubsnbztgmigeagtlyafdorjnvcoytliwawkpikmuubgmd.\n",
      "svgsgpmqxtosisopttnmhobsr.\n",
      "mxukzriomykh.\n",
      "gklvaglqghmyzj.\n",
      "qeuuspkekuduit.\n",
      "kurhlfxkrefkkmyfzrrtnmprzbrj.\n",
      "bslioglvjhmzovavcrmfknrixpycnizfwsrbvhygnnyxp.\n",
      "sjroqwmwbbwuycj.\n",
      "t.\n",
      "xcinzjdnunzgqeml.\n",
      "ebthasgdbwnzclzikfvzvhphbeltwcoljdvccbaukfm.\n",
      "wxcjhppvoeysyqoxlhmkjrcnmwqxzwuqvtsgukulvgh.\n",
      "fln.\n",
      "skw.\n",
      "txbpjuggxzacvoqspudsfrataqvityatmcdoeazwdmwtvvzkptmequllvqjxn.\n"
     ]
    }
   ],
   "source": [
    "# Sampling from the model\n",
    "for _ in range(20):\n",
    "    \n",
    "    out = []\n",
    "    context = [0] * block_size\n",
    "    while True:\n",
    "        # Forward pass the neural net\n",
    "        logits = model(torch.tensor([context]))\n",
    "        probs = F.softmax(logits, dim=1)\n",
    "        \n",
    "        # Sampling the distribution\n",
    "        ix = torch.multinomial(probs, num_samples=1).item()\n",
    "        \n",
    "        # Shift the context window and track the samples\n",
    "        context = context[1:] + [ix]\n",
    "        out.append(ix)\n",
    "        \n",
    "        # If we sample the special '.' token, break\n",
    "        if ix == 0:\n",
    "            break\n",
    "    \n",
    "    print(''.join(idx_to_chr[i] for i in out))"
   ]
  },
  {
   "cell_type": "markdown",
   "id": "c3949c51",
   "metadata": {},
   "source": [
    "# The WaveNet Architecture: Part I\n",
    "He we will slowly change the current architecture into the WaveNet architecture."
   ]
  },
  {
   "cell_type": "code",
   "execution_count": 22,
   "id": "96e6a856",
   "metadata": {},
   "outputs": [
    {
     "name": "stdout",
     "output_type": "stream",
     "text": [
      "torch.Size([4, 8])\n"
     ]
    },
    {
     "data": {
      "text/plain": [
       "tensor([[ 0,  0,  0,  0,  0,  0,  0,  0],\n",
       "        [ 0,  0,  0,  0,  0,  0,  0,  0],\n",
       "        [ 0,  0,  0,  0,  3,  9, 14, 17],\n",
       "        [ 0,  0,  0,  0,  0,  3,  1, 12]])"
      ]
     },
     "execution_count": 22,
     "metadata": {},
     "output_type": "execute_result"
    }
   ],
   "source": [
    "# Batch with four examples\n",
    "idx = torch.randint(0, Xtr.shape[0], (4,))\n",
    "Xb, Yb = Xtr[idx], Ytr[idx]\n",
    "logits = model(Xb)\n",
    "print(Xb.shape)\n",
    "Xb"
   ]
  },
  {
   "cell_type": "code",
   "execution_count": 24,
   "id": "5d438731",
   "metadata": {},
   "outputs": [
    {
     "data": {
      "text/plain": [
       "torch.Size([4, 8, 10])"
      ]
     },
     "execution_count": 24,
     "metadata": {},
     "output_type": "execute_result"
    }
   ],
   "source": [
    "# Output of Embedding layer\n",
    "model.layers[0].out.shape"
   ]
  },
  {
   "cell_type": "code",
   "execution_count": 26,
   "id": "e002d551",
   "metadata": {},
   "outputs": [
    {
     "data": {
      "text/plain": [
       "torch.Size([4, 80])"
      ]
     },
     "execution_count": 26,
     "metadata": {},
     "output_type": "execute_result"
    }
   ],
   "source": [
    "# Output of Flatten layer\n",
    "model.layers[1].out.shape"
   ]
  },
  {
   "cell_type": "code",
   "execution_count": 25,
   "id": "116a5726",
   "metadata": {},
   "outputs": [
    {
     "data": {
      "text/plain": [
       "torch.Size([4, 200])"
      ]
     },
     "execution_count": 25,
     "metadata": {},
     "output_type": "execute_result"
    }
   ],
   "source": [
    "# Output of Linear layer\n",
    "model.layers[2].out.shape"
   ]
  },
  {
   "cell_type": "markdown",
   "id": "6d3f7b28",
   "metadata": {},
   "source": [
    "When doing matrix multiplications it is only the last dimension that matters, while the other dimensions are maintained. This also means that one e.g. can maintain a \"batch dimension\" throughout ones calculations."
   ]
  },
  {
   "cell_type": "code",
   "execution_count": 28,
   "id": "70f4be4d",
   "metadata": {},
   "outputs": [
    {
     "data": {
      "text/plain": [
       "torch.Size([4, 5, 6, 200])"
      ]
     },
     "execution_count": 28,
     "metadata": {},
     "output_type": "execute_result"
    }
   ],
   "source": [
    "# Showing that only last dimension matters\n",
    "(torch.randn(4,5,6,80) @ torch.randn(80, 200) + torch.randn(200)).shape"
   ]
  },
  {
   "cell_type": "markdown",
   "id": "de896627",
   "metadata": {},
   "source": [
    "For the WaveNet architecture, we want each linear layer to fuse two characters as illustrated in the example below. In this example imagine having to samples, four characters, length three embeddings. "
   ]
  },
  {
   "cell_type": "code",
   "execution_count": 71,
   "id": "1ffeda58",
   "metadata": {},
   "outputs": [
    {
     "data": {
      "text/plain": [
       "tensor([[[ 0,  1,  2],\n",
       "         [ 3,  4,  5],\n",
       "         [ 6,  7,  8],\n",
       "         [ 9, 10, 11]],\n",
       "\n",
       "        [[12, 13, 14],\n",
       "         [15, 16, 17],\n",
       "         [18, 19, 20],\n",
       "         [21, 22, 23]]])"
      ]
     },
     "execution_count": 71,
     "metadata": {},
     "output_type": "execute_result"
    }
   ],
   "source": [
    "# Embedding example (samples, characters, embedding)\n",
    "x = torch.tensor(list(range(24))).view(2,4,3);x"
   ]
  },
  {
   "cell_type": "code",
   "execution_count": 72,
   "id": "b03f2465",
   "metadata": {},
   "outputs": [
    {
     "data": {
      "text/plain": [
       "tensor([[[ 0,  1,  2,  3,  4,  5],\n",
       "         [ 6,  7,  8,  9, 10, 11]],\n",
       "\n",
       "        [[12, 13, 14, 15, 16, 17],\n",
       "         [18, 19, 20, 21, 22, 23]]])"
      ]
     },
     "execution_count": 72,
     "metadata": {},
     "output_type": "execute_result"
    }
   ],
   "source": [
    "# Flattening char1 + char2 and char3 + char4\n",
    "n = 2 # Size of character groups\n",
    "B, T, C = x.shape\n",
    "x = x.view(B, T//n, C*n);x"
   ]
  },
  {
   "cell_type": "markdown",
   "id": "2a8dfd3f",
   "metadata": {},
   "source": [
    "Now let us implement this into the flatten layer, such that its eight characters can divided into four groups of two characters (each represented by a length 10 embedding)."
   ]
  },
  {
   "cell_type": "code",
   "execution_count": 73,
   "id": "75ed4167",
   "metadata": {},
   "outputs": [],
   "source": [
    "class FlattenConsecutive:\n",
    "    \n",
    "    def __init__(self, n):\n",
    "        \"\"\" Size of Groups of Characters \"\"\"\n",
    "        self.n = n\n",
    "  \n",
    "    def __call__(self, x):\n",
    "        \"\"\" Flattens Groups of Characters \"\"\"\n",
    "        B, T, C = x.shape\n",
    "        x = x.view(B, T//self.n, C*self.n)\n",
    "        if x.shape[1] == 1:\n",
    "            x = x.squeeze(1)\n",
    "        self.out = x\n",
    "        return self.out\n",
    "\n",
    "    def parameters(self):\n",
    "        \"\"\" Returning All Parameters \"\"\"\n",
    "        return []"
   ]
  },
  {
   "cell_type": "code",
   "execution_count": 81,
   "id": "ee4fd3ee",
   "metadata": {
    "scrolled": true
   },
   "outputs": [
    {
     "data": {
      "text/plain": [
       "tensor([[[ 0,  1,  2,  3,  4,  5],\n",
       "         [ 6,  7,  8,  9, 10, 11]],\n",
       "\n",
       "        [[12, 13, 14, 15, 16, 17],\n",
       "         [18, 19, 20, 21, 22, 23]]])"
      ]
     },
     "execution_count": 81,
     "metadata": {},
     "output_type": "execute_result"
    }
   ],
   "source": [
    "# Checking if we produce same results\n",
    "x = torch.tensor(list(range(24))).view(2,4,3);x\n",
    "FlattenConsecutive(2)(x)"
   ]
  },
  {
   "cell_type": "markdown",
   "id": "0ab15aa4",
   "metadata": {},
   "source": [
    "# Training WaveNet: Part I\n",
    "Here we try out our changes to the flatten layer, while also restructuring the consecutive layers such that they fit the new dimensions. The training loop remains the same."
   ]
  },
  {
   "cell_type": "code",
   "execution_count": 98,
   "id": "1cb8164e",
   "metadata": {},
   "outputs": [
    {
     "name": "stdout",
     "output_type": "stream",
     "text": [
      "170897\n"
     ]
    }
   ],
   "source": [
    "# Initializing Weights\n",
    "n_embd = 10\n",
    "n_hidden = 68 # To maintain same number of parameters as before\n",
    "block_size = 8\n",
    "vocab_size = len(chr_to_idx)\n",
    "\n",
    "# Model\n",
    "model = Sequential([\n",
    "    Embedding(vocab_size, n_embd),\n",
    "    FlattenConsecutive(2), Linear(n_embd * 2, n_hidden, bias=False), BatchNorm1d(n_hidden), Tanh(),\n",
    "    FlattenConsecutive(2), Linear(n_hidden * 2, n_hidden, bias=False), BatchNorm1d(n_hidden), Tanh(),\n",
    "    FlattenConsecutive(2), Linear(n_hidden * 2, n_hidden, bias=False), BatchNorm1d(n_hidden), Tanh(),\n",
    "    Linear(n_hidden, vocab_size),\n",
    "])\n",
    "\n",
    "# Adjusing initialization of layers\n",
    "with torch.no_grad():\n",
    "    # Making last layer less confident\n",
    "    model.layers[-1].weight *= 0.1\n",
    "\n",
    "# All parameters\n",
    "parameters = model.parameters()\n",
    "print(sum(p.nelement() for p in parameters))\n",
    "for p in parameters:\n",
    "    p.requires_grad = True"
   ]
  },
  {
   "cell_type": "code",
   "execution_count": 99,
   "id": "23685b72",
   "metadata": {},
   "outputs": [
    {
     "name": "stdout",
     "output_type": "stream",
     "text": [
      "      0/ 200000: 3.3046\n",
      "  10000/ 200000: 2.4840\n",
      "  20000/ 200000: 2.2932\n",
      "  30000/ 200000: 2.2576\n",
      "  40000/ 200000: 2.2168\n",
      "  50000/ 200000: 1.9239\n",
      "  60000/ 200000: 2.2394\n",
      "  70000/ 200000: 2.0329\n",
      "  80000/ 200000: 1.8825\n",
      "  90000/ 200000: 2.3298\n",
      " 100000/ 200000: 2.2283\n",
      " 110000/ 200000: 1.9634\n",
      " 120000/ 200000: 2.0114\n",
      " 130000/ 200000: 1.9212\n",
      " 140000/ 200000: 2.0269\n",
      " 150000/ 200000: 1.9801\n",
      " 160000/ 200000: 2.1339\n",
      " 170000/ 200000: 1.8648\n",
      " 180000/ 200000: 2.2444\n",
      " 190000/ 200000: 2.0944\n"
     ]
    }
   ],
   "source": [
    "max_steps = 200000\n",
    "batch_size = 64\n",
    "lr = 0.2\n",
    "lossi = []\n",
    "\n",
    "for step in range(max_steps):\n",
    "    \n",
    "    # Minibatch\n",
    "    ix = torch.randint(0, Xtr.shape[0], (batch_size,))\n",
    "    Xb, Yb = Xtr[ix], Ytr[ix]\n",
    "    \n",
    "    # Forward pass\n",
    "    logits = model(Xb)\n",
    "    loss = F.cross_entropy(logits, Yb)    \n",
    "    \n",
    "    # Backward pass\n",
    "    for p in parameters:\n",
    "        p.grad = None\n",
    "    loss.backward()\n",
    "\n",
    "    ## Update\n",
    "    lr = lr if step < 150000 else 0.01\n",
    "    for p in parameters:\n",
    "        p.data += -lr * 0.01 * p.grad        \n",
    "        \n",
    "    # Tracking stats\n",
    "    if not step % 10000:\n",
    "        print(f\"{step:7d}/{max_steps:7d}: {loss.item():.4f}\")\n",
    "    lossi.append(loss.log10().item())"
   ]
  },
  {
   "cell_type": "code",
   "execution_count": 100,
   "id": "6e8793b0",
   "metadata": {},
   "outputs": [
    {
     "name": "stdout",
     "output_type": "stream",
     "text": [
      "Embedding : (64, 8, 10)\n",
      "FlattenConsecutive : (64, 4, 20)\n",
      "Linear : (64, 4, 200)\n",
      "BatchNorm1d : (64, 4, 200)\n",
      "Tanh : (64, 4, 200)\n",
      "FlattenConsecutive : (64, 2, 400)\n",
      "Linear : (64, 2, 200)\n",
      "BatchNorm1d : (64, 2, 200)\n",
      "Tanh : (64, 2, 200)\n",
      "FlattenConsecutive : (64, 400)\n",
      "Linear : (64, 200)\n",
      "BatchNorm1d : (64, 200)\n",
      "Tanh : (64, 200)\n",
      "Linear : (64, 27)\n"
     ]
    }
   ],
   "source": [
    "# Printing layer shapes\n",
    "for layer in model.layers:\n",
    "    print(layer.__class__.__name__, ':', tuple(layer.out.shape))"
   ]
  },
  {
   "cell_type": "code",
   "execution_count": 101,
   "id": "793f359c",
   "metadata": {},
   "outputs": [
    {
     "data": {
      "text/plain": [
       "[<matplotlib.lines.Line2D at 0x7f5881672e60>]"
      ]
     },
     "execution_count": 101,
     "metadata": {},
     "output_type": "execute_result"
    },
    {
     "data": {
      "image/png": "[encoded data removed]",
      "text/plain": [
       "<Figure size 640x480 with 1 Axes>"
      ]
     },
     "metadata": {},
     "output_type": "display_data"
    }
   ],
   "source": [
    "# Plotting loss\n",
    "plt.plot(torch.tensor(lossi).view(-1, 1000).mean(1))"
   ]
  },
  {
   "cell_type": "code",
   "execution_count": 103,
   "id": "eacc53d0",
   "metadata": {},
   "outputs": [],
   "source": [
    "# Putting layers into eval mode\n",
    "for layer in model.layers:\n",
    "    layer.training = False"
   ]
  },
  {
   "cell_type": "code",
   "execution_count": 104,
   "id": "c5399664",
   "metadata": {},
   "outputs": [
    {
     "name": "stdout",
     "output_type": "stream",
     "text": [
      "train 1.9611910581588745\n",
      "valid 2.038606882095337\n"
     ]
    }
   ],
   "source": [
    "# Evaluating the loss\n",
    "split_loss('train')\n",
    "split_loss('valid')"
   ]
  },
  {
   "cell_type": "markdown",
   "id": "2c79c7c9",
   "metadata": {},
   "source": [
    "# The WaveNet Architecture: Part II\n",
    "Our batch norm layer was originally built to handle two-dimensional tensors, but as we added a dimension to accomodate the new architecture the old bachnorm layer now introduces a bug. Here we rewrite the BacchNorm-class such that it handles more dimensions but taking just a single mean over the extra dimensions instead of making multiple means."
   ]
  },
  {
   "cell_type": "code",
   "execution_count": 106,
   "id": "d2d54bed",
   "metadata": {},
   "outputs": [],
   "source": [
    "class BatchNorm2d:\n",
    "    \n",
    "    def __init__(self, dim, eps=1e-5, momentum=0.1):\n",
    "        \"\"\" Initializing Batchnorm Weights \"\"\"\n",
    "        self.eps = eps\n",
    "        self.momentum = momentum\n",
    "        self.training = True\n",
    "        \n",
    "        # Batchnorm Shift Parameters\n",
    "        self.gamma = torch.ones(dim)\n",
    "        self.beta = torch.zeros(dim)\n",
    "        \n",
    "        # Running batchnorm Mean and Variance\n",
    "        self.running_mean = torch.zeros(dim)\n",
    "        self.running_var = torch.ones(dim)\n",
    "        \n",
    "    def __call__(self, x):\n",
    "        \"\"\" Forward Pass and Buffers \"\"\"\n",
    "        if self.training:\n",
    "            if x.ndim == 2:\n",
    "                dim = 0\n",
    "            if x.ndim == 3:\n",
    "                dim = (0,1)\n",
    "            xmean = x.mean(dim, keepdim=True)\n",
    "            xvar = x.var(dim, keepdim=True, unbiased=True)\n",
    "        else:\n",
    "            xmean = self.running_mean\n",
    "            xvar = self.running_var\n",
    "        xhat = (x - xmean) / torch.sqrt(xvar + self.eps)\n",
    "        self.out = self.gamma * xhat + self.beta\n",
    "        \n",
    "        if self.training:\n",
    "            with torch.no_grad():\n",
    "                self.running_mean = (1 - self.momentum) * self.running_mean + self.momentum * xmean\n",
    "                self.running_var = (1 - self.momentum) * self.running_var + self.momentum * xvar\n",
    "        return self.out\n",
    "    \n",
    "    def parameters(self):\n",
    "        return [self.gamma, self.beta]"
   ]
  },
  {
   "cell_type": "markdown",
   "id": "c9633ed1",
   "metadata": {},
   "source": [
    "# Training WaveNet: Part II\n",
    "Here we try out our changes to the batchnorm layer."
   ]
  },
  {
   "cell_type": "code",
   "execution_count": 115,
   "id": "3c959def",
   "metadata": {},
   "outputs": [
    {
     "name": "stdout",
     "output_type": "stream",
     "text": [
      "76579\n"
     ]
    }
   ],
   "source": [
    "# Initializing Weights\n",
    "n_embd = 24\n",
    "n_hidden = 128\n",
    "block_size = 8\n",
    "vocab_size = len(chr_to_idx)\n",
    "\n",
    "# Model\n",
    "model = Sequential([\n",
    "    Embedding(vocab_size, n_embd),\n",
    "    FlattenConsecutive(2), Linear(n_embd * 2, n_hidden, bias=False), BatchNorm2d(n_hidden), Tanh(),\n",
    "    FlattenConsecutive(2), Linear(n_hidden * 2, n_hidden, bias=False), BatchNorm2d(n_hidden), Tanh(),\n",
    "    FlattenConsecutive(2), Linear(n_hidden * 2, n_hidden, bias=False), BatchNorm2d(n_hidden), Tanh(),\n",
    "    Linear(n_hidden, vocab_size),\n",
    "])\n",
    "\n",
    "# Adjusing initialization of layers\n",
    "with torch.no_grad():\n",
    "    # Making last layer less confident\n",
    "    model.layers[-1].weight *= 0.1\n",
    "\n",
    "# All parameters\n",
    "parameters = model.parameters()\n",
    "print(sum(p.nelement() for p in parameters))\n",
    "for p in parameters:\n",
    "    p.requires_grad = True"
   ]
  },
  {
   "cell_type": "code",
   "execution_count": 116,
   "id": "f6a84897",
   "metadata": {},
   "outputs": [
    {
     "name": "stdout",
     "output_type": "stream",
     "text": [
      "      0/ 200000: 3.3123\n",
      "  10000/ 200000: 2.7683\n",
      "  20000/ 200000: 2.5023\n",
      "  30000/ 200000: 2.2684\n",
      "  40000/ 200000: 2.4498\n",
      "  50000/ 200000: 2.1787\n",
      "  60000/ 200000: 2.3923\n",
      "  70000/ 200000: 1.8948\n",
      "  80000/ 200000: 2.2357\n",
      "  90000/ 200000: 2.1548\n",
      " 100000/ 200000: 2.3416\n",
      " 110000/ 200000: 2.3453\n",
      " 120000/ 200000: 2.1047\n",
      " 130000/ 200000: 2.0341\n",
      " 140000/ 200000: 2.3591\n",
      " 150000/ 200000: 1.6917\n",
      " 160000/ 200000: 2.2811\n",
      " 170000/ 200000: 2.2195\n",
      " 180000/ 200000: 2.0671\n",
      " 190000/ 200000: 1.8387\n"
     ]
    }
   ],
   "source": [
    "max_steps = 200000\n",
    "batch_size = 32\n",
    "lr = 0.1\n",
    "lossi = []\n",
    "\n",
    "for step in range(max_steps):\n",
    "    \n",
    "    # Minibatch\n",
    "    ix = torch.randint(0, Xtr.shape[0], (batch_size,))\n",
    "    Xb, Yb = Xtr[ix], Ytr[ix]\n",
    "    \n",
    "    # Forward pass\n",
    "    logits = model(Xb)\n",
    "    loss = F.cross_entropy(logits, Yb)    \n",
    "    \n",
    "    # Backward pass\n",
    "    for p in parameters:\n",
    "        p.grad = None\n",
    "    loss.backward()\n",
    "\n",
    "    ## Update\n",
    "    lr = lr if step < 150000 else 0.01\n",
    "    for p in parameters:\n",
    "        p.data += -lr * 0.01 * p.grad        \n",
    "        \n",
    "    # Tracking stats\n",
    "    if not step % 10000:\n",
    "        print(f\"{step:7d}/{max_steps:7d}: {loss.item():.4f}\")\n",
    "    lossi.append(loss.log10().item())"
   ]
  },
  {
   "cell_type": "code",
   "execution_count": 117,
   "id": "54cc5208",
   "metadata": {},
   "outputs": [
    {
     "data": {
      "text/plain": [
       "[<matplotlib.lines.Line2D at 0x7f58836891b0>]"
      ]
     },
     "execution_count": 117,
     "metadata": {},
     "output_type": "execute_result"
    },
    {
     "data": {
      "image/png": "[encoded data removed]",
      "text/plain": [
       "<Figure size 640x480 with 1 Axes>"
      ]
     },
     "metadata": {},
     "output_type": "display_data"
    }
   ],
   "source": [
    "# Plotting loss\n",
    "plt.plot(torch.tensor(lossi).view(-1, 1000).mean(1))"
   ]
  },
  {
   "cell_type": "code",
   "execution_count": 118,
   "id": "edf8dd41",
   "metadata": {},
   "outputs": [],
   "source": [
    "# Putting layers into eval mode\n",
    "for layer in model.layers:\n",
    "    layer.training = False"
   ]
  },
  {
   "cell_type": "code",
   "execution_count": 119,
   "id": "72580457",
   "metadata": {},
   "outputs": [
    {
     "name": "stdout",
     "output_type": "stream",
     "text": [
      "train 2.073917865753174\n",
      "valid 2.106062889099121\n"
     ]
    }
   ],
   "source": [
    "# Evaluating the loss\n",
    "split_loss('train')\n",
    "split_loss('valid')"
   ]
  },
  {
   "cell_type": "markdown",
   "id": "9453c540",
   "metadata": {},
   "source": [
    "# Final Notes\n",
    "Though it seems like the models are becoming better, we will need a bigger setup to verify this. E.g. we during training we should evaluate the model on the validation set to see when to stop, and when we have out final models we should test them on the \"test\" dataset for comparison. Also we have no experiment tracking. Many of these things will be covered in the following lessons. "
   ]
  }
 ],
 "metadata": {
  "kernelspec": {
   "display_name": "Python 3 (ipykernel)",
   "language": "python",
   "name": "python3"
  },
  "language_info": {
   "codemirror_mode": {
    "name": "ipython",
    "version": 3
   },
   "file_extension": ".py",
   "mimetype": "text/x-python",
   "name": "python",
   "nbconvert_exporter": "python",
   "pygments_lexer": "ipython3",
   "version": "3.10.6"
  }
 },
 "nbformat": 4,
 "nbformat_minor": 5
}
