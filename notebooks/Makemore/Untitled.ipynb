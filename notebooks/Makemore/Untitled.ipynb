{
 "cells": [
  {
   "cell_type": "markdown",
   "id": "f8b2896f",
   "metadata": {},
   "source": [
    "# Introduction\n",
    "In the last notebook we saw that MLPs with multiple layers are pretty good at coming up with names. In this notebook we dive deep into the network to understand what is going on and how to do diagnostics.\n",
    "\n",
    "We will go though the following:\n",
    "\n",
    "*\n",
    "*\n",
    "\n",
    "\n",
    "We dive into some of the internals of MLPs with multiple layers and scrutinize the statistics of the forward pass activations, backward pass gradients, and some of the pitfalls when they are improperly scaled. We also look at the typical diagnostic tools and visualizations you'd want to use to understand the health of your deep network. We learn why training deep neural nets can be fragile and introduce the first modern innovation that made doing so much easier: Batch Normalization. Residual connections and the Adam optimizer remain notable todos for later video."
   ]
  },
  {
   "cell_type": "markdown",
   "id": "22ce022f",
   "metadata": {},
   "source": [
    "# Libraries"
   ]
  },
  {
   "cell_type": "code",
   "execution_count": 2,
   "id": "71aa85bc",
   "metadata": {},
   "outputs": [],
   "source": [
    "%matplotlib inline\n",
    "%config IPCompleter.use_jedi=False"
   ]
  },
  {
   "cell_type": "code",
   "execution_count": 8,
   "id": "bd57ba1c",
   "metadata": {},
   "outputs": [],
   "source": [
    "import random\n",
    "import torch\n",
    "import torch.nn.functional as F\n",
    "import matplotlib.pyplot as plt"
   ]
  },
  {
   "cell_type": "markdown",
   "id": "eb08b00f",
   "metadata": {},
   "source": [
    "# Data\n",
    "This step is pretty much equiviant of that in the previous notebook, so we will not go into depth on how the dataset is created."
   ]
  },
  {
   "cell_type": "markdown",
   "id": "ed860e70",
   "metadata": {},
   "source": [
    "### Reading the Data"
   ]
  },
  {
   "cell_type": "code",
   "execution_count": 4,
   "id": "19d76b0f",
   "metadata": {},
   "outputs": [],
   "source": [
    "# Reading names into a list\n",
    "with open('../../data/names.txt', 'r') as f:\n",
    "    names = f.readlines()\n",
    "    names = [name.strip() for name in names]"
   ]
  },
  {
   "cell_type": "markdown",
   "id": "fc6cd69f",
   "metadata": {},
   "source": [
    "### Creating Vocabulary"
   ]
  },
  {
   "cell_type": "code",
   "execution_count": 5,
   "id": "54d9704c",
   "metadata": {},
   "outputs": [
    {
     "name": "stdout",
     "output_type": "stream",
     "text": [
      "{'a': 1, 'b': 2, 'c': 3, 'd': 4, 'e': 5, 'f': 6, 'g': 7, 'h': 8, 'i': 9, 'j': 10, 'k': 11, 'l': 12, 'm': 13, 'n': 14, 'o': 15, 'p': 16, 'q': 17, 'r': 18, 's': 19, 't': 20, 'u': 21, 'v': 22, 'w': 23, 'x': 24, 'y': 25, 'z': 26}\n",
      "{1: 'a', 2: 'b', 3: 'c', 4: 'd', 5: 'e', 6: 'f', 7: 'g', 8: 'h', 9: 'i', 10: 'j', 11: 'k', 12: 'l', 13: 'm', 14: 'n', 15: 'o', 16: 'p', 17: 'q', 18: 'r', 19: 's', 20: 't', 21: 'u', 22: 'v', 23: 'w', 24: 'x', 25: 'y', 26: 'z', 0: '.'}\n"
     ]
    }
   ],
   "source": [
    "# Building the vocabulary (character to/from index)\n",
    "chars = sorted(list(set(''.join(names))))\n",
    "chr_to_idx = {s:i+1 for i,s in enumerate(chars)}; print(chr_to_idx)\n",
    "chr_to_idx['.'] = 0\n",
    "idx_to_chr = {i:s for s,i in chr_to_idx.items()}; print(idx_to_chr)"
   ]
  },
  {
   "cell_type": "markdown",
   "id": "f961ba14",
   "metadata": {},
   "source": [
    "### Preparing Dataset"
   ]
  },
  {
   "cell_type": "code",
   "execution_count": 6,
   "id": "15e7cbca",
   "metadata": {},
   "outputs": [],
   "source": [
    "def build_dataset(words: list, block_size: int = 3, verbose: bool = False) -> tuple:\n",
    "    \"\"\"\n",
    "    Description:\n",
    "        Take a list of words and creates Xs and Ys give\n",
    "        a block size. E.g. block_size=3 for emma would \n",
    "        result in:\n",
    "            ... ---> e  \n",
    "            ..e ---> m  \n",
    "            .em ---> m  \n",
    "            emm ---> a  \n",
    "            mma ---> . \n",
    "        Stored in a (n, 3) tensor\n",
    "    Inputs:\n",
    "        words: List of words\n",
    "        block_size: The context window\n",
    "        verbose: Where to print the outputs\n",
    "    Ouputs:\n",
    "        A (n, block_size) tensor with Xs\n",
    "        A (n) tensor with Ys\n",
    "    \"\"\"\n",
    "    X, Y = [], []\n",
    "    for word in words:\n",
    "        if verbose:\n",
    "            print(word)\n",
    "        context = [0] * block_size\n",
    "        for char in word + '.':\n",
    "            idx = chr_to_idx[char]\n",
    "            X.append(context)\n",
    "            Y.append(idx)\n",
    "            if verbose:\n",
    "                print(''.join(idx_to_chr[i] for i in context), idx_to_chr[idx])\n",
    "            context = context[1:] + [idx]\n",
    "    \n",
    "    X = torch.tensor(X)\n",
    "    Y = torch.tensor(Y)\n",
    "    \n",
    "    return X, Y"
   ]
  },
  {
   "cell_type": "code",
   "execution_count": 9,
   "id": "8e3399bd",
   "metadata": {},
   "outputs": [],
   "source": [
    "# Putting names in random order\n",
    "random.shuffle(names)\n",
    "\n",
    "# Creating split indices\n",
    "n1 = int(0.8 * len(names))\n",
    "n2 = int(0.9 * len(names))"
   ]
  },
  {
   "cell_type": "code",
   "execution_count": 11,
   "id": "0bdfbe3a",
   "metadata": {},
   "outputs": [
    {
     "name": "stdout",
     "output_type": "stream",
     "text": [
      "torch.Size([182509])\n",
      "torch.Size([22925])\n",
      "torch.Size([22712])\n"
     ]
    }
   ],
   "source": [
    "# Building training, validation and test sets\n",
    "Xtr, Ytr = build_dataset(names[:n1]); print(Ytr.size())\n",
    "Xval, Yval = build_dataset(names[n1:n2]); print(Yval.size())\n",
    "Xtest, Ytest = build_dataset(names[n2:]); print(Ytest.size())"
   ]
  },
  {
   "cell_type": "markdown",
   "id": "8bbdf6f0",
   "metadata": {},
   "source": [
    "# Building Network\n",
    "We build a similar MLP to that in the previous notebook."
   ]
  },
  {
   "cell_type": "code",
   "execution_count": 46,
   "id": "df07d905",
   "metadata": {},
   "outputs": [
    {
     "name": "stdout",
     "output_type": "stream",
     "text": [
      "Number of parameters: 11897\n"
     ]
    }
   ],
   "source": [
    "n_embd = 10\n",
    "n_hidden = 200\n",
    "block_size = 3\n",
    "vocab_size = len(chr_to_idx)\n",
    "\n",
    "# Lookup table\n",
    "C = torch.randn([vocab_size, n_embd])\n",
    "\n",
    "# Weights and biases\n",
    "W1 = torch.randn([n_embd * block_size, n_hidden])\n",
    "b1 = torch.randn([n_hidden])\n",
    "W2 = torch.randn([n_hidden, vocab_size])\n",
    "b2 = torch.randn([vocab_size])\n",
    "\n",
    "# Placing parameters in list\n",
    "parameters = [C, W1, b1, W2, b2]\n",
    "\n",
    "# Enabling gradients\n",
    "for p in parameters:\n",
    "    p.requires_grad = True\n",
    "print(\"Number of parameters: \" + str(sum(p.nelement() for p in parameters)))"
   ]
  },
  {
   "cell_type": "markdown",
   "id": "68a9bbc1",
   "metadata": {},
   "source": [
    "# Training\n",
    "We use the same training loop as in the previous notebook. We have, however, refactored a bit, and defined a method for calculating the loss without messing with the gradients."
   ]
  },
  {
   "cell_type": "code",
   "execution_count": 50,
   "id": "031e2846",
   "metadata": {},
   "outputs": [],
   "source": [
    "@torch.no_grad() # Decorator disables gradient tracking\n",
    "def split_loss(split: str = 'train', print_loss: bool = False) -> None:\n",
    "    \"\"\"\n",
    "    Description:\n",
    "        Prints the loss of a chosen split\n",
    "    Inputs:\n",
    "        split: train, valid, or test\n",
    "    \"\"\"\n",
    "    x,y = {\n",
    "        'train': (Xtr, Ytr),\n",
    "        'valid': (Xval, Yval),\n",
    "        'test': (Xtest, Ytest),\n",
    "    }[split]\n",
    "    emb = C[x]\n",
    "    emb_cat = emb.view(emb.shape[0], -1)\n",
    "    h_preactiv = emb_cat @ W1 + b1\n",
    "    h = torch.tanh(h_preactiv)\n",
    "    logits = h @ W2 + b2\n",
    "    loss = F.cross_entropy(logits, y) \n",
    "    \n",
    "    if print_loss:\n",
    "        print(split, loss.item())\n",
    "    else :\n",
    "        return loss.item()"
   ]
  },
  {
   "cell_type": "code",
   "execution_count": 51,
   "id": "b3c36f39",
   "metadata": {},
   "outputs": [],
   "source": [
    "losses = {\"Train\": [], \"Val\": []}"
   ]
  },
  {
   "cell_type": "code",
   "execution_count": 58,
   "id": "04f84984",
   "metadata": {},
   "outputs": [],
   "source": [
    "epochs = 100000\n",
    "batch_size = 64\n",
    "lr = 0.1\n",
    "\n",
    "for epoch in range(epochs):\n",
    "    \n",
    "    # Minibatch\n",
    "    ix = torch.randint(0, Xtr.shape[0], (batch_size,))\n",
    "    Xb, Yb = Xtr[ix], Ytr[ix]\n",
    "    \n",
    "    # Forward pass\n",
    "    emb = C[Xb]\n",
    "    emb_cat = emb.view(emb.shape[0], -1)\n",
    "    h_preactiv = emb_cat @ W1 + b1\n",
    "    h = torch.tanh(h_preactiv)\n",
    "    logits = h @ W2 + b2\n",
    "    loss = F.cross_entropy(logits, Yb)    \n",
    "    \n",
    "    # Backward pass\n",
    "    for p in parameters:\n",
    "        p.grad = None\n",
    "    loss.backward()\n",
    "\n",
    "    ## Update\n",
    "    if epoch < 30000:\n",
    "        for p in parameters:\n",
    "            p.data += -lr * p.grad\n",
    "    elif epoch < 60000:\n",
    "        for p in parameters:\n",
    "            p.data += -lr * 0.1 * p.grad\n",
    "    else:\n",
    "        for p in parameters:\n",
    "            p.data += -lr * 0.01 * p.grad        \n",
    "        \n",
    "    # Tracking stats\n",
    "    losses[\"Train\"].append(loss.item())\n",
    "    #losses[\"Val\"].append(split_loss(\"valid\"))"
   ]
  },
  {
   "cell_type": "code",
   "execution_count": 59,
   "id": "5907fd65",
   "metadata": {},
   "outputs": [
    {
     "data": {
      "image/png": "[encoded data removed]",
      "text/plain": [
       "<Figure size 640x480 with 1 Axes>"
      ]
     },
     "metadata": {},
     "output_type": "display_data"
    }
   ],
   "source": [
    "# Plotting training and validation losses\n",
    "xs = list(range(1, len(losses[\"Train\"])+1))\n",
    "plt.plot(xs, losses[\"Train\"], label = \"Train\", color=\"green\")\n",
    "#plt.plot(xs, losses[\"Val\"], label = \"Valid\", color=\"red\")\n",
    "plt.legend()\n",
    "plt.show()"
   ]
  },
  {
   "cell_type": "code",
   "execution_count": 60,
   "id": "08a66c76",
   "metadata": {},
   "outputs": [
    {
     "name": "stdout",
     "output_type": "stream",
     "text": [
      "train 2.1410491466522217\n",
      "valid 2.1836094856262207\n"
     ]
    }
   ],
   "source": [
    "split_loss(\"train\", print_loss=True)\n",
    "split_loss(\"valid\", print_loss=True)"
   ]
  },
  {
   "cell_type": "markdown",
   "id": "2c53e946",
   "metadata": {},
   "source": [
    "# Generating Names"
   ]
  },
  {
   "cell_type": "code",
   "execution_count": 61,
   "id": "de65bb86",
   "metadata": {},
   "outputs": [
    {
     "name": "stdout",
     "output_type": "stream",
     "text": [
      "chana.\n",
      "mellena.\n",
      "bolda.\n",
      "tersipzon.\n",
      "daja.\n",
      "raevanmalyn.\n",
      "abnoea.\n",
      "ann.\n",
      "mir.\n",
      "ala.\n",
      "kayliah.\n",
      "ashalick.\n",
      "lafidai.\n",
      "mauliia.\n",
      "kari.\n",
      "carystynn.\n",
      "ros.\n",
      "rymi.\n",
      "creniah.\n",
      "tyleighorghank.\n"
     ]
    }
   ],
   "source": [
    "number_of_names = 20\n",
    "\n",
    "for _ in range(number_of_names):\n",
    "    \n",
    "    char_idx = []\n",
    "    context = [0] * block_size # Initialize with all ...\n",
    "    while True:\n",
    "        emb = C[torch.tensor([context])] # Embeddings for context\n",
    "        h = torch.tanh(emb.view(1, -1) @ W1 + b1)\n",
    "        logits = h @ W2 + b2\n",
    "        probs = F.softmax(logits, dim=1)\n",
    "        idx = torch.multinomial(probs, num_samples=1).item()\n",
    "        context = context[1:] + [idx]\n",
    "        char_idx.append(idx)\n",
    "        if idx == 0:\n",
    "            break\n",
    "    \n",
    "    print(''.join(idx_to_chr[char_idx] for char_idx in char_idx))"
   ]
  },
  {
   "cell_type": "code",
   "execution_count": null,
   "id": "87d18ef7",
   "metadata": {},
   "outputs": [],
   "source": []
  },
  {
   "cell_type": "code",
   "execution_count": null,
   "id": "c3304532",
   "metadata": {},
   "outputs": [],
   "source": []
  },
  {
   "cell_type": "code",
   "execution_count": null,
   "id": "6bdb49b1",
   "metadata": {},
   "outputs": [],
   "source": [
    "\n",
    "\n",
    "\n",
    "\n",
    "\n",
    "\n",
    "\n",
    "\n",
    "\n",
    "\n",
    "\n",
    "\n",
    "\n",
    "\n",
    "\n",
    "\n",
    "\n",
    "\n",
    "\n",
    "\n",
    "\n",
    "\n",
    "\n"
   ]
  },
  {
   "cell_type": "code",
   "execution_count": null,
   "id": "a9e090bc",
   "metadata": {},
   "outputs": [],
   "source": [
    "# https://www.youtube.com/watch?v=P6sfmUTpUmc"
   ]
  }
 ],
 "metadata": {
  "kernelspec": {
   "display_name": "Python 3 (ipykernel)",
   "language": "python",
   "name": "python3"
  },
  "language_info": {
   "codemirror_mode": {
    "name": "ipython",
    "version": 3
   },
   "file_extension": ".py",
   "mimetype": "text/x-python",
   "name": "python",
   "nbconvert_exporter": "python",
   "pygments_lexer": "ipython3",
   "version": "3.10.6"
  }
 },
 "nbformat": 4,
 "nbformat_minor": 5
}
