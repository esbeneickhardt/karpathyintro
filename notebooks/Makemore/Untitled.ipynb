{
 "cells": [
  {
   "cell_type": "markdown",
   "id": "e16dc3e6",
   "metadata": {},
   "source": [
    "# Introduction\n",
    "We take the 2-layer MLP from previous video and make it deeper with a tree-like structure, arriving at a convolutional neural network architecture similar to the WaveNet (2016) from DeepMind. In the WaveNet paper, the same hierarchical architecture is implemented more efficiently using causal dilated convolutions (not yet covered). Along the way we get a better sense of torch.nn and what it is and how it works under the hood, and what a typical deep learning development process looks like (a lot of reading of documentation, keeping track of multidimensional tensor shapes, moving between jupyter notebooks and repository code, ...)."
   ]
  },
  {
   "cell_type": "markdown",
   "id": "3e8a4384",
   "metadata": {},
   "source": [
    "# Libraries"
   ]
  },
  {
   "cell_type": "code",
   "execution_count": 2,
   "id": "8de1d39b",
   "metadata": {},
   "outputs": [],
   "source": [
    "%matplotlib inline\n",
    "%config IPCompleter.use_jedi=False"
   ]
  },
  {
   "cell_type": "code",
   "execution_count": 1,
   "id": "4043d1f9",
   "metadata": {},
   "outputs": [],
   "source": [
    "import random\n",
    "import torch\n",
    "import torch.nn.functional as F\n",
    "import matplotlib.pyplot as plt"
   ]
  },
  {
   "cell_type": "markdown",
   "id": "aff9abc0",
   "metadata": {},
   "source": [
    "# Data"
   ]
  },
  {
   "cell_type": "markdown",
   "id": "a1b2906e",
   "metadata": {},
   "source": [
    "### Reading the Data"
   ]
  },
  {
   "cell_type": "code",
   "execution_count": 3,
   "id": "7273b2ef",
   "metadata": {},
   "outputs": [],
   "source": [
    "# Reading names into a list\n",
    "with open('../../data/names.txt', 'r') as f:\n",
    "    names = f.readlines()\n",
    "    names = [name.strip() for name in names]"
   ]
  },
  {
   "cell_type": "markdown",
   "id": "e384904a",
   "metadata": {},
   "source": [
    "### Creating Vocabulary"
   ]
  },
  {
   "cell_type": "code",
   "execution_count": 4,
   "id": "a00334cf",
   "metadata": {},
   "outputs": [
    {
     "name": "stdout",
     "output_type": "stream",
     "text": [
      "{'a': 1, 'b': 2, 'c': 3, 'd': 4, 'e': 5, 'f': 6, 'g': 7, 'h': 8, 'i': 9, 'j': 10, 'k': 11, 'l': 12, 'm': 13, 'n': 14, 'o': 15, 'p': 16, 'q': 17, 'r': 18, 's': 19, 't': 20, 'u': 21, 'v': 22, 'w': 23, 'x': 24, 'y': 25, 'z': 26}\n",
      "{1: 'a', 2: 'b', 3: 'c', 4: 'd', 5: 'e', 6: 'f', 7: 'g', 8: 'h', 9: 'i', 10: 'j', 11: 'k', 12: 'l', 13: 'm', 14: 'n', 15: 'o', 16: 'p', 17: 'q', 18: 'r', 19: 's', 20: 't', 21: 'u', 22: 'v', 23: 'w', 24: 'x', 25: 'y', 26: 'z', 0: '.'}\n"
     ]
    }
   ],
   "source": [
    "# Building the vocabulary (character to/from index)\n",
    "chars = sorted(list(set(''.join(names))))\n",
    "chr_to_idx = {s:i+1 for i,s in enumerate(chars)}; print(chr_to_idx)\n",
    "chr_to_idx['.'] = 0\n",
    "idx_to_chr = {i:s for s,i in chr_to_idx.items()}; print(idx_to_chr)"
   ]
  },
  {
   "cell_type": "markdown",
   "id": "eed6da98",
   "metadata": {},
   "source": [
    "### Building dataset"
   ]
  },
  {
   "cell_type": "code",
   "execution_count": 5,
   "id": "605fed08",
   "metadata": {},
   "outputs": [],
   "source": [
    "def build_dataset(words: list, block_size: int = 3, verbose: bool = False) -> tuple:\n",
    "    \"\"\"\n",
    "    Description:\n",
    "        Take a list of words and creates Xs and Ys give\n",
    "        a block size. E.g. block_size=3 for emma would \n",
    "        result in:\n",
    "            ... ---> e  \n",
    "            ..e ---> m  \n",
    "            .em ---> m  \n",
    "            emm ---> a  \n",
    "            mma ---> . \n",
    "        Stored in a (n, 3) tensor\n",
    "    Inputs:\n",
    "        words: List of words\n",
    "        block_size: The context window\n",
    "        verbose: Where to print the outputs\n",
    "    Ouputs:\n",
    "        A (n, block_size) tensor with Xs\n",
    "        A (n) tensor with Ys\n",
    "    \"\"\"\n",
    "    X, Y = [], []\n",
    "    for word in words:\n",
    "        if verbose:\n",
    "            print(word)\n",
    "        context = [0] * block_size\n",
    "        for char in word + '.':\n",
    "            idx = chr_to_idx[char]\n",
    "            X.append(context)\n",
    "            Y.append(idx)\n",
    "            if verbose:\n",
    "                print(''.join(idx_to_chr[i] for i in context), idx_to_chr[idx])\n",
    "            context = context[1:] + [idx]\n",
    "    \n",
    "    X = torch.tensor(X)\n",
    "    Y = torch.tensor(Y)\n",
    "    \n",
    "    return X, Y"
   ]
  },
  {
   "cell_type": "code",
   "execution_count": 6,
   "id": "db5b7358",
   "metadata": {},
   "outputs": [],
   "source": [
    "# Putting names in random order\n",
    "random.shuffle(names)\n",
    "\n",
    "# Creating split indices\n",
    "n1 = int(0.8 * len(names))\n",
    "n2 = int(0.9 * len(names))"
   ]
  },
  {
   "cell_type": "code",
   "execution_count": 7,
   "id": "fa78cefc",
   "metadata": {},
   "outputs": [
    {
     "name": "stdout",
     "output_type": "stream",
     "text": [
      "torch.Size([182323])\n",
      "torch.Size([22857])\n",
      "torch.Size([22966])\n"
     ]
    }
   ],
   "source": [
    "# Building training, validation and test sets\n",
    "Xtr, Ytr = build_dataset(names[:n1]); print(Ytr.size())\n",
    "Xval, Yval = build_dataset(names[n1:n2]); print(Yval.size())\n",
    "Xtest, Ytest = build_dataset(names[n2:]); print(Ytest.size())"
   ]
  },
  {
   "cell_type": "markdown",
   "id": "0b1d7cad",
   "metadata": {},
   "source": [
    "# Network Building Blocks\n",
    "We are going to reuse the blocks we created in a previous lecture, and add a few extra, such that we can build the wavenet architecture."
   ]
  },
  {
   "cell_type": "code",
   "execution_count": 8,
   "id": "7d3461bc",
   "metadata": {},
   "outputs": [],
   "source": [
    "class Linear:\n",
    "    \n",
    "    def __init__(self, fan_in, fan_out, bias=True):\n",
    "        \"\"\" Initializes Weights \"\"\"\n",
    "        self.weight = torch.randn((fan_in, fan_out)) / fan_in**0.5\n",
    "        self.bias = torch.zeros(fan_out) if bias else None\n",
    "        \n",
    "    def __call__(self, x):\n",
    "        \"\"\" Forward Pass \"\"\"\n",
    "        self.out = x @ self.weight\n",
    "        if self.bias is not None:\n",
    "            self.out += self.bias\n",
    "        return self.out\n",
    "    \n",
    "    def parameters(self):\n",
    "        \"\"\" Returning  All Parameters \"\"\"\n",
    "        return [self.weight] + ([] if self.bias is None else [self.bias])"
   ]
  },
  {
   "cell_type": "code",
   "execution_count": 9,
   "id": "609362ee",
   "metadata": {},
   "outputs": [],
   "source": [
    "class BatchNorm1d:\n",
    "    \n",
    "    def __init__(self, dim, eps=1e-5, momentum=0.1):\n",
    "        \"\"\" Initializing Batchnorm Weights \"\"\"\n",
    "        self.eps = eps\n",
    "        self.momentum = momentum\n",
    "        self.training = True\n",
    "        \n",
    "        # Batchnorm Shift Parameters\n",
    "        self.gamma = torch.ones(dim)\n",
    "        self.beta = torch.zeros(dim)\n",
    "        \n",
    "        # Running batchnorm Mean and Variance\n",
    "        self.running_mean = torch.zeros(dim)\n",
    "        self.running_var = torch.ones(dim)\n",
    "        \n",
    "    def __call__(self, x):\n",
    "        \"\"\" Forward Pass and Buffers \"\"\"\n",
    "        if self.training:\n",
    "            xmean = x.mean(0, keepdim=True)\n",
    "            xvar = x.var(0, keepdim=True, unbiased=True)\n",
    "        else:\n",
    "            xmean = self.running_mean\n",
    "            xvar = self.running_var\n",
    "        xhat = (x - xmean) / torch.sqrt(xvar + self.eps)\n",
    "        self.out = self.gamma * xhat + self.beta\n",
    "        \n",
    "        if self.training:\n",
    "            with torch.no_grad():\n",
    "                self.running_mean = (1 - self.momentum) * self.running_mean + self.momentum * xmean\n",
    "                self.running_var = (1 - self.momentum) * self.running_var + self.momentum * xvar\n",
    "        return self.out\n",
    "    \n",
    "    def parameters(self):\n",
    "        return [self.gamma, self.beta]"
   ]
  },
  {
   "cell_type": "code",
   "execution_count": 11,
   "id": "f84b8a6a",
   "metadata": {},
   "outputs": [],
   "source": [
    "class Tanh:\n",
    "    def __call__(self, x):\n",
    "        \"\"\" Non-linearity \"\"\"\n",
    "        self.out = torch.tanh(x)\n",
    "        return self.out\n",
    "    \n",
    "    def parameters(self):\n",
    "        return []"
   ]
  }
 ],
 "metadata": {
  "kernelspec": {
   "display_name": "Python 3 (ipykernel)",
   "language": "python",
   "name": "python3"
  },
  "language_info": {
   "codemirror_mode": {
    "name": "ipython",
    "version": 3
   },
   "file_extension": ".py",
   "mimetype": "text/x-python",
   "name": "python",
   "nbconvert_exporter": "python",
   "pygments_lexer": "ipython3",
   "version": "3.10.6"
  }
 },
 "nbformat": 4,
 "nbformat_minor": 5
}
