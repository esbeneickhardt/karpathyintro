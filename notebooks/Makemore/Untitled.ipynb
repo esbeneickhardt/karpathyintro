{
 "cells": [
  {
   "cell_type": "markdown",
   "id": "3f86d9a1",
   "metadata": {},
   "source": [
    "# Introduction"
   ]
  },
  {
   "cell_type": "code",
   "execution_count": null,
   "id": "81e6b5b5",
   "metadata": {},
   "outputs": [],
   "source": [
    "# https://www.youtube.com/watch?v=P6sfmUTpUmc"
   ]
  }
 ],
 "metadata": {
  "kernelspec": {
   "display_name": "Python 3 (ipykernel)",
   "language": "python",
   "name": "python3"
  },
  "language_info": {
   "codemirror_mode": {
    "name": "ipython",
    "version": 3
   },
   "file_extension": ".py",
   "mimetype": "text/x-python",
   "name": "python",
   "nbconvert_exporter": "python",
   "pygments_lexer": "ipython3",
   "version": "3.10.6"
  }
 },
 "nbformat": 4,
 "nbformat_minor": 5
}
