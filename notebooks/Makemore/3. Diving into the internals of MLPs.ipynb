{
 "cells": [
  {
   "cell_type": "markdown",
   "id": "f4e28d9e",
   "metadata": {},
   "source": [
    "# Introduction\n",
    "In the last notebook we saw that MLPs with multiple layers are pretty good at coming up with names. In this notebook we dive deep into the network to understand what is going on and how to do diagnostics.\n",
    "\n",
    "We will go though the following:\n",
    "\n",
    "* Initialization of Weights\n",
    "* Activations"
   ]
  },
  {
   "cell_type": "markdown",
   "id": "f6280a38",
   "metadata": {},
   "source": [
    "# Libraries"
   ]
  },
  {
   "cell_type": "code",
   "execution_count": 1,
   "id": "1b36c29b",
   "metadata": {},
   "outputs": [],
   "source": [
    "%matplotlib inline\n",
    "%config IPCompleter.use_jedi=False"
   ]
  },
  {
   "cell_type": "code",
   "execution_count": 2,
   "id": "7c43b921",
   "metadata": {},
   "outputs": [],
   "source": [
    "import random\n",
    "import torch\n",
    "import torch.nn.functional as F\n",
    "import matplotlib.pyplot as plt"
   ]
  },
  {
   "cell_type": "markdown",
   "id": "19485c28",
   "metadata": {},
   "source": [
    "# Data\n",
    "This step is pretty much equiviant of that in the previous notebook, so we will not go into depth on how the dataset is created."
   ]
  },
  {
   "cell_type": "markdown",
   "id": "dd84ff73",
   "metadata": {},
   "source": [
    "### Reading the Data"
   ]
  },
  {
   "cell_type": "code",
   "execution_count": 3,
   "id": "3a4b8611",
   "metadata": {},
   "outputs": [],
   "source": [
    "# Reading names into a list\n",
    "with open('../../data/names.txt', 'r') as f:\n",
    "    names = f.readlines()\n",
    "    names = [name.strip() for name in names]"
   ]
  },
  {
   "cell_type": "markdown",
   "id": "1b2939b7",
   "metadata": {},
   "source": [
    "### Creating Vocabulary"
   ]
  },
  {
   "cell_type": "code",
   "execution_count": 4,
   "id": "39fae5c1",
   "metadata": {},
   "outputs": [
    {
     "name": "stdout",
     "output_type": "stream",
     "text": [
      "{'a': 1, 'b': 2, 'c': 3, 'd': 4, 'e': 5, 'f': 6, 'g': 7, 'h': 8, 'i': 9, 'j': 10, 'k': 11, 'l': 12, 'm': 13, 'n': 14, 'o': 15, 'p': 16, 'q': 17, 'r': 18, 's': 19, 't': 20, 'u': 21, 'v': 22, 'w': 23, 'x': 24, 'y': 25, 'z': 26}\n",
      "{1: 'a', 2: 'b', 3: 'c', 4: 'd', 5: 'e', 6: 'f', 7: 'g', 8: 'h', 9: 'i', 10: 'j', 11: 'k', 12: 'l', 13: 'm', 14: 'n', 15: 'o', 16: 'p', 17: 'q', 18: 'r', 19: 's', 20: 't', 21: 'u', 22: 'v', 23: 'w', 24: 'x', 25: 'y', 26: 'z', 0: '.'}\n"
     ]
    }
   ],
   "source": [
    "# Building the vocabulary (character to/from index)\n",
    "chars = sorted(list(set(''.join(names))))\n",
    "chr_to_idx = {s:i+1 for i,s in enumerate(chars)}; print(chr_to_idx)\n",
    "chr_to_idx['.'] = 0\n",
    "idx_to_chr = {i:s for s,i in chr_to_idx.items()}; print(idx_to_chr)"
   ]
  },
  {
   "cell_type": "markdown",
   "id": "6d210a6f",
   "metadata": {},
   "source": [
    "### Preparing Dataset"
   ]
  },
  {
   "cell_type": "code",
   "execution_count": 5,
   "id": "d1df5c18",
   "metadata": {},
   "outputs": [],
   "source": [
    "def build_dataset(words: list, block_size: int = 3, verbose: bool = False) -> tuple:\n",
    "    \"\"\"\n",
    "    Description:\n",
    "        Take a list of words and creates Xs and Ys give\n",
    "        a block size. E.g. block_size=3 for emma would \n",
    "        result in:\n",
    "            ... ---> e  \n",
    "            ..e ---> m  \n",
    "            .em ---> m  \n",
    "            emm ---> a  \n",
    "            mma ---> . \n",
    "        Stored in a (n, 3) tensor\n",
    "    Inputs:\n",
    "        words: List of words\n",
    "        block_size: The context window\n",
    "        verbose: Where to print the outputs\n",
    "    Ouputs:\n",
    "        A (n, block_size) tensor with Xs\n",
    "        A (n) tensor with Ys\n",
    "    \"\"\"\n",
    "    X, Y = [], []\n",
    "    for word in words:\n",
    "        if verbose:\n",
    "            print(word)\n",
    "        context = [0] * block_size\n",
    "        for char in word + '.':\n",
    "            idx = chr_to_idx[char]\n",
    "            X.append(context)\n",
    "            Y.append(idx)\n",
    "            if verbose:\n",
    "                print(''.join(idx_to_chr[i] for i in context), idx_to_chr[idx])\n",
    "            context = context[1:] + [idx]\n",
    "    \n",
    "    X = torch.tensor(X)\n",
    "    Y = torch.tensor(Y)\n",
    "    \n",
    "    return X, Y"
   ]
  },
  {
   "cell_type": "code",
   "execution_count": 6,
   "id": "8f4fa14f",
   "metadata": {},
   "outputs": [],
   "source": [
    "# Putting names in random order\n",
    "random.shuffle(names)\n",
    "\n",
    "# Creating split indices\n",
    "n1 = int(0.8 * len(names))\n",
    "n2 = int(0.9 * len(names))"
   ]
  },
  {
   "cell_type": "code",
   "execution_count": 7,
   "id": "a42dfcfa",
   "metadata": {},
   "outputs": [
    {
     "name": "stdout",
     "output_type": "stream",
     "text": [
      "torch.Size([182412])\n",
      "torch.Size([22892])\n",
      "torch.Size([22842])\n"
     ]
    }
   ],
   "source": [
    "# Building training, validation and test sets\n",
    "Xtr, Ytr = build_dataset(names[:n1]); print(Ytr.size())\n",
    "Xval, Yval = build_dataset(names[n1:n2]); print(Yval.size())\n",
    "Xtest, Ytest = build_dataset(names[n2:]); print(Ytest.size())"
   ]
  },
  {
   "cell_type": "markdown",
   "id": "48de6aee",
   "metadata": {},
   "source": [
    "# Building Network\n",
    "We build a similar MLP to that in the previous notebook."
   ]
  },
  {
   "cell_type": "code",
   "execution_count": 8,
   "id": "4a786bf1",
   "metadata": {},
   "outputs": [
    {
     "name": "stdout",
     "output_type": "stream",
     "text": [
      "Number of parameters: 11897\n"
     ]
    }
   ],
   "source": [
    "n_embd = 10\n",
    "n_hidden = 200\n",
    "block_size = 3\n",
    "vocab_size = len(chr_to_idx)\n",
    "\n",
    "# Lookup table\n",
    "C = torch.randn([vocab_size, n_embd])\n",
    "\n",
    "# Weights and biases\n",
    "W1 = torch.randn([n_embd * block_size, n_hidden])\n",
    "b1 = torch.randn([n_hidden])\n",
    "W2 = torch.randn([n_hidden, vocab_size])\n",
    "b2 = torch.randn([vocab_size])\n",
    "\n",
    "# Placing parameters in list\n",
    "parameters = [C, W1, b1, W2, b2]\n",
    "\n",
    "# Enabling gradients\n",
    "for p in parameters:\n",
    "    p.requires_grad = True\n",
    "print(\"Number of parameters: \" + str(sum(p.nelement() for p in parameters)))"
   ]
  },
  {
   "cell_type": "markdown",
   "id": "274a3570",
   "metadata": {},
   "source": [
    "# Training\n",
    "We use the same training loop as in the previous notebook. We have, however, refactored a bit, and defined a method for calculating the loss without messing with the gradients."
   ]
  },
  {
   "cell_type": "code",
   "execution_count": 9,
   "id": "613566ca",
   "metadata": {},
   "outputs": [],
   "source": [
    "@torch.no_grad() # Decorator disables gradient tracking\n",
    "def split_loss(split: str = 'train', print_loss: bool = False) -> None:\n",
    "    \"\"\"\n",
    "    Description:\n",
    "        Prints the loss of a chosen split\n",
    "    Inputs:\n",
    "        split: train, valid, or test\n",
    "    \"\"\"\n",
    "    x,y = {\n",
    "        'train': (Xtr, Ytr),\n",
    "        'valid': (Xval, Yval),\n",
    "        'test': (Xtest, Ytest),\n",
    "    }[split]\n",
    "    emb = C[x]\n",
    "    emb_cat = emb.view(emb.shape[0], -1)\n",
    "    h_preactiv = emb_cat @ W1 + b1\n",
    "    h = torch.tanh(h_preactiv)\n",
    "    logits = h @ W2 + b2\n",
    "    loss = F.cross_entropy(logits, y) \n",
    "    \n",
    "    if print_loss:\n",
    "        print(split, loss.item())\n",
    "    else :\n",
    "        return loss.item()"
   ]
  },
  {
   "cell_type": "code",
   "execution_count": 10,
   "id": "5595aabb",
   "metadata": {},
   "outputs": [],
   "source": [
    "losses = {\"Train\": [], \"Val\": []}"
   ]
  },
  {
   "cell_type": "code",
   "execution_count": 11,
   "id": "4d6714f9",
   "metadata": {
    "scrolled": true
   },
   "outputs": [
    {
     "name": "stdout",
     "output_type": "stream",
     "text": [
      "      0/ 100000: 23.0179\n"
     ]
    }
   ],
   "source": [
    "epochs = 100000\n",
    "batch_size = 64\n",
    "lr = 0.1\n",
    "\n",
    "for epoch in range(epochs):\n",
    "    \n",
    "    # Minibatch\n",
    "    ix = torch.randint(0, Xtr.shape[0], (batch_size,))\n",
    "    Xb, Yb = Xtr[ix], Ytr[ix]\n",
    "    \n",
    "    # Forward pass\n",
    "    emb = C[Xb]\n",
    "    emb_cat = emb.view(emb.shape[0], -1)\n",
    "    h_preactiv = emb_cat @ W1 + b1\n",
    "    h = torch.tanh(h_preactiv)\n",
    "    logits = h @ W2 + b2\n",
    "    loss = F.cross_entropy(logits, Yb)    \n",
    "    \n",
    "    # Backward pass\n",
    "    for p in parameters:\n",
    "        p.grad = None\n",
    "    loss.backward()\n",
    "\n",
    "    ## Update\n",
    "    if epoch < 30000:\n",
    "        for p in parameters:\n",
    "            p.data += -lr * p.grad\n",
    "    elif epoch < 60000:\n",
    "        for p in parameters:\n",
    "            p.data += -lr * 0.1 * p.grad\n",
    "    else:\n",
    "        for p in parameters:\n",
    "            p.data += -lr * 0.01 * p.grad        \n",
    "        \n",
    "    # Tracking stats\n",
    "    losses[\"Train\"].append(loss.item())\n",
    "    #losses[\"Val\"].append(split_loss(\"valid\"))\n",
    "    \n",
    "    # Printing stats\n",
    "    if not epoch % 100000:\n",
    "        print(f\"{epoch:7d}/{epochs:7d}: {loss.item():.4f}\")"
   ]
  },
  {
   "cell_type": "code",
   "execution_count": 12,
   "id": "9149a739",
   "metadata": {},
   "outputs": [
    {
     "data": {
      "image/png": "[encoded data removed]",
      "text/plain": [
       "<Figure size 640x480 with 1 Axes>"
      ]
     },
     "metadata": {},
     "output_type": "display_data"
    }
   ],
   "source": [
    "# Plotting training and validation losses\n",
    "xs = list(range(1, len(losses[\"Train\"])+1))\n",
    "plt.plot(xs, losses[\"Train\"], label = \"Train\", color=\"green\")\n",
    "#plt.plot(xs, losses[\"Val\"], label = \"Valid\", color=\"red\")\n",
    "plt.legend()\n",
    "plt.show()"
   ]
  },
  {
   "cell_type": "code",
   "execution_count": 13,
   "id": "645ffa5f",
   "metadata": {},
   "outputs": [
    {
     "name": "stdout",
     "output_type": "stream",
     "text": [
      "train 2.203683376312256\n",
      "valid 2.227872610092163\n"
     ]
    }
   ],
   "source": [
    "split_loss(\"train\", print_loss=True)\n",
    "split_loss(\"valid\", print_loss=True)"
   ]
  },
  {
   "cell_type": "markdown",
   "id": "9b26b01a",
   "metadata": {},
   "source": [
    "# Generating Names"
   ]
  },
  {
   "cell_type": "code",
   "execution_count": 14,
   "id": "21ba36a7",
   "metadata": {
    "scrolled": true
   },
   "outputs": [
    {
     "name": "stdout",
     "output_type": "stream",
     "text": [
      "eurothvimineh.\n",
      "istin.\n",
      "keis.\n",
      "kravie.\n",
      "granna.\n",
      "tarea.\n",
      "mariseerel.\n",
      "soldyy.\n",
      "shy.\n",
      "bora.\n",
      "kaera.\n",
      "sevin.\n",
      "zaiya.\n",
      "well.\n",
      "mic.\n",
      "jahia.\n",
      "tesasanrrong.\n",
      "aigh.\n",
      "wytin.\n",
      "soppe.\n"
     ]
    }
   ],
   "source": [
    "number_of_names = 20\n",
    "\n",
    "for _ in range(number_of_names):\n",
    "    \n",
    "    char_idx = []\n",
    "    context = [0] * block_size # Initialize with all ...\n",
    "    while True:\n",
    "        emb = C[torch.tensor([context])] # Embeddings for context\n",
    "        h = torch.tanh(emb.view(1, -1) @ W1 + b1)\n",
    "        logits = h @ W2 + b2\n",
    "        probs = F.softmax(logits, dim=1)\n",
    "        idx = torch.multinomial(probs, num_samples=1).item()\n",
    "        context = context[1:] + [idx]\n",
    "        char_idx.append(idx)\n",
    "        if idx == 0:\n",
    "            break\n",
    "    \n",
    "    print(''.join(idx_to_chr[char_idx] for char_idx in char_idx))"
   ]
  },
  {
   "cell_type": "markdown",
   "id": "a98a3890",
   "metadata": {},
   "source": [
    "# Analyses\n",
    "We will now go through the model above and find out how to make it better."
   ]
  },
  {
   "cell_type": "markdown",
   "id": "f884c094",
   "metadata": {},
   "source": [
    "### Initialization: Part I\n",
    "If we look at the losses output by the model, we can see that the initial loss is way higher than all the training losses. This is of cause expected, at we initialize the weights using random numbers. But there are things we can do to ensure a better initial loss. E.g. we attempt to make sure that the initial model predicts the 27 output-letters uniformly in stead of randomly. \n",
    "\n",
    "We will start out by calculating the expected initial loss if the propabilities of the outputs were uniformly distributed."
   ]
  },
  {
   "cell_type": "code",
   "execution_count": 15,
   "id": "4ecfb587",
   "metadata": {},
   "outputs": [
    {
     "data": {
      "text/plain": [
       "tensor(3.2958)"
      ]
     },
     "execution_count": 15,
     "metadata": {},
     "output_type": "execute_result"
    }
   ],
   "source": [
    "# Estimating the loss at uniform distribution\n",
    "-torch.tensor(1/27).log()"
   ]
  },
  {
   "cell_type": "markdown",
   "id": "d1f0c5a2",
   "metadata": {},
   "source": [
    "We can illustrate this example further by comparing the loss for a uniformly distributed tensor vs a randomly initialized tensor."
   ]
  },
  {
   "cell_type": "code",
   "execution_count": 16,
   "id": "62b7fda8",
   "metadata": {},
   "outputs": [
    {
     "data": {
      "text/plain": [
       "(tensor([0.1500, 0.1500, 0.1500, 0.1500]),\n",
       " tensor([0.2500, 0.2500, 0.2500, 0.2500]),\n",
       " tensor([1.3863, 1.3863, 1.3863, 1.3863]))"
      ]
     },
     "execution_count": 16,
     "metadata": {},
     "output_type": "execute_result"
    }
   ],
   "source": [
    "# Uniform\n",
    "logits = torch.tensor([0.15,0.15,0.15,0.15])\n",
    "probs = torch.softmax(logits, dim=0)\n",
    "losses = -probs.log()\n",
    "logits, probs, losses"
   ]
  },
  {
   "cell_type": "code",
   "execution_count": 17,
   "id": "28c775ac",
   "metadata": {},
   "outputs": [
    {
     "data": {
      "text/plain": [
       "(tensor([ 0.2798, -0.7476,  0.9403, -0.5602]),\n",
       " tensor([0.2684, 0.0961, 0.5196, 0.1159]),\n",
       " tensor([1.3152, 2.3426, 0.6547, 2.1552]))"
      ]
     },
     "execution_count": 17,
     "metadata": {},
     "output_type": "execute_result"
    }
   ],
   "source": [
    "# Random\n",
    "logits = torch.randn(4)\n",
    "probs = torch.softmax(logits, dim=0)\n",
    "losses = -probs.log()\n",
    "logits, probs, losses"
   ]
  },
  {
   "cell_type": "markdown",
   "id": "1976c550",
   "metadata": {},
   "source": [
    "We can see that the logits of the randomly initialized tensor have more \"extreme\" values than those from the uniform distribution. If we break the training loop for our model (above) after one epoch, we can also inspect the logits there, and conclude that the logits contain \"extreme\" values.\n",
    "\n",
    "We will now attempt to find a way to make the initial loss lower by initializing the weights, such that the logits will be uniformly distributed (it is the most easy just to get them to all very close to zero).\n",
    "\n",
    "We make the logits closer to zero in the following part of the network:\n",
    "\n",
    "* logits = h @ W2 + b2\n",
    "  * We can see that the biases **b2** adds directly to the logits. By initializing **b2** as zero, we can move the logits closer to zero.\n",
    "  * We can also scale down **W2** to get the logits closer to zero."
   ]
  },
  {
   "cell_type": "code",
   "execution_count": 18,
   "id": "52d0499d",
   "metadata": {},
   "outputs": [
    {
     "name": "stdout",
     "output_type": "stream",
     "text": [
      "Number of parameters: 11897\n"
     ]
    }
   ],
   "source": [
    "# Attempt 1: Logits towards zero\n",
    "n_embd = 10\n",
    "n_hidden = 200\n",
    "block_size = 3\n",
    "vocab_size = len(chr_to_idx)\n",
    "\n",
    "# Lookup table\n",
    "C = torch.randn([vocab_size, n_embd])\n",
    "\n",
    "# Weights and biases\n",
    "W1 = torch.randn([n_embd * block_size, n_hidden])\n",
    "b1 = torch.randn([n_hidden])\n",
    "W2 = torch.randn([n_hidden, vocab_size]) * 0.01\n",
    "b2 = torch.randn([vocab_size]) * 0\n",
    "\n",
    "# Placing parameters in list\n",
    "parameters = [C, W1, b1, W2, b2]\n",
    "\n",
    "# Enabling gradients\n",
    "for p in parameters:\n",
    "    p.requires_grad = True\n",
    "print(\"Number of parameters: \" + str(sum(p.nelement() for p in parameters)))"
   ]
  },
  {
   "cell_type": "code",
   "execution_count": 19,
   "id": "fcba0b26",
   "metadata": {
    "scrolled": true
   },
   "outputs": [
    {
     "name": "stdout",
     "output_type": "stream",
     "text": [
      "      0/ 100000: 3.3194\n",
      "  10000/ 100000: 2.3700\n",
      "  20000/ 100000: 2.5972\n",
      "  30000/ 100000: 2.3189\n",
      "  40000/ 100000: 2.0711\n",
      "  50000/ 100000: 1.7873\n",
      "  60000/ 100000: 1.9657\n",
      "  70000/ 100000: 2.1261\n",
      "  80000/ 100000: 2.1425\n",
      "  90000/ 100000: 2.0025\n",
      "train 2.105613946914673\n",
      "valid 2.1430580615997314\n"
     ]
    }
   ],
   "source": [
    "# Attempt 1: Training\n",
    "losses = {\"Train\": [], \"Val\": []}\n",
    "epochs = 100000\n",
    "batch_size = 64\n",
    "lr = 0.1\n",
    "\n",
    "for epoch in range(epochs):\n",
    "    \n",
    "    # Minibatch\n",
    "    ix = torch.randint(0, Xtr.shape[0], (batch_size,))\n",
    "    Xb, Yb = Xtr[ix], Ytr[ix]\n",
    "    \n",
    "    # Forward pass\n",
    "    emb = C[Xb]\n",
    "    emb_cat = emb.view(emb.shape[0], -1)\n",
    "    h_preactiv = emb_cat @ W1 + b1\n",
    "    h = torch.tanh(h_preactiv)\n",
    "    logits = h @ W2 + b2\n",
    "    loss = F.cross_entropy(logits, Yb)    \n",
    "    \n",
    "    # Backward pass\n",
    "    for p in parameters:\n",
    "        p.grad = None\n",
    "    loss.backward()\n",
    "\n",
    "    ## Update\n",
    "    if epoch < 30000:\n",
    "        for p in parameters:\n",
    "            p.data += -lr * p.grad\n",
    "    elif epoch < 60000:\n",
    "        for p in parameters:\n",
    "            p.data += -lr * 0.1 * p.grad\n",
    "    else:\n",
    "        for p in parameters:\n",
    "            p.data += -lr * 0.01 * p.grad        \n",
    "        \n",
    "    # Tracking stats\n",
    "    losses[\"Train\"].append(loss.item())\n",
    "    #losses[\"Val\"].append(split_loss(\"valid\"))\n",
    "    \n",
    "    # Printing stats\n",
    "    if not epoch % 10000:\n",
    "        print(f\"{epoch:7d}/{epochs:7d}: {loss.item():.4f}\")\n",
    "\n",
    "split_loss('train', print_loss=True)\n",
    "split_loss('valid', print_loss=True)"
   ]
  },
  {
   "cell_type": "code",
   "execution_count": 20,
   "id": "52b34cda",
   "metadata": {},
   "outputs": [
    {
     "data": {
      "image/png": "[encoded data removed]",
      "text/plain": [
       "<Figure size 640x480 with 1 Axes>"
      ]
     },
     "metadata": {},
     "output_type": "display_data"
    }
   ],
   "source": [
    "# Attempt 1: Plotting training and validation losses\n",
    "xs = list(range(1, len(losses[\"Train\"])+1))\n",
    "plt.plot(xs, losses[\"Train\"], label = \"Train\", color=\"green\")\n",
    "#plt.plot(xs, losses[\"Val\"], label = \"Valid\", color=\"red\")\n",
    "plt.legend()\n",
    "plt.show()"
   ]
  },
  {
   "cell_type": "markdown",
   "id": "e4f8af79",
   "metadata": {},
   "source": [
    "### Initialization: Part II\n",
    "This time we will be taking a look at the activations. That is, we will be looking at this part of the forward pass:\n",
    "\n",
    "* h = torch.tanh(h_preactiv)\n",
    "\n",
    "What **tanh** does is to squeeze the pre-activation-values to numbers between -1 and 1. Now we will inspect **h** after one epoch (do this manually with break)."
   ]
  },
  {
   "cell_type": "code",
   "execution_count": 21,
   "id": "3a53ef89",
   "metadata": {},
   "outputs": [
    {
     "data": {
      "image/png": "[encoded data removed]",
      "text/plain": [
       "<Figure size 640x480 with 1 Axes>"
      ]
     },
     "metadata": {},
     "output_type": "display_data"
    }
   ],
   "source": [
    "# Plotting distribution of h values\n",
    "plt.hist(h.view(-1).tolist(), 50);"
   ]
  },
  {
   "cell_type": "markdown",
   "id": "c16b8538",
   "metadata": {},
   "source": [
    "We can see that **tanh** is very active. The reason for this can be found by taking a few steps back."
   ]
  },
  {
   "cell_type": "code",
   "execution_count": 22,
   "id": "640f151b",
   "metadata": {
    "scrolled": false
   },
   "outputs": [
    {
     "data": {
      "image/png": "[encoded data removed]",
      "text/plain": [
       "<Figure size 640x480 with 1 Axes>"
      ]
     },
     "metadata": {},
     "output_type": "display_data"
    }
   ],
   "source": [
    "# Distribution of pre-activations\n",
    "plt.hist(h_preactiv.view(-1).tolist(), 50);"
   ]
  },
  {
   "cell_type": "markdown",
   "id": "e9971ef5",
   "metadata": {},
   "source": [
    "We can see that the **pre-activations** are distributed between roughly -20 and 20. In the next plot we have plottet values between -20 and 20 versus tanh of the values."
   ]
  },
  {
   "cell_type": "code",
   "execution_count": 23,
   "id": "5f31f4e3",
   "metadata": {},
   "outputs": [
    {
     "data": {
      "text/plain": [
       "[<matplotlib.lines.Line2D at 0x7fcfacc65b10>]"
      ]
     },
     "execution_count": 23,
     "metadata": {},
     "output_type": "execute_result"
    },
    {
     "data": {
      "image/png": "[encoded data removed]",
      "text/plain": [
       "<Figure size 640x480 with 1 Axes>"
      ]
     },
     "metadata": {},
     "output_type": "display_data"
    }
   ],
   "source": [
    "# Values vs tanh(values)\n",
    "x1 = torch.tensor(range(-20,20,1))\n",
    "y1 = torch.tanh(x1)\n",
    "plt.plot(x1,y1)"
   ]
  },
  {
   "cell_type": "markdown",
   "id": "a539c3ab",
   "metadata": {},
   "source": [
    "It is now clear why most of the values get bumped to -1 and 1, as values above 6 and below -6 will be bumped to 1 and -1 respectively. When calculating the gradient during the backward pass, the gradient of the activations is being killed because:\n",
    "\n",
    "self.grad += (1 - t\\*\\*2) * out.grad \n",
    "\n",
    "As we can see:\n",
    "\n",
    "self.grad += 0 * out.grad\n",
    "\n",
    "If the the activation instead had been close to zero, the out.grad would just be passed along. Let's examine how bed it looks for out neurons."
   ]
  },
  {
   "cell_type": "code",
   "execution_count": 24,
   "id": "c60efab4",
   "metadata": {},
   "outputs": [
    {
     "data": {
      "text/plain": [
       "<matplotlib.image.AxesImage at 0x7fcfadee83a0>"
      ]
     },
     "execution_count": 24,
     "metadata": {},
     "output_type": "execute_result"
    },
    {
     "data": {
      "image/png": "[encoded data removed]",
      "text/plain": [
       "<Figure size 2000x1000 with 1 Axes>"
      ]
     },
     "metadata": {},
     "output_type": "display_data"
    }
   ],
   "source": [
    "plt.figure(figsize=(20,10))\n",
    "plt.imshow(h.abs() > 0.99, cmap='gray', interpolation='nearest')"
   ]
  },
  {
   "cell_type": "markdown",
   "id": "3b1ae38e",
   "metadata": {},
   "source": [
    "Each column is a neuron, and it column is fully black it means that the neuron is dead, and information can no longer flow through it. That is, no matter what data you feed the neuron it can only fire as 1 or -1.\n",
    "\n",
    "This problem is not unique to tahn as an activation function:\n",
    "\n",
    "* Sigmoid: Values under/over -10/10 get squashed to -1/1\n",
    "* ReLU: Values under zero get squashed to 0\n",
    "* leaky-ReLU: Doesn't really suffer from this problem\n",
    "* ELU: Has the same problem for negative values\n",
    "\n",
    "The problem can be created at initialization but also during training. So the way we solve the problem is by looking at the following equation:\n",
    "\n",
    "* h_preactiv = emb_cat @ W1 + b1\n",
    "\n",
    "We want h_preactiv to be closer to zero, and this can be done by setting the b1 to zero and multiplying the W1 by a low number."
   ]
  },
  {
   "cell_type": "code",
   "execution_count": 25,
   "id": "ac7439f0",
   "metadata": {},
   "outputs": [
    {
     "name": "stdout",
     "output_type": "stream",
     "text": [
      "Number of parameters: 11897\n"
     ]
    }
   ],
   "source": [
    "# Attempt 2: Pre-activations towards zero\n",
    "n_embd = 10\n",
    "n_hidden = 200\n",
    "block_size = 3\n",
    "vocab_size = len(chr_to_idx)\n",
    "\n",
    "# Lookup table\n",
    "C = torch.randn([vocab_size, n_embd])\n",
    "\n",
    "# Weights and biases\n",
    "W1 = torch.randn([n_embd * block_size, n_hidden]) * 0.15\n",
    "b1 = torch.randn([n_hidden]) * 0\n",
    "W2 = torch.randn([n_hidden, vocab_size]) * 0.01\n",
    "b2 = torch.randn([vocab_size]) * 0\n",
    "\n",
    "# Placing parameters in list\n",
    "parameters = [C, W1, b1, W2, b2]\n",
    "\n",
    "# Enabling gradients\n",
    "for p in parameters:\n",
    "    p.requires_grad = True\n",
    "print(\"Number of parameters: \" + str(sum(p.nelement() for p in parameters)))"
   ]
  },
  {
   "cell_type": "code",
   "execution_count": 26,
   "id": "a912c822",
   "metadata": {},
   "outputs": [
    {
     "name": "stdout",
     "output_type": "stream",
     "text": [
      "      0/ 100000: 3.3094\n",
      "train 3.2528674602508545\n",
      "valid 3.2528977394104004\n"
     ]
    }
   ],
   "source": [
    "# Attempt 2: Training\n",
    "losses = {\"Train\": [], \"Val\": []}\n",
    "epochs = 100000\n",
    "batch_size = 64\n",
    "lr = 0.1\n",
    "\n",
    "for epoch in range(epochs):\n",
    "    \n",
    "    # Minibatch\n",
    "    ix = torch.randint(0, Xtr.shape[0], (batch_size,))\n",
    "    Xb, Yb = Xtr[ix], Ytr[ix]\n",
    "    \n",
    "    # Forward pass\n",
    "    emb = C[Xb]\n",
    "    emb_cat = emb.view(emb.shape[0], -1)\n",
    "    h_preactiv = emb_cat @ W1 + b1\n",
    "    h = torch.tanh(h_preactiv)\n",
    "    logits = h @ W2 + b2\n",
    "    loss = F.cross_entropy(logits, Yb)    \n",
    "    \n",
    "    # Backward pass\n",
    "    for p in parameters:\n",
    "        p.grad = None\n",
    "    loss.backward()\n",
    "\n",
    "    ## Update\n",
    "    if epoch < 30000:\n",
    "        for p in parameters:\n",
    "            p.data += -lr * p.grad\n",
    "    elif epoch < 60000:\n",
    "        for p in parameters:\n",
    "            p.data += -lr * 0.1 * p.grad\n",
    "    else:\n",
    "        for p in parameters:\n",
    "            p.data += -lr * 0.01 * p.grad        \n",
    "        \n",
    "    # Tracking stats\n",
    "    losses[\"Train\"].append(loss.item())\n",
    "    #losses[\"Val\"].append(split_loss(\"valid\"))\n",
    "    \n",
    "    # Printing stats\n",
    "    if not epoch % 10000:\n",
    "        print(f\"{epoch:7d}/{epochs:7d}: {loss.item():.4f}\")\n",
    "    break\n",
    "\n",
    "split_loss('train', print_loss=True)\n",
    "split_loss('valid', print_loss=True)"
   ]
  },
  {
   "cell_type": "markdown",
   "id": "554eba2b",
   "metadata": {},
   "source": [
    "We are doing the same diagnosis again."
   ]
  },
  {
   "cell_type": "code",
   "execution_count": 27,
   "id": "fe93efd0",
   "metadata": {},
   "outputs": [
    {
     "data": {
      "image/png": "[encoded data removed]",
      "text/plain": [
       "<Figure size 640x480 with 1 Axes>"
      ]
     },
     "metadata": {},
     "output_type": "display_data"
    }
   ],
   "source": [
    "# Plotting distribution of h values\n",
    "plt.hist(h.view(-1).tolist(), 50);"
   ]
  },
  {
   "cell_type": "code",
   "execution_count": 28,
   "id": "fb9db2d8",
   "metadata": {},
   "outputs": [
    {
     "data": {
      "image/png": "[encoded data removed]",
      "text/plain": [
       "<Figure size 640x480 with 1 Axes>"
      ]
     },
     "metadata": {},
     "output_type": "display_data"
    }
   ],
   "source": [
    "# Distribution of pre-activations\n",
    "plt.hist(h_preactiv.view(-1).tolist(), 50);"
   ]
  },
  {
   "cell_type": "code",
   "execution_count": 29,
   "id": "6111fe69",
   "metadata": {},
   "outputs": [
    {
     "data": {
      "text/plain": [
       "<matplotlib.image.AxesImage at 0x7fcfaddcdd50>"
      ]
     },
     "execution_count": 29,
     "metadata": {},
     "output_type": "execute_result"
    },
    {
     "data": {
      "image/png": "[encoded data removed]",
      "text/plain": [
       "<Figure size 2000x1000 with 1 Axes>"
      ]
     },
     "metadata": {},
     "output_type": "display_data"
    }
   ],
   "source": [
    "# If all black because no neurons are larger than 0.99\n",
    "plt.figure(figsize=(20,10))\n",
    "plt.imshow(h.abs() > 0.99, cmap='gray', interpolation='nearest')"
   ]
  },
  {
   "cell_type": "markdown",
   "id": "670214fd",
   "metadata": {},
   "source": [
    "Now that it looks much better, we can train the network again."
   ]
  },
  {
   "cell_type": "code",
   "execution_count": 30,
   "id": "27209d57",
   "metadata": {},
   "outputs": [
    {
     "name": "stdout",
     "output_type": "stream",
     "text": [
      "      0/ 100000: 3.2609\n",
      "  10000/ 100000: 2.4368\n",
      "  20000/ 100000: 2.0814\n",
      "  30000/ 100000: 2.2230\n",
      "  40000/ 100000: 1.9072\n",
      "  50000/ 100000: 1.9870\n",
      "  60000/ 100000: 2.0982\n",
      "  70000/ 100000: 2.0021\n",
      "  80000/ 100000: 2.0940\n",
      "  90000/ 100000: 2.2873\n",
      "train 2.0671584606170654\n",
      "valid 2.1055519580841064\n"
     ]
    }
   ],
   "source": [
    "# Attempt 2: Training\n",
    "losses = {\"Train\": [], \"Val\": []}\n",
    "epochs = 100000\n",
    "batch_size = 64\n",
    "lr = 0.1\n",
    "\n",
    "for epoch in range(epochs):\n",
    "    \n",
    "    # Minibatch\n",
    "    ix = torch.randint(0, Xtr.shape[0], (batch_size,))\n",
    "    Xb, Yb = Xtr[ix], Ytr[ix]\n",
    "    \n",
    "    # Forward pass\n",
    "    emb = C[Xb]\n",
    "    emb_cat = emb.view(emb.shape[0], -1)\n",
    "    h_preactiv = emb_cat @ W1 + b1\n",
    "    h = torch.tanh(h_preactiv)\n",
    "    logits = h @ W2 + b2\n",
    "    loss = F.cross_entropy(logits, Yb)    \n",
    "    \n",
    "    # Backward pass\n",
    "    for p in parameters:\n",
    "        p.grad = None\n",
    "    loss.backward()\n",
    "\n",
    "    ## Update\n",
    "    if epoch < 30000:\n",
    "        for p in parameters:\n",
    "            p.data += -lr * p.grad\n",
    "    elif epoch < 60000:\n",
    "        for p in parameters:\n",
    "            p.data += -lr * 0.1 * p.grad\n",
    "    else:\n",
    "        for p in parameters:\n",
    "            p.data += -lr * 0.01 * p.grad        \n",
    "        \n",
    "    # Tracking stats\n",
    "    losses[\"Train\"].append(loss.item())\n",
    "    #losses[\"Val\"].append(split_loss(\"valid\"))\n",
    "    \n",
    "    # Printing stats\n",
    "    if not epoch % 10000:\n",
    "        print(f\"{epoch:7d}/{epochs:7d}: {loss.item():.4f}\")\n",
    "\n",
    "split_loss('train', print_loss=True)\n",
    "split_loss('valid', print_loss=True)"
   ]
  },
  {
   "cell_type": "markdown",
   "id": "f8f28b8f",
   "metadata": {},
   "source": [
    "The model is now performing quite a bit better!"
   ]
  },
  {
   "cell_type": "markdown",
   "id": "c6f94dd4",
   "metadata": {},
   "source": [
    "### Initialization: Part 3"
   ]
  },
  {
   "cell_type": "code",
   "execution_count": 31,
   "id": "5e9e7258",
   "metadata": {},
   "outputs": [],
   "source": [
    "### CONTINUE: http://www.youtube.com/watch?v=P6sfmUTpUmc&t=27m50s"
   ]
  },
  {
   "cell_type": "code",
   "execution_count": null,
   "id": "f37e7d5d",
   "metadata": {},
   "outputs": [],
   "source": [
    "\n",
    "\n",
    "\n",
    "\n",
    "\n",
    "\n",
    "\n",
    "\n",
    "\n",
    "\n",
    "\n",
    "\n",
    "\n",
    "\n",
    "\n",
    "\n",
    "\n",
    "\n",
    "\n",
    "\n",
    "\n",
    "\n",
    "\n"
   ]
  },
  {
   "cell_type": "code",
   "execution_count": 32,
   "id": "487cfaee",
   "metadata": {},
   "outputs": [],
   "source": [
    "# https://www.youtube.com/watch?v=P6sfmUTpUmc"
   ]
  }
 ],
 "metadata": {
  "kernelspec": {
   "display_name": "Python 3 (ipykernel)",
   "language": "python",
   "name": "python3"
  },
  "language_info": {
   "codemirror_mode": {
    "name": "ipython",
    "version": 3
   },
   "file_extension": ".py",
   "mimetype": "text/x-python",
   "name": "python",
   "nbconvert_exporter": "python",
   "pygments_lexer": "ipython3",
   "version": "3.10.6"
  }
 },
 "nbformat": 4,
 "nbformat_minor": 5
}
