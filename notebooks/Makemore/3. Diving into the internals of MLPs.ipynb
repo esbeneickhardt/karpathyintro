{
 "cells": [
  {
   "cell_type": "markdown",
   "id": "7bdeb4bf",
   "metadata": {},
   "source": [
    "# Introduction\n",
    "In the last notebook we saw that MLPs with multiple layers are pretty good at coming up with names. In this notebook we dive deep into the network to understand what is going on and how to do diagnostics.\n",
    "\n",
    "We will go though the following:\n",
    "\n",
    "* Initialization of Weights\n",
    "* Activations"
   ]
  },
  {
   "cell_type": "markdown",
   "id": "b44eae57",
   "metadata": {},
   "source": [
    "# Libraries"
   ]
  },
  {
   "cell_type": "code",
   "execution_count": 109,
   "id": "bfd45d10",
   "metadata": {},
   "outputs": [],
   "source": [
    "%matplotlib inline\n",
    "%config IPCompleter.use_jedi=False"
   ]
  },
  {
   "cell_type": "code",
   "execution_count": 110,
   "id": "401fe7a9",
   "metadata": {},
   "outputs": [],
   "source": [
    "import random\n",
    "import torch\n",
    "import torch.nn.functional as F\n",
    "import matplotlib.pyplot as plt"
   ]
  },
  {
   "cell_type": "markdown",
   "id": "0bd3bd65",
   "metadata": {},
   "source": [
    "# Data\n",
    "This step is pretty much equiviant of that in the previous notebook, so we will not go into depth on how the dataset is created."
   ]
  },
  {
   "cell_type": "markdown",
   "id": "a5576f98",
   "metadata": {},
   "source": [
    "### Reading the Data"
   ]
  },
  {
   "cell_type": "code",
   "execution_count": 111,
   "id": "3730179f",
   "metadata": {},
   "outputs": [],
   "source": [
    "# Reading names into a list\n",
    "with open('../../data/names.txt', 'r') as f:\n",
    "    names = f.readlines()\n",
    "    names = [name.strip() for name in names]"
   ]
  },
  {
   "cell_type": "markdown",
   "id": "b86b3079",
   "metadata": {},
   "source": [
    "### Creating Vocabulary"
   ]
  },
  {
   "cell_type": "code",
   "execution_count": 112,
   "id": "9206dc8e",
   "metadata": {},
   "outputs": [
    {
     "name": "stdout",
     "output_type": "stream",
     "text": [
      "{'a': 1, 'b': 2, 'c': 3, 'd': 4, 'e': 5, 'f': 6, 'g': 7, 'h': 8, 'i': 9, 'j': 10, 'k': 11, 'l': 12, 'm': 13, 'n': 14, 'o': 15, 'p': 16, 'q': 17, 'r': 18, 's': 19, 't': 20, 'u': 21, 'v': 22, 'w': 23, 'x': 24, 'y': 25, 'z': 26}\n",
      "{1: 'a', 2: 'b', 3: 'c', 4: 'd', 5: 'e', 6: 'f', 7: 'g', 8: 'h', 9: 'i', 10: 'j', 11: 'k', 12: 'l', 13: 'm', 14: 'n', 15: 'o', 16: 'p', 17: 'q', 18: 'r', 19: 's', 20: 't', 21: 'u', 22: 'v', 23: 'w', 24: 'x', 25: 'y', 26: 'z', 0: '.'}\n"
     ]
    }
   ],
   "source": [
    "# Building the vocabulary (character to/from index)\n",
    "chars = sorted(list(set(''.join(names))))\n",
    "chr_to_idx = {s:i+1 for i,s in enumerate(chars)}; print(chr_to_idx)\n",
    "chr_to_idx['.'] = 0\n",
    "idx_to_chr = {i:s for s,i in chr_to_idx.items()}; print(idx_to_chr)"
   ]
  },
  {
   "cell_type": "markdown",
   "id": "f8885ac5",
   "metadata": {},
   "source": [
    "### Preparing Dataset"
   ]
  },
  {
   "cell_type": "code",
   "execution_count": 113,
   "id": "0a79b871",
   "metadata": {},
   "outputs": [],
   "source": [
    "def build_dataset(words: list, block_size: int = 3, verbose: bool = False) -> tuple:\n",
    "    \"\"\"\n",
    "    Description:\n",
    "        Take a list of words and creates Xs and Ys give\n",
    "        a block size. E.g. block_size=3 for emma would \n",
    "        result in:\n",
    "            ... ---> e  \n",
    "            ..e ---> m  \n",
    "            .em ---> m  \n",
    "            emm ---> a  \n",
    "            mma ---> . \n",
    "        Stored in a (n, 3) tensor\n",
    "    Inputs:\n",
    "        words: List of words\n",
    "        block_size: The context window\n",
    "        verbose: Where to print the outputs\n",
    "    Ouputs:\n",
    "        A (n, block_size) tensor with Xs\n",
    "        A (n) tensor with Ys\n",
    "    \"\"\"\n",
    "    X, Y = [], []\n",
    "    for word in words:\n",
    "        if verbose:\n",
    "            print(word)\n",
    "        context = [0] * block_size\n",
    "        for char in word + '.':\n",
    "            idx = chr_to_idx[char]\n",
    "            X.append(context)\n",
    "            Y.append(idx)\n",
    "            if verbose:\n",
    "                print(''.join(idx_to_chr[i] for i in context), idx_to_chr[idx])\n",
    "            context = context[1:] + [idx]\n",
    "    \n",
    "    X = torch.tensor(X)\n",
    "    Y = torch.tensor(Y)\n",
    "    \n",
    "    return X, Y"
   ]
  },
  {
   "cell_type": "code",
   "execution_count": 114,
   "id": "0208d14d",
   "metadata": {},
   "outputs": [],
   "source": [
    "# Putting names in random order\n",
    "random.shuffle(names)\n",
    "\n",
    "# Creating split indices\n",
    "n1 = int(0.8 * len(names))\n",
    "n2 = int(0.9 * len(names))"
   ]
  },
  {
   "cell_type": "code",
   "execution_count": 115,
   "id": "1e93d31d",
   "metadata": {},
   "outputs": [
    {
     "name": "stdout",
     "output_type": "stream",
     "text": [
      "torch.Size([182462])\n",
      "torch.Size([22922])\n",
      "torch.Size([22762])\n"
     ]
    }
   ],
   "source": [
    "# Building training, validation and test sets\n",
    "Xtr, Ytr = build_dataset(names[:n1]); print(Ytr.size())\n",
    "Xval, Yval = build_dataset(names[n1:n2]); print(Yval.size())\n",
    "Xtest, Ytest = build_dataset(names[n2:]); print(Ytest.size())"
   ]
  },
  {
   "cell_type": "markdown",
   "id": "c8bdf240",
   "metadata": {},
   "source": [
    "# Building Network\n",
    "We build a similar MLP to that in the previous notebook."
   ]
  },
  {
   "cell_type": "code",
   "execution_count": 116,
   "id": "58b263a4",
   "metadata": {},
   "outputs": [
    {
     "name": "stdout",
     "output_type": "stream",
     "text": [
      "Number of parameters: 11897\n"
     ]
    }
   ],
   "source": [
    "n_embd = 10\n",
    "n_hidden = 200\n",
    "block_size = 3\n",
    "vocab_size = len(chr_to_idx)\n",
    "\n",
    "# Lookup table\n",
    "C = torch.randn([vocab_size, n_embd])\n",
    "\n",
    "# Weights and biases\n",
    "W1 = torch.randn([n_embd * block_size, n_hidden])\n",
    "b1 = torch.randn([n_hidden])\n",
    "W2 = torch.randn([n_hidden, vocab_size])\n",
    "b2 = torch.randn([vocab_size])\n",
    "\n",
    "# Placing parameters in list\n",
    "parameters = [C, W1, b1, W2, b2]\n",
    "\n",
    "# Enabling gradients\n",
    "for p in parameters:\n",
    "    p.requires_grad = True\n",
    "print(\"Number of parameters: \" + str(sum(p.nelement() for p in parameters)))"
   ]
  },
  {
   "cell_type": "markdown",
   "id": "7dae0308",
   "metadata": {},
   "source": [
    "# Training\n",
    "We use the same training loop as in the previous notebook. We have, however, refactored a bit, and defined a method for calculating the loss without messing with the gradients."
   ]
  },
  {
   "cell_type": "code",
   "execution_count": 117,
   "id": "75c5cba8",
   "metadata": {},
   "outputs": [],
   "source": [
    "@torch.no_grad() # Decorator disables gradient tracking\n",
    "def split_loss(split: str = 'train', print_loss: bool = False) -> None:\n",
    "    \"\"\"\n",
    "    Description:\n",
    "        Prints the loss of a chosen split\n",
    "    Inputs:\n",
    "        split: train, valid, or test\n",
    "    \"\"\"\n",
    "    x,y = {\n",
    "        'train': (Xtr, Ytr),\n",
    "        'valid': (Xval, Yval),\n",
    "        'test': (Xtest, Ytest),\n",
    "    }[split]\n",
    "    emb = C[x]\n",
    "    emb_cat = emb.view(emb.shape[0], -1)\n",
    "    h_preactiv = emb_cat @ W1 + b1\n",
    "    h = torch.tanh(h_preactiv)\n",
    "    logits = h @ W2 + b2\n",
    "    loss = F.cross_entropy(logits, y) \n",
    "    \n",
    "    if print_loss:\n",
    "        print(split, loss.item())\n",
    "    else :\n",
    "        return loss.item()"
   ]
  },
  {
   "cell_type": "code",
   "execution_count": 118,
   "id": "5b7f79c4",
   "metadata": {},
   "outputs": [],
   "source": [
    "losses = {\"Train\": [], \"Val\": []}"
   ]
  },
  {
   "cell_type": "code",
   "execution_count": 119,
   "id": "3bd8e0cf",
   "metadata": {
    "scrolled": true
   },
   "outputs": [
    {
     "name": "stdout",
     "output_type": "stream",
     "text": [
      "      0/ 100000: 23.0473\n",
      "   1000/ 100000: 3.4191\n",
      "   2000/ 100000: 3.0487\n",
      "   3000/ 100000: 2.4135\n",
      "   4000/ 100000: 2.7523\n",
      "   5000/ 100000: 2.3663\n",
      "   6000/ 100000: 2.6912\n",
      "   7000/ 100000: 2.5332\n",
      "   8000/ 100000: 2.4685\n",
      "   9000/ 100000: 2.0107\n",
      "  10000/ 100000: 2.3283\n",
      "  11000/ 100000: 2.3131\n",
      "  12000/ 100000: 2.4321\n",
      "  13000/ 100000: 2.4866\n",
      "  14000/ 100000: 2.5920\n",
      "  15000/ 100000: 2.0891\n",
      "  16000/ 100000: 2.3527\n",
      "  17000/ 100000: 2.6379\n",
      "  18000/ 100000: 2.2953\n",
      "  19000/ 100000: 2.1407\n",
      "  20000/ 100000: 2.6083\n",
      "  21000/ 100000: 2.6699\n",
      "  22000/ 100000: 2.4416\n",
      "  23000/ 100000: 2.2343\n",
      "  24000/ 100000: 2.4599\n",
      "  25000/ 100000: 2.4990\n",
      "  26000/ 100000: 2.0231\n",
      "  27000/ 100000: 2.4127\n",
      "  28000/ 100000: 2.1419\n",
      "  29000/ 100000: 2.1188\n",
      "  30000/ 100000: 1.9909\n",
      "  31000/ 100000: 2.2432\n",
      "  32000/ 100000: 2.1213\n",
      "  33000/ 100000: 2.3120\n",
      "  34000/ 100000: 2.1642\n",
      "  35000/ 100000: 2.3642\n",
      "  36000/ 100000: 2.1081\n",
      "  37000/ 100000: 2.2514\n",
      "  38000/ 100000: 2.1755\n",
      "  39000/ 100000: 2.4213\n",
      "  40000/ 100000: 2.3801\n",
      "  41000/ 100000: 2.3312\n",
      "  42000/ 100000: 2.1577\n",
      "  43000/ 100000: 2.1005\n",
      "  44000/ 100000: 2.0113\n",
      "  45000/ 100000: 2.3060\n",
      "  46000/ 100000: 2.4541\n",
      "  47000/ 100000: 1.8668\n",
      "  48000/ 100000: 2.0937\n",
      "  49000/ 100000: 2.1822\n",
      "  50000/ 100000: 2.2619\n",
      "  51000/ 100000: 2.0695\n",
      "  52000/ 100000: 2.1034\n",
      "  53000/ 100000: 2.2560\n",
      "  54000/ 100000: 2.1635\n",
      "  55000/ 100000: 1.9926\n",
      "  56000/ 100000: 2.1584\n",
      "  57000/ 100000: 2.1153\n",
      "  58000/ 100000: 1.9915\n",
      "  59000/ 100000: 2.0050\n",
      "  60000/ 100000: 2.2527\n",
      "  61000/ 100000: 2.4447\n",
      "  62000/ 100000: 2.3668\n",
      "  63000/ 100000: 2.1672\n",
      "  64000/ 100000: 2.1252\n",
      "  65000/ 100000: 2.2174\n",
      "  66000/ 100000: 2.2081\n",
      "  67000/ 100000: 1.9507\n",
      "  68000/ 100000: 1.9323\n",
      "  69000/ 100000: 2.0641\n",
      "  70000/ 100000: 2.1105\n",
      "  71000/ 100000: 2.0927\n",
      "  72000/ 100000: 2.3857\n",
      "  73000/ 100000: 2.1524\n",
      "  74000/ 100000: 2.4076\n",
      "  75000/ 100000: 2.3259\n",
      "  76000/ 100000: 1.9737\n",
      "  77000/ 100000: 2.0059\n",
      "  78000/ 100000: 1.9954\n",
      "  79000/ 100000: 2.0680\n",
      "  80000/ 100000: 2.0724\n",
      "  81000/ 100000: 2.1993\n",
      "  82000/ 100000: 2.5541\n",
      "  83000/ 100000: 2.0182\n",
      "  84000/ 100000: 2.1166\n",
      "  85000/ 100000: 2.3380\n",
      "  86000/ 100000: 2.2819\n",
      "  87000/ 100000: 2.3341\n",
      "  88000/ 100000: 2.3364\n",
      "  89000/ 100000: 2.3194\n",
      "  90000/ 100000: 2.2396\n",
      "  91000/ 100000: 2.1411\n",
      "  92000/ 100000: 2.3524\n",
      "  93000/ 100000: 2.2720\n",
      "  94000/ 100000: 2.2048\n",
      "  95000/ 100000: 2.1707\n",
      "  96000/ 100000: 2.1968\n",
      "  97000/ 100000: 2.1311\n",
      "  98000/ 100000: 2.2593\n",
      "  99000/ 100000: 2.2092\n"
     ]
    }
   ],
   "source": [
    "epochs = 100000\n",
    "batch_size = 64\n",
    "lr = 0.1\n",
    "\n",
    "for epoch in range(epochs):\n",
    "    \n",
    "    # Minibatch\n",
    "    ix = torch.randint(0, Xtr.shape[0], (batch_size,))\n",
    "    Xb, Yb = Xtr[ix], Ytr[ix]\n",
    "    \n",
    "    # Forward pass\n",
    "    emb = C[Xb]\n",
    "    emb_cat = emb.view(emb.shape[0], -1)\n",
    "    h_preactiv = emb_cat @ W1 + b1\n",
    "    h = torch.tanh(h_preactiv)\n",
    "    logits = h @ W2 + b2\n",
    "    loss = F.cross_entropy(logits, Yb)    \n",
    "    \n",
    "    # Backward pass\n",
    "    for p in parameters:\n",
    "        p.grad = None\n",
    "    loss.backward()\n",
    "\n",
    "    ## Update\n",
    "    if epoch < 30000:\n",
    "        for p in parameters:\n",
    "            p.data += -lr * p.grad\n",
    "    elif epoch < 60000:\n",
    "        for p in parameters:\n",
    "            p.data += -lr * 0.1 * p.grad\n",
    "    else:\n",
    "        for p in parameters:\n",
    "            p.data += -lr * 0.01 * p.grad        \n",
    "        \n",
    "    # Tracking stats\n",
    "    losses[\"Train\"].append(loss.item())\n",
    "    #losses[\"Val\"].append(split_loss(\"valid\"))\n",
    "    \n",
    "    # Printing stats\n",
    "    if not epoch % 100000:\n",
    "        print(f\"{epoch:7d}/{epochs:7d}: {loss.item():.4f}\")"
   ]
  },
  {
   "cell_type": "code",
   "execution_count": 120,
   "id": "704f5a2d",
   "metadata": {},
   "outputs": [
    {
     "data": {
      "image/png": "[encoded data removed]",
      "text/plain": [
       "<Figure size 640x480 with 1 Axes>"
      ]
     },
     "metadata": {},
     "output_type": "display_data"
    }
   ],
   "source": [
    "# Plotting training and validation losses\n",
    "xs = list(range(1, len(losses[\"Train\"])+1))\n",
    "plt.plot(xs, losses[\"Train\"], label = \"Train\", color=\"green\")\n",
    "#plt.plot(xs, losses[\"Val\"], label = \"Valid\", color=\"red\")\n",
    "plt.legend()\n",
    "plt.show()"
   ]
  },
  {
   "cell_type": "code",
   "execution_count": 121,
   "id": "b94e2c63",
   "metadata": {},
   "outputs": [
    {
     "name": "stdout",
     "output_type": "stream",
     "text": [
      "train 2.197010040283203\n",
      "valid 2.2241969108581543\n"
     ]
    }
   ],
   "source": [
    "split_loss(\"train\", print_loss=True)\n",
    "split_loss(\"valid\", print_loss=True)"
   ]
  },
  {
   "cell_type": "markdown",
   "id": "c99422f8",
   "metadata": {},
   "source": [
    "# Generating Names"
   ]
  },
  {
   "cell_type": "code",
   "execution_count": 122,
   "id": "fcd4d4c8",
   "metadata": {
    "scrolled": true
   },
   "outputs": [
    {
     "name": "stdout",
     "output_type": "stream",
     "text": [
      "esa.\n",
      "braana.\n",
      "haa.\n",
      "vaohina.\n",
      "ezelli.\n",
      "skaelin.\n",
      "alon.\n",
      "asia.\n",
      "jase.\n",
      "horathen.\n",
      "bramin.\n",
      "valya.\n",
      "tattlyna.\n",
      "mhi.\n",
      "dariberra.\n",
      "maghlery.\n",
      "adje.\n",
      "yural.\n",
      "saydlkilavelia.\n",
      "atded.\n"
     ]
    }
   ],
   "source": [
    "number_of_names = 20\n",
    "\n",
    "for _ in range(number_of_names):\n",
    "    \n",
    "    char_idx = []\n",
    "    context = [0] * block_size # Initialize with all ...\n",
    "    while True:\n",
    "        emb = C[torch.tensor([context])] # Embeddings for context\n",
    "        h = torch.tanh(emb.view(1, -1) @ W1 + b1)\n",
    "        logits = h @ W2 + b2\n",
    "        probs = F.softmax(logits, dim=1)\n",
    "        idx = torch.multinomial(probs, num_samples=1).item()\n",
    "        context = context[1:] + [idx]\n",
    "        char_idx.append(idx)\n",
    "        if idx == 0:\n",
    "            break\n",
    "    \n",
    "    print(''.join(idx_to_chr[char_idx] for char_idx in char_idx))"
   ]
  },
  {
   "cell_type": "markdown",
   "id": "ade20927",
   "metadata": {},
   "source": [
    "# Analyses\n",
    "We will now go through the model above and find out how to make it better."
   ]
  },
  {
   "cell_type": "markdown",
   "id": "ea774ec1",
   "metadata": {},
   "source": [
    "### Initialization\n",
    "If we look at the losses output by the model, we can see that the initial loss is way higher than all the training losses. This is ofcause expected, at we initialize the weights using random numbers. But there are things we can do to ensure a better initial loss. E.g. we could make sure the initial model predicts the 27 output-letters uniformly. We will start out by calculating the expected initial loss if the propabilities of the outputs were uniformly distributed. Go to notebook 1. if you want to see how the loss was calculated manually."
   ]
  },
  {
   "cell_type": "code",
   "execution_count": 123,
   "id": "f3f942a3",
   "metadata": {},
   "outputs": [
    {
     "data": {
      "text/plain": [
       "tensor(3.2958)"
      ]
     },
     "execution_count": 123,
     "metadata": {},
     "output_type": "execute_result"
    }
   ],
   "source": [
    "# Estimating the loss at uniform distribution\n",
    "-torch.tensor(1/27).log()"
   ]
  },
  {
   "cell_type": "markdown",
   "id": "ec5979d4",
   "metadata": {},
   "source": [
    "We can illustrate this example further by comparing the loss for a uniformly distributed tensor vs a randomly initialized tensor."
   ]
  },
  {
   "cell_type": "code",
   "execution_count": 124,
   "id": "3fc0ae25",
   "metadata": {},
   "outputs": [
    {
     "data": {
      "text/plain": [
       "(tensor([0.1500, 0.1500, 0.1500, 0.1500]),\n",
       " tensor([0.2500, 0.2500, 0.2500, 0.2500]),\n",
       " tensor([1.3863, 1.3863, 1.3863, 1.3863]))"
      ]
     },
     "execution_count": 124,
     "metadata": {},
     "output_type": "execute_result"
    }
   ],
   "source": [
    "# Uniform\n",
    "logits = torch.tensor([0.15,0.15,0.15,0.15])\n",
    "probs = torch.softmax(logits, dim=0)\n",
    "losses = -probs.log()\n",
    "logits, probs, losses"
   ]
  },
  {
   "cell_type": "code",
   "execution_count": 125,
   "id": "5ae71932",
   "metadata": {},
   "outputs": [
    {
     "data": {
      "text/plain": [
       "(tensor([-0.0841, -1.3557, -0.4450, -0.3075]),\n",
       " tensor([0.3601, 0.1010, 0.2510, 0.2880]),\n",
       " tensor([1.0215, 2.2930, 1.3824, 1.2448]))"
      ]
     },
     "execution_count": 125,
     "metadata": {},
     "output_type": "execute_result"
    }
   ],
   "source": [
    "# Random\n",
    "logits = torch.randn(4)\n",
    "probs = torch.softmax(logits, dim=0)\n",
    "losses = -probs.log()\n",
    "logits, probs, losses"
   ]
  },
  {
   "cell_type": "markdown",
   "id": "646673ff",
   "metadata": {},
   "source": [
    "We can see that the logits of the randomly initialized tensor have more \"extreme\" values than those of the uniform distribution. If we break the training loop after one epoch, we can inspect the logits there, and conclude the same even more so.\n",
    "\n",
    "We will now attempt to find a way to make the initial loss lower by initializing the weights, such that the logits will uniformly distributed (most easily to get them to all to be close to zero).\n",
    "\n",
    "We will work out way backworth through the forward pass:\n",
    "\n",
    "1. logits = h @ W2 + b2\n",
    "  * We can see that the biases **b2** adds directly to the logits. By initializing **b2** as zero, we can move the logits closer to zero.\n",
    "  * We can also scale down **W2** to get the logits closer to zero."
   ]
  },
  {
   "cell_type": "code",
   "execution_count": 131,
   "id": "d27d6809",
   "metadata": {},
   "outputs": [
    {
     "name": "stdout",
     "output_type": "stream",
     "text": [
      "Number of parameters: 11897\n"
     ]
    }
   ],
   "source": [
    "# Attempt 1: Logits towards zero\n",
    "n_embd = 10\n",
    "n_hidden = 200\n",
    "block_size = 3\n",
    "vocab_size = len(chr_to_idx)\n",
    "\n",
    "# Lookup table\n",
    "C = torch.randn([vocab_size, n_embd])\n",
    "\n",
    "# Weights and biases\n",
    "W1 = torch.randn([n_embd * block_size, n_hidden])\n",
    "b1 = torch.randn([n_hidden])\n",
    "W2 = torch.randn([n_hidden, vocab_size]) * 0.01\n",
    "b2 = torch.randn([vocab_size]) * 0\n",
    "\n",
    "# Placing parameters in list\n",
    "parameters = [C, W1, b1, W2, b2]\n",
    "\n",
    "# Enabling gradients\n",
    "for p in parameters:\n",
    "    p.requires_grad = True\n",
    "print(\"Number of parameters: \" + str(sum(p.nelement() for p in parameters)))"
   ]
  },
  {
   "cell_type": "code",
   "execution_count": 132,
   "id": "83ef0ef8",
   "metadata": {
    "scrolled": true
   },
   "outputs": [
    {
     "name": "stdout",
     "output_type": "stream",
     "text": [
      "      0/ 100000: 3.3215\n",
      "  10000/ 100000: 2.1920\n",
      "  20000/ 100000: 2.2812\n",
      "  30000/ 100000: 2.3799\n",
      "  40000/ 100000: 2.1828\n",
      "  50000/ 100000: 2.0874\n",
      "  60000/ 100000: 1.9534\n",
      "  70000/ 100000: 2.0219\n",
      "  80000/ 100000: 2.0017\n",
      "  90000/ 100000: 2.1817\n",
      "train 2.1081840991973877\n",
      "valid 2.158094882965088\n"
     ]
    }
   ],
   "source": [
    "# Attempt 1: Training\n",
    "losses = {\"Train\": [], \"Val\": []}\n",
    "epochs = 100000\n",
    "batch_size = 64\n",
    "lr = 0.1\n",
    "\n",
    "for epoch in range(epochs):\n",
    "    \n",
    "    # Minibatch\n",
    "    ix = torch.randint(0, Xtr.shape[0], (batch_size,))\n",
    "    Xb, Yb = Xtr[ix], Ytr[ix]\n",
    "    \n",
    "    # Forward pass\n",
    "    emb = C[Xb]\n",
    "    emb_cat = emb.view(emb.shape[0], -1)\n",
    "    h_preactiv = emb_cat @ W1 + b1\n",
    "    h = torch.tanh(h_preactiv)\n",
    "    logits = h @ W2 + b2\n",
    "    loss = F.cross_entropy(logits, Yb)    \n",
    "    \n",
    "    # Backward pass\n",
    "    for p in parameters:\n",
    "        p.grad = None\n",
    "    loss.backward()\n",
    "\n",
    "    ## Update\n",
    "    if epoch < 30000:\n",
    "        for p in parameters:\n",
    "            p.data += -lr * p.grad\n",
    "    elif epoch < 60000:\n",
    "        for p in parameters:\n",
    "            p.data += -lr * 0.1 * p.grad\n",
    "    else:\n",
    "        for p in parameters:\n",
    "            p.data += -lr * 0.01 * p.grad        \n",
    "        \n",
    "    # Tracking stats\n",
    "    losses[\"Train\"].append(loss.item())\n",
    "    #losses[\"Val\"].append(split_loss(\"valid\"))\n",
    "    \n",
    "    # Printing stats\n",
    "    if not epoch % 10000:\n",
    "        print(f\"{epoch:7d}/{epochs:7d}: {loss.item():.4f}\")\n",
    "\n",
    "split_loss('train', print_loss=True)\n",
    "split_loss('valid', print_loss=True)"
   ]
  },
  {
   "cell_type": "code",
   "execution_count": 133,
   "id": "20a526c5",
   "metadata": {},
   "outputs": [
    {
     "data": {
      "image/png": "[encoded data removed]",
      "text/plain": [
       "<Figure size 640x480 with 1 Axes>"
      ]
     },
     "metadata": {},
     "output_type": "display_data"
    }
   ],
   "source": [
    "# Attempt 1: Plotting training and validation losses\n",
    "xs = list(range(1, len(losses[\"Train\"])+1))\n",
    "plt.plot(xs, losses[\"Train\"], label = \"Train\", color=\"green\")\n",
    "#plt.plot(xs, losses[\"Val\"], label = \"Valid\", color=\"red\")\n",
    "plt.legend()\n",
    "plt.show()"
   ]
  },
  {
   "cell_type": "code",
   "execution_count": null,
   "id": "c503c072",
   "metadata": {},
   "outputs": [],
   "source": []
  },
  {
   "cell_type": "code",
   "execution_count": null,
   "id": "4b8447ad",
   "metadata": {},
   "outputs": [],
   "source": [
    "\n",
    "\n",
    "\n",
    "\n",
    "\n",
    "\n",
    "\n",
    "\n",
    "\n",
    "\n",
    "\n",
    "\n",
    "\n",
    "\n",
    "\n",
    "\n",
    "\n",
    "\n",
    "\n",
    "\n",
    "\n",
    "\n",
    "\n"
   ]
  },
  {
   "cell_type": "code",
   "execution_count": null,
   "id": "2167ffcb",
   "metadata": {},
   "outputs": [],
   "source": [
    "# https://www.youtube.com/watch?v=P6sfmUTpUmc"
   ]
  }
 ],
 "metadata": {
  "kernelspec": {
   "display_name": "Python 3 (ipykernel)",
   "language": "python",
   "name": "python3"
  },
  "language_info": {
   "codemirror_mode": {
    "name": "ipython",
    "version": 3
   },
   "file_extension": ".py",
   "mimetype": "text/x-python",
   "name": "python",
   "nbconvert_exporter": "python",
   "pygments_lexer": "ipython3",
   "version": "3.10.6"
  }
 },
 "nbformat": 4,
 "nbformat_minor": 5
}
