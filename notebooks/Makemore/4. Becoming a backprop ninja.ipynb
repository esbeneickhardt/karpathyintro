{
 "cells": [
  {
   "cell_type": "markdown",
   "id": "a896ac6d",
   "metadata": {},
   "source": [
    "# Introduction\n",
    "In this notebook we will write out what happens behind the scene, when we in pytorch write **loss.backward()**. This is an important [exercise](https://karpathy.medium.com/yes-you-should-understand-backprop-e2f06eab496b), as it will make us much more effective at building and debugging neural networks, by removing \"the magic\" happening behind the scenes."
   ]
  },
  {
   "cell_type": "markdown",
   "id": "450852f6",
   "metadata": {},
   "source": [
    "# Libraries"
   ]
  },
  {
   "cell_type": "code",
   "execution_count": 10,
   "id": "2036684c",
   "metadata": {},
   "outputs": [],
   "source": [
    "%matplotlib inline\n",
    "%config IPCompleter.use_jedi=False"
   ]
  },
  {
   "cell_type": "code",
   "execution_count": 11,
   "id": "9a82fa8b",
   "metadata": {},
   "outputs": [],
   "source": [
    "import random\n",
    "import torch\n",
    "import torch.nn.functional as F\n",
    "import matplotlib.pyplot as plt"
   ]
  },
  {
   "cell_type": "markdown",
   "id": "e4637db7",
   "metadata": {},
   "source": [
    "# Data\n",
    "We are using the same data again again!"
   ]
  },
  {
   "cell_type": "markdown",
   "id": "7b8cafcc",
   "metadata": {},
   "source": [
    "### Reading the Data"
   ]
  },
  {
   "cell_type": "code",
   "execution_count": 12,
   "id": "c52acb82",
   "metadata": {},
   "outputs": [],
   "source": [
    "# Reading names into a list\n",
    "with open('../../data/names.txt', 'r') as f:\n",
    "    names = f.readlines()\n",
    "    names = [name.strip() for name in names]"
   ]
  },
  {
   "cell_type": "markdown",
   "id": "1ca20fe8",
   "metadata": {},
   "source": [
    "### Creating Vocabulary"
   ]
  },
  {
   "cell_type": "code",
   "execution_count": 13,
   "id": "4acfe888",
   "metadata": {},
   "outputs": [
    {
     "name": "stdout",
     "output_type": "stream",
     "text": [
      "{'a': 1, 'b': 2, 'c': 3, 'd': 4, 'e': 5, 'f': 6, 'g': 7, 'h': 8, 'i': 9, 'j': 10, 'k': 11, 'l': 12, 'm': 13, 'n': 14, 'o': 15, 'p': 16, 'q': 17, 'r': 18, 's': 19, 't': 20, 'u': 21, 'v': 22, 'w': 23, 'x': 24, 'y': 25, 'z': 26}\n",
      "{1: 'a', 2: 'b', 3: 'c', 4: 'd', 5: 'e', 6: 'f', 7: 'g', 8: 'h', 9: 'i', 10: 'j', 11: 'k', 12: 'l', 13: 'm', 14: 'n', 15: 'o', 16: 'p', 17: 'q', 18: 'r', 19: 's', 20: 't', 21: 'u', 22: 'v', 23: 'w', 24: 'x', 25: 'y', 26: 'z', 0: '.'}\n"
     ]
    }
   ],
   "source": [
    "# Building the vocabulary (character to/from index)\n",
    "chars = sorted(list(set(''.join(names))))\n",
    "chr_to_idx = {s:i+1 for i,s in enumerate(chars)}; print(chr_to_idx)\n",
    "chr_to_idx['.'] = 0\n",
    "idx_to_chr = {i:s for s,i in chr_to_idx.items()}; print(idx_to_chr)"
   ]
  },
  {
   "cell_type": "markdown",
   "id": "3032fbca",
   "metadata": {},
   "source": [
    "### Building the Dataset"
   ]
  },
  {
   "cell_type": "code",
   "execution_count": 14,
   "id": "6c389e40",
   "metadata": {},
   "outputs": [],
   "source": [
    "def build_dataset(words: list, block_size: int = 3, verbose: bool = False) -> tuple:\n",
    "    \"\"\"\n",
    "    Description:\n",
    "        Take a list of words and creates Xs and Ys give\n",
    "        a block size. E.g. block_size=3 for emma would \n",
    "        result in:\n",
    "            ... ---> e  \n",
    "            ..e ---> m  \n",
    "            .em ---> m  \n",
    "            emm ---> a  \n",
    "            mma ---> . \n",
    "        Stored in a (n, 3) tensor\n",
    "    Inputs:\n",
    "        words: List of words\n",
    "        block_size: The context window\n",
    "        verbose: Where to print the outputs\n",
    "    Ouputs:\n",
    "        A (n, block_size) tensor with Xs\n",
    "        A (n) tensor with Ys\n",
    "    \"\"\"\n",
    "    X, Y = [], []\n",
    "    for word in words:\n",
    "        if verbose:\n",
    "            print(word)\n",
    "        context = [0] * block_size\n",
    "        for char in word + '.':\n",
    "            idx = chr_to_idx[char]\n",
    "            X.append(context)\n",
    "            Y.append(idx)\n",
    "            if verbose:\n",
    "                print(''.join(idx_to_chr[i] for i in context), idx_to_chr[idx])\n",
    "            context = context[1:] + [idx]\n",
    "    \n",
    "    X = torch.tensor(X)\n",
    "    Y = torch.tensor(Y)\n",
    "    \n",
    "    return X, Y"
   ]
  },
  {
   "cell_type": "code",
   "execution_count": 15,
   "id": "ad8e41ed",
   "metadata": {},
   "outputs": [],
   "source": [
    "# Putting names in random order\n",
    "random.shuffle(names)\n",
    "\n",
    "# Creating split indices\n",
    "n1 = int(0.8 * len(names))\n",
    "n2 = int(0.9 * len(names))"
   ]
  },
  {
   "cell_type": "code",
   "execution_count": 16,
   "id": "9f499fdf",
   "metadata": {},
   "outputs": [
    {
     "name": "stdout",
     "output_type": "stream",
     "text": [
      "torch.Size([182628])\n",
      "torch.Size([22776])\n",
      "torch.Size([22742])\n"
     ]
    }
   ],
   "source": [
    "# Building training, validation and test sets\n",
    "Xtr, Ytr = build_dataset(names[:n1]); print(Ytr.size())\n",
    "Xval, Yval = build_dataset(names[n1:n2]); print(Yval.size())\n",
    "Xtest, Ytest = build_dataset(names[n2:]); print(Ytest.size())"
   ]
  },
  {
   "cell_type": "markdown",
   "id": "a4e29595",
   "metadata": {},
   "source": [
    "# Utility\n",
    "Here are some utility functions for various purposes later."
   ]
  },
  {
   "cell_type": "code",
   "execution_count": 17,
   "id": "4c3eadc2",
   "metadata": {},
   "outputs": [],
   "source": [
    "def cmp(s: str, dt: torch.Tensor, t: torch.Tensor):\n",
    "    \"\"\"\n",
    "    Description:\n",
    "        Compares manually calculated gradients to gradients\n",
    "        calculated using Pytorch. Prints exact gradients, \n",
    "        approximate gradients and the biggest difference\n",
    "        between gradients.\n",
    "    Inputs:\n",
    "        s: name\n",
    "        dt: Manual gradient\n",
    "        t: Pytorch gradient\n",
    "    \"\"\"\n",
    "    ex = torch.all(dt == t.grad).item()\n",
    "    app = torch.allclose(dt, t.grad)\n",
    "    maxdiff = (dt - t.grad).abs().max().item()\n",
    "    print(f'{s:15s} | exact: {str(ex):5s} | approximate: {str(app):5s} | maxdiff: {maxdiff}')"
   ]
  },
  {
   "cell_type": "markdown",
   "id": "5e68fba2",
   "metadata": {},
   "source": [
    "# Network\n",
    "We will be using one of the networks from the previous lesson that includes the bachnormalization layer."
   ]
  },
  {
   "cell_type": "code",
   "execution_count": 18,
   "id": "2908bc3d",
   "metadata": {},
   "outputs": [
    {
     "name": "stdout",
     "output_type": "stream",
     "text": [
      "Number of parameters: 12297\n"
     ]
    }
   ],
   "source": [
    "n_embd = 10\n",
    "n_hidden = 200\n",
    "block_size = 3\n",
    "vocab_size = len(chr_to_idx)\n",
    "\n",
    "# Lookup table\n",
    "C = torch.randn([vocab_size, n_embd])\n",
    "\n",
    "# Weights and biases\n",
    "## Layer 1\n",
    "W1 = torch.randn([n_embd * block_size, n_hidden]) * (5/3)/((n_embd * block_size) ** 0.5)\n",
    "b1 = torch.randn([n_hidden]) * 0.1\n",
    "\n",
    "## Layer 2\n",
    "W2 = torch.randn([n_hidden, vocab_size]) * 0.1\n",
    "b2 = torch.randn([vocab_size]) * 0.1\n",
    "\n",
    "## Batch Norm Shifting weights\n",
    "bngain = torch.ones((1, n_hidden)) * 0.1 + 1\n",
    "bnbias = torch.zeros((1, n_hidden)) * 0.1\n",
    "\n",
    "# Placing parameters in list\n",
    "parameters = [C, W1, b1, W2, b2, bngain, bnbias]\n",
    "\n",
    "# Enabling gradients\n",
    "for p in parameters:\n",
    "    p.requires_grad = True\n",
    "print(\"Number of parameters: \" + str(sum(p.nelement() for p in parameters)))"
   ]
  },
  {
   "cell_type": "markdown",
   "id": "3f41162d",
   "metadata": {},
   "source": [
    "# Training\n",
    " The training loop will also be almost the same except that **loss.backward()** will be written manually. One change is that the forward has been chunked such that we can debug loss.backward() on one step at the time."
   ]
  },
  {
   "cell_type": "markdown",
   "id": "dcbc6721",
   "metadata": {},
   "source": [
    "### Constructing a mini-batch"
   ]
  },
  {
   "cell_type": "code",
   "execution_count": 19,
   "id": "e72d8235",
   "metadata": {},
   "outputs": [],
   "source": [
    "batch_size = 32\n",
    "ix = torch.randint(0, Xtr.shape[0], (batch_size,))\n",
    "Xb, Yb = Xtr[ix], Ytr[ix]"
   ]
  },
  {
   "cell_type": "markdown",
   "id": "19ab4bad",
   "metadata": {},
   "source": [
    "### Chunked Forward Pass"
   ]
  },
  {
   "cell_type": "code",
   "execution_count": 20,
   "id": "6c810efd",
   "metadata": {},
   "outputs": [],
   "source": [
    "# Embeddings\n",
    "emb = C[Xb]\n",
    "embcat = emb.view(emb.shape[0], -1) # concatenate the vectors\n",
    "\n",
    "# Linear layer\n",
    "hprebn = embcat @ W1 + b1\n",
    "\n",
    "# BatchNorm layer\n",
    "bnmeani = 1/batch_size*hprebn.sum(0, keepdim=True)\n",
    "bndiff = hprebn - bnmeani\n",
    "bndiff2 = bndiff**2\n",
    "bnvar = 1/(batch_size-1)*(bndiff2).sum(0, keepdim=True) # note: Bessel's correction (dividing by n-1, not n)\n",
    "bnvar_inv = (bnvar + 1e-5)**-0.5\n",
    "bnraw = bndiff * bnvar_inv\n",
    "hpreact = bngain * bnraw + bnbias\n",
    "\n",
    "# Non-linearity\n",
    "h = torch.tanh(hpreact) # hidden layer\n",
    "\n",
    "# Linear layer\n",
    "logits = h @ W2 + b2 # output layer\n",
    "\n",
    "# Loss (cross entropy loss)\n",
    "logit_maxes = logits.max(1, keepdim=True).values\n",
    "norm_logits = logits - logit_maxes # subtract max for numerical stability\n",
    "counts = norm_logits.exp()\n",
    "counts_sum = counts.sum(1, keepdims=True)\n",
    "counts_sum_inv = counts_sum**-1 # if I use (1.0 / counts_sum) instead then I can't get backprop to be bit exact...\n",
    "probs = counts * counts_sum_inv\n",
    "logprobs = probs.log()\n",
    "loss = -logprobs[range(batch_size), Yb].mean()"
   ]
  },
  {
   "cell_type": "markdown",
   "id": "2934673f",
   "metadata": {},
   "source": [
    "### Pytorch Backward Pass"
   ]
  },
  {
   "cell_type": "code",
   "execution_count": 21,
   "id": "8b62658d",
   "metadata": {},
   "outputs": [
    {
     "data": {
      "text/plain": [
       "tensor(3.8859, grad_fn=<NegBackward0>)"
      ]
     },
     "execution_count": 21,
     "metadata": {},
     "output_type": "execute_result"
    }
   ],
   "source": [
    "for p in parameters:\n",
    "    p.grad = None\n",
    "for t in [logprobs, probs, counts, counts_sum, counts_sum_inv,\n",
    "          norm_logits, logit_maxes, logits, h, hpreact, bnraw,\n",
    "         bnvar_inv, bnvar, bndiff2, bndiff, hprebn, bnmeani,\n",
    "         embcat, emb]:\n",
    "    t.retain_grad()\n",
    "loss.backward()\n",
    "loss"
   ]
  },
  {
   "cell_type": "markdown",
   "id": "0d6a5be1",
   "metadata": {},
   "source": [
    "# Exercise 1\n",
    "Here we will backprop through the all of the variables as they are defined in the forward pass above. "
   ]
  },
  {
   "cell_type": "markdown",
   "id": "e18c82bd",
   "metadata": {},
   "source": [
    "#### Derivative of logprobs\n",
    "An example of the mean operation (see last calculation in the forward pass).\n",
    "\n",
    "Calculation:  \n",
    "loss = -(a + b + c) / 3 <=>  \n",
    "loss = -1/3\\*a + -1/3\\*b + -1/3\\*c\n",
    "\n",
    "Derivative:  \n",
    "dloss/da = -1/3 + 0 + 0 <=>  \n",
    "dloss/da = -1/3  \n",
    "\n",
    "As only the predicted letters participate in the loss, the remaning letters have a gradient of zero."
   ]
  },
  {
   "cell_type": "code",
   "execution_count": 22,
   "id": "b060789a",
   "metadata": {},
   "outputs": [
    {
     "name": "stdout",
     "output_type": "stream",
     "text": [
      "logprobs        | exact: True  | approximate: True  | maxdiff: 0.0\n"
     ]
    }
   ],
   "source": [
    "# Initializing with zeroes\n",
    "dlogprobs = torch.zeros_like(logprobs)\n",
    "\n",
    "# Setting gradients in letter locations\n",
    "dlogprobs[range(batch_size), Yb] = -1.0/batch_size\n",
    "\n",
    "# Checking estimated gradients vs pytorch gradients\n",
    "cmp('logprobs', dlogprobs, logprobs)"
   ]
  },
  {
   "cell_type": "markdown",
   "id": "3e671846",
   "metadata": {},
   "source": [
    "#### Derivative of probs\n",
    "The calculation can be found in the forward pass.\n",
    "\n",
    "Calculation:  \n",
    "logprobs = log(a)  \n",
    "\n",
    "Derivative:  \n",
    "dlogprobs/da = 1/a    \n",
    "\n",
    "Chain Rule:\n",
    "F(x) = f(g(x)) =>  \n",
    "F'(x) = f'(g(x)) * g'(x)  \n",
    "\n",
    "In our case this means that:  \n",
    "F'(x) = 1/probs * dlogprobs"
   ]
  },
  {
   "cell_type": "code",
   "execution_count": 23,
   "id": "7e5c7027",
   "metadata": {},
   "outputs": [
    {
     "name": "stdout",
     "output_type": "stream",
     "text": [
      "probs           | exact: True  | approximate: True  | maxdiff: 0.0\n"
     ]
    }
   ],
   "source": [
    "# Setting gradients\n",
    "dprobs = 1.0/probs * dlogprobs\n",
    "\n",
    "# Checking estimated gradients vs pytorch gradients\n",
    "cmp('probs', dprobs, probs)"
   ]
  },
  {
   "cell_type": "markdown",
   "id": "e7a4f19f",
   "metadata": {},
   "source": [
    "#### Derivative of counts_sum_inv\n",
    "From here on only the calculation of the derivative will be show here, while the chain rule will be applied in the actual calculations.\n",
    "\n",
    "Calculation:  \n",
    "counts_sum_inv = a * b  \n",
    "\n",
    "Derivative:  \n",
    "dcounts_sum_inv/da = b    "
   ]
  },
  {
   "cell_type": "code",
   "execution_count": 24,
   "id": "27e3a5cf",
   "metadata": {},
   "outputs": [
    {
     "name": "stdout",
     "output_type": "stream",
     "text": [
      "counts_sum_inv  | exact: True  | approximate: True  | maxdiff: 0.0\n"
     ]
    }
   ],
   "source": [
    "# Setting gradients\n",
    "dcounts_sum_inv = (counts * dprobs).sum(1, keepdim=True)\n",
    "\n",
    "# Checking estimated gradients vs pytorch gradients\n",
    "cmp('counts_sum_inv', dcounts_sum_inv, counts_sum_inv)"
   ]
  },
  {
   "cell_type": "markdown",
   "id": "305b6305",
   "metadata": {},
   "source": [
    "#### Calculating the remaining gradients\n",
    "We will no longer go through explicit examples, but just show the calculations. How to calculate the different derivatives can be found on [Wolframalpha](https://www.wolframalpha.com/input?i=d%2Fdx+x%5E-1)"
   ]
  },
  {
   "cell_type": "code",
   "execution_count": 25,
   "id": "3ce343e0",
   "metadata": {},
   "outputs": [],
   "source": [
    "# counts (part 1)\n",
    "dcounts = counts_sum_inv * dprobs"
   ]
  },
  {
   "cell_type": "code",
   "execution_count": 26,
   "id": "8bb683fb",
   "metadata": {},
   "outputs": [
    {
     "name": "stdout",
     "output_type": "stream",
     "text": [
      "counts_sum      | exact: True  | approximate: True  | maxdiff: 0.0\n"
     ]
    }
   ],
   "source": [
    "# counts_sum\n",
    "dcounts_sum = (-counts_sum**-2) * dcounts_sum_inv\n",
    "cmp('counts_sum', dcounts_sum, counts_sum)"
   ]
  },
  {
   "cell_type": "code",
   "execution_count": 27,
   "id": "55fcfe19",
   "metadata": {},
   "outputs": [
    {
     "name": "stdout",
     "output_type": "stream",
     "text": [
      "counts          | exact: True  | approximate: True  | maxdiff: 0.0\n"
     ]
    }
   ],
   "source": [
    "# counts (part 2)\n",
    "dcounts += torch.ones_like(counts) * dcounts_sum\n",
    "cmp('counts', dcounts, counts)"
   ]
  },
  {
   "cell_type": "code",
   "execution_count": 28,
   "id": "67717596",
   "metadata": {
    "scrolled": true
   },
   "outputs": [
    {
     "name": "stdout",
     "output_type": "stream",
     "text": [
      "norm_logits     | exact: True  | approximate: True  | maxdiff: 0.0\n"
     ]
    }
   ],
   "source": [
    "# norm_logits\n",
    "dnorm_logits = counts * dcounts\n",
    "cmp('norm_logits', dnorm_logits, norm_logits)"
   ]
  },
  {
   "cell_type": "code",
   "execution_count": 29,
   "id": "45c7a95f",
   "metadata": {},
   "outputs": [
    {
     "name": "stdout",
     "output_type": "stream",
     "text": [
      "logit_maxes     | exact: True  | approximate: True  | maxdiff: 0.0\n"
     ]
    }
   ],
   "source": [
    "# logit_maxes\n",
    "dlogit_maxes = (-dnorm_logits).sum(1, keepdim=True)\n",
    "cmp('logit_maxes', dlogit_maxes, logit_maxes)"
   ]
  },
  {
   "cell_type": "code",
   "execution_count": 30,
   "id": "b6863e5f",
   "metadata": {},
   "outputs": [
    {
     "name": "stdout",
     "output_type": "stream",
     "text": [
      "logits          | exact: True  | approximate: True  | maxdiff: 0.0\n"
     ]
    }
   ],
   "source": [
    "# logits\n",
    "dlogits = dnorm_logits.clone()\n",
    "dlogits += F.one_hot(logits.max(1).indices, num_classes=logits.shape[1]) * dlogit_maxes\n",
    "cmp('logits', dlogits, logits)"
   ]
  },
  {
   "cell_type": "markdown",
   "id": "35783888",
   "metadata": {},
   "source": [
    "#### The derivative for matrix multiplication\n",
    "Here we make a small example, which illustrates how to calculate the derivatives.\n",
    "\n",
    "<pre>\n",
    "d = a @ b + c\n",
    "\n",
    "| d11 d12 |       | a11 a12 |     | b11 b12 |    | c1 c2 |\n",
    "| d21 d22 |   =   | a21 a22 |  @  | b21 b22 |  + | c1 c2 | =>\n",
    "\n",
    "d11 = a11 * b11 + a12 * b21 + c1\n",
    "d12 = a11 * b12 + a12 * b22 + c2\n",
    "d21 = a21 * b11 + a22 * b21 + c1\n",
    "d22 = a21 * b12 + a22 * b22 + c2\n",
    "</pre>\n",
    "\n",
    "When finding the derivative with respect to a, it will be:\n",
    "\n",
    "<pre>\n",
    "dL/da11 = dL/dd11 * b11 + dL/dd12 * b12\n",
    "dL/da12 = dL/dd11 * b21 + dL/dd12 * b22\n",
    "dL/da21 = dL/dd21 * b11 + dL/dd22 * b12\n",
    "dL/da22 = dL/dd21 * b21 + dL/dd22 * b22\n",
    "</pre>\n",
    "\n",
    "This means that the derivative for d is (if rewritten as a matrix multiplication):\n",
    "\n",
    "<pre>\n",
    "\n",
    "          | dL/da11    dL/da12 |   | b11    b21 |\n",
    "dL/da  =  | dL/da21    dL/da22 | * | b12    b22 | <=>\n",
    "\n",
    "dL/da = dL/dd @ b^T\n",
    "</pre>\n",
    "\n",
    "Doing the same for the derivative with respect to b, you will get\n",
    "\n",
    "<pre>\n",
    "dL/db = a^T @ dL/dd \n",
    "</pre>\n",
    "\n",
    "Doing the same for the derivative with respect to c, you will get\n",
    "\n",
    "<pre>\n",
    "dL/dc = dL/dd @ sum(0)\n",
    "</pre>"
   ]
  },
  {
   "cell_type": "code",
   "execution_count": 31,
   "id": "6ac24fa9",
   "metadata": {},
   "outputs": [
    {
     "name": "stdout",
     "output_type": "stream",
     "text": [
      "h               | exact: True  | approximate: True  | maxdiff: 0.0\n"
     ]
    }
   ],
   "source": [
    "# h\n",
    "dh = dlogits @ W2.T\n",
    "cmp('h', dh, h)"
   ]
  },
  {
   "cell_type": "code",
   "execution_count": 32,
   "id": "61e29bee",
   "metadata": {},
   "outputs": [
    {
     "name": "stdout",
     "output_type": "stream",
     "text": [
      "W2              | exact: True  | approximate: True  | maxdiff: 0.0\n"
     ]
    }
   ],
   "source": [
    "# W2\n",
    "dW2 = h.T @ dlogits\n",
    "cmp('W2', dW2, W2)"
   ]
  },
  {
   "cell_type": "code",
   "execution_count": 33,
   "id": "d1d7601f",
   "metadata": {},
   "outputs": [
    {
     "name": "stdout",
     "output_type": "stream",
     "text": [
      "b2              | exact: True  | approximate: True  | maxdiff: 0.0\n"
     ]
    }
   ],
   "source": [
    "# b2\n",
    "db2 = dlogits.sum(0)\n",
    "cmp('b2', db2, b2)"
   ]
  },
  {
   "cell_type": "code",
   "execution_count": 34,
   "id": "bdea2823",
   "metadata": {},
   "outputs": [
    {
     "name": "stdout",
     "output_type": "stream",
     "text": [
      "hpreact         | exact: False | approximate: True  | maxdiff: 4.656612873077393e-10\n"
     ]
    }
   ],
   "source": [
    "# hpreact\n",
    "dhpreact = (1.0 - h**2) * dh\n",
    "cmp('hpreact', dhpreact, hpreact)"
   ]
  },
  {
   "cell_type": "code",
   "execution_count": 35,
   "id": "7e1342d9",
   "metadata": {},
   "outputs": [
    {
     "name": "stdout",
     "output_type": "stream",
     "text": [
      "bngain          | exact: False | approximate: True  | maxdiff: 2.7939677238464355e-09\n"
     ]
    }
   ],
   "source": [
    "# bngain\n",
    "dbngain = (bnraw * dhpreact).sum(0, keepdim=True)\n",
    "cmp('bngain', dbngain, bngain)"
   ]
  },
  {
   "cell_type": "code",
   "execution_count": 36,
   "id": "5367d733",
   "metadata": {},
   "outputs": [
    {
     "name": "stdout",
     "output_type": "stream",
     "text": [
      "bnraw           | exact: False | approximate: True  | maxdiff: 9.313225746154785e-10\n"
     ]
    }
   ],
   "source": [
    "# bnraw\n",
    "dbnraw = bngain * dhpreact\n",
    "cmp('bnraw', dbnraw, bnraw)"
   ]
  },
  {
   "cell_type": "code",
   "execution_count": 37,
   "id": "dfc2749a",
   "metadata": {},
   "outputs": [
    {
     "name": "stdout",
     "output_type": "stream",
     "text": [
      "bnbias          | exact: False | approximate: True  | maxdiff: 7.450580596923828e-09\n"
     ]
    }
   ],
   "source": [
    "# bnbias\n",
    "dbnbias = dhpreact.sum(0, keepdim=True)\n",
    "cmp('bnbias', dbnbias, bnbias)"
   ]
  },
  {
   "cell_type": "code",
   "execution_count": 38,
   "id": "5b4f5eb2",
   "metadata": {},
   "outputs": [],
   "source": [
    "# bndiff (part 1)\n",
    "dbndiff = bnvar_inv * dbnraw"
   ]
  },
  {
   "cell_type": "code",
   "execution_count": 39,
   "id": "41b14fd3",
   "metadata": {},
   "outputs": [
    {
     "name": "stdout",
     "output_type": "stream",
     "text": [
      "bnvar_inv       | exact: False | approximate: True  | maxdiff: 3.725290298461914e-09\n"
     ]
    }
   ],
   "source": [
    "# bnvar_inv \n",
    "dbnvar_inv = (bndiff * dbnraw).sum(0, keepdim=True)\n",
    "cmp('bnvar_inv', dbnvar_inv, bnvar_inv)"
   ]
  },
  {
   "cell_type": "code",
   "execution_count": 40,
   "id": "faa6d986",
   "metadata": {},
   "outputs": [
    {
     "name": "stdout",
     "output_type": "stream",
     "text": [
      "bnvar           | exact: False | approximate: True  | maxdiff: 2.444721758365631e-09\n"
     ]
    }
   ],
   "source": [
    "# bnvar\n",
    "dbnvar = (-0.5*(bnvar + 1e-5)**-1.5) * dbnvar_inv\n",
    "cmp('bnvar', dbnvar, bnvar)"
   ]
  },
  {
   "cell_type": "code",
   "execution_count": 41,
   "id": "d6fc5e3c",
   "metadata": {},
   "outputs": [
    {
     "name": "stdout",
     "output_type": "stream",
     "text": [
      "bndiff2         | exact: False | approximate: True  | maxdiff: 7.639755494892597e-11\n"
     ]
    }
   ],
   "source": [
    "# bndiff2\n",
    "dbndiff2 = (1.0/(batch_size-1))*torch.ones_like(bndiff2) * dbnvar\n",
    "cmp('bndiff2', dbndiff2, bndiff2)"
   ]
  },
  {
   "cell_type": "code",
   "execution_count": 42,
   "id": "c0db64f0",
   "metadata": {},
   "outputs": [
    {
     "name": "stdout",
     "output_type": "stream",
     "text": [
      "bndiff          | exact: False | approximate: True  | maxdiff: 9.313225746154785e-10\n"
     ]
    }
   ],
   "source": [
    "# bndiff (part 2)\n",
    "dbndiff += (2*bndiff) * dbndiff2\n",
    "cmp('bndiff', dbndiff, bndiff)"
   ]
  },
  {
   "cell_type": "code",
   "execution_count": 43,
   "id": "5fa3dccd",
   "metadata": {},
   "outputs": [],
   "source": [
    "# hprebn (part 1)\n",
    "dhprebn = dbndiff.clone()"
   ]
  },
  {
   "cell_type": "code",
   "execution_count": 44,
   "id": "56ec53bf",
   "metadata": {},
   "outputs": [
    {
     "name": "stdout",
     "output_type": "stream",
     "text": [
      "bnmeani         | exact: False | approximate: True  | maxdiff: 7.450580596923828e-09\n"
     ]
    }
   ],
   "source": [
    "# bnmeani\n",
    "dbnmeani = (-dbndiff).sum(0)\n",
    "cmp('bnmeani', dbnmeani, bnmeani)"
   ]
  },
  {
   "cell_type": "code",
   "execution_count": 45,
   "id": "78dd6709",
   "metadata": {},
   "outputs": [
    {
     "name": "stdout",
     "output_type": "stream",
     "text": [
      "hprebn          | exact: False | approximate: True  | maxdiff: 9.313225746154785e-10\n"
     ]
    }
   ],
   "source": [
    "# hprebn (part 2)\n",
    "dhprebn += 1.0/batch_size * (torch.ones_like(hprebn) * dbnmeani)\n",
    "cmp('hprebn', dhprebn, hprebn)"
   ]
  },
  {
   "cell_type": "code",
   "execution_count": 46,
   "id": "c0fe7367",
   "metadata": {},
   "outputs": [
    {
     "name": "stdout",
     "output_type": "stream",
     "text": [
      "embcat          | exact: False | approximate: True  | maxdiff: 5.587935447692871e-09\n"
     ]
    }
   ],
   "source": [
    "# embcat\n",
    "dembcat = dhprebn @ W1.T\n",
    "cmp('embcat', dembcat, embcat)"
   ]
  },
  {
   "cell_type": "code",
   "execution_count": 47,
   "id": "8420219f",
   "metadata": {},
   "outputs": [
    {
     "name": "stdout",
     "output_type": "stream",
     "text": [
      "W1              | exact: False | approximate: True  | maxdiff: 9.313225746154785e-09\n"
     ]
    }
   ],
   "source": [
    "# W1\n",
    "dW1 = embcat.T @ dhprebn\n",
    "cmp('W1', dW1, W1)"
   ]
  },
  {
   "cell_type": "code",
   "execution_count": 48,
   "id": "5d500308",
   "metadata": {},
   "outputs": [],
   "source": [
    "def cmp(s, dt, t):\n",
    "  ex = torch.all(dt == t.grad).item()\n",
    "  app = torch.allclose(dt, t.grad)\n",
    "  maxdiff = (dt - t.grad).abs().max().item()\n",
    "  print(f'{s:15s} | exact: {str(ex):5s} | approximate: {str(app):5s} | maxdiff: {maxdiff}')"
   ]
  },
  {
   "cell_type": "code",
   "execution_count": 49,
   "id": "2afef59f",
   "metadata": {},
   "outputs": [
    {
     "name": "stdout",
     "output_type": "stream",
     "text": [
      "b1              | exact: False | approximate: True  | maxdiff: 7.450580596923828e-09\n"
     ]
    }
   ],
   "source": [
    "# b1\n",
    "db1 = dhprebn.sum(0)\n",
    "cmp('b1', db1, b1)"
   ]
  },
  {
   "cell_type": "code",
   "execution_count": 50,
   "id": "47140101",
   "metadata": {},
   "outputs": [
    {
     "name": "stdout",
     "output_type": "stream",
     "text": [
      "emb             | exact: False | approximate: True  | maxdiff: 5.587935447692871e-09\n"
     ]
    }
   ],
   "source": [
    "# emb\n",
    "demb = dembcat.view(emb.shape)\n",
    "cmp('emb', demb, emb)"
   ]
  },
  {
   "cell_type": "code",
   "execution_count": 51,
   "id": "f9e7ce7c",
   "metadata": {},
   "outputs": [
    {
     "name": "stdout",
     "output_type": "stream",
     "text": [
      "C               | exact: False | approximate: True  | maxdiff: 7.450580596923828e-09\n"
     ]
    }
   ],
   "source": [
    "# C\n",
    "dC = torch.zeros_like(C)\n",
    "for k in range(Xb.shape[0]):\n",
    "  for j in range(Xb.shape[1]):\n",
    "    ix = Xb[k,j]\n",
    "    dC[ix] += demb[k,j]\n",
    "cmp('C', dC, C)"
   ]
  },
  {
   "cell_type": "markdown",
   "id": "de2c7a63",
   "metadata": {},
   "source": [
    "# Exercise 2\n",
    "In exercise 1 we broke down all the operations into atomic pieces, but that is not necessary to do backprop! Here we will do backprop directly on cross_entropy instead of on its small pieces."
   ]
  },
  {
   "cell_type": "code",
   "execution_count": 53,
   "id": "92f9676f",
   "metadata": {},
   "outputs": [
    {
     "name": "stdout",
     "output_type": "stream",
     "text": [
      "3.885904550552368 diff: -2.384185791015625e-07\n"
     ]
    }
   ],
   "source": [
    "# Cross Entropy\n",
    "\n",
    "# before:\n",
    "# logit_maxes = logits.max(1, keepdim=True).values\n",
    "# norm_logits = logits - logit_maxes # subtract max for numerical stability\n",
    "# counts = norm_logits.exp()\n",
    "# counts_sum = counts.sum(1, keepdims=True)\n",
    "# counts_sum_inv = counts_sum**-1 # if I use (1.0 / counts_sum) instead then I can't get backprop to be bit exact...\n",
    "# probs = counts * counts_sum_inv\n",
    "# logprobs = probs.log()\n",
    "# loss = -logprobs[range(n), Yb].mean()\n",
    "\n",
    "# now:\n",
    "loss_fast = F.cross_entropy(logits, Yb)\n",
    "print(loss_fast.item(), 'diff:', (loss_fast - loss).item())"
   ]
  },
  {
   "cell_type": "markdown",
   "id": "7af8ae14",
   "metadata": {},
   "source": [
    "Time to calculate the derivatives on a single step!"
   ]
  },
  {
   "cell_type": "code",
   "execution_count": 56,
   "id": "22ba6282",
   "metadata": {},
   "outputs": [
    {
     "name": "stdout",
     "output_type": "stream",
     "text": [
      "logits          | exact: False | approximate: True  | maxdiff: 4.190951585769653e-09\n"
     ]
    }
   ],
   "source": [
    "# Backward pass (of loss)\n",
    "\n",
    "dlogits = F.softmax(logits, 1)\n",
    "dlogits[range(batch_size), Yb] -= 1\n",
    "dlogits /= batch_size\n",
    "\n",
    "cmp('logits', dlogits, logits) "
   ]
  },
  {
   "cell_type": "markdown",
   "id": "9bc54561",
   "metadata": {},
   "source": [
    "# Exercise 3\n",
    "that is not necessary to do backprop! Here we will do backprop directly on batch normalization instead of on its small pieces."
   ]
  },
  {
   "cell_type": "code",
   "execution_count": 61,
   "id": "c2d9a74f",
   "metadata": {},
   "outputs": [
    {
     "name": "stdout",
     "output_type": "stream",
     "text": [
      "max diff: tensor(4.7684e-07, grad_fn=<MaxBackward1>)\n"
     ]
    }
   ],
   "source": [
    "# Batch Normalization\n",
    "\n",
    "# before:\n",
    "# bnmeani = 1/n*hprebn.sum(0, keepdim=True)\n",
    "# bndiff = hprebn - bnmeani\n",
    "# bndiff2 = bndiff**2\n",
    "# bnvar = 1/(n-1)*(bndiff2).sum(0, keepdim=True) # note: Bessel's correction (dividing by n-1, not n)\n",
    "# bnvar_inv = (bnvar + 1e-5)**-0.5\n",
    "# bnraw = bndiff * bnvar_inv\n",
    "# hpreact = bngain * bnraw + bnbias\n",
    "\n",
    "# now:\n",
    "hpreact_fast = bngain * (hprebn - hprebn.mean(0, keepdim=True)) / torch.sqrt(hprebn.var(0, keepdim=True, unbiased=True) + 1e-5) + bnbias\n",
    "print('max diff:', (hpreact_fast - hpreact).abs().max())"
   ]
  },
  {
   "cell_type": "code",
   "execution_count": 64,
   "id": "6673a039",
   "metadata": {},
   "outputs": [
    {
     "name": "stdout",
     "output_type": "stream",
     "text": [
      "hprebn          | exact: False | approximate: True  | maxdiff: 1.3969838619232178e-09\n"
     ]
    }
   ],
   "source": [
    "# before we had:\n",
    "# dbnraw = bngain * dhpreact\n",
    "# dbndiff = bnvar_inv * dbnraw\n",
    "# dbnvar_inv = (bndiff * dbnraw).sum(0, keepdim=True)\n",
    "# dbnvar = (-0.5*(bnvar + 1e-5)**-1.5) * dbnvar_inv\n",
    "# dbndiff2 = (1.0/(n-1))*torch.ones_like(bndiff2) * dbnvar\n",
    "# dbndiff += (2*bndiff) * dbndiff2\n",
    "# dhprebn = dbndiff.clone()\n",
    "# dbnmeani = (-dbndiff).sum(0)\n",
    "# dhprebn += 1.0/n * (torch.ones_like(hprebn) * dbnmeani)\n",
    "\n",
    "# calculate dhprebn given dhpreact (i.e. backprop through the batchnorm)\n",
    "# (you'll also need to use some of the variables from the forward pass up above)\n",
    "\n",
    "dhprebn = bngain*bnvar_inv/batch_size * (batch_size*dhpreact - dhpreact.sum(0) - batch_size/(batch_size-1)*bnraw*(dhpreact*bnraw).sum(0))\n",
    "\n",
    "cmp('hprebn', dhprebn, hprebn) # I can only get approximate to be true, my maxdiff is 9e-10"
   ]
  },
  {
   "cell_type": "markdown",
   "id": "825a0890",
   "metadata": {},
   "source": [
    "# Exercise 4\n",
    "Finally we will train the MLP neural net with your own backward pass!"
   ]
  },
  {
   "cell_type": "markdown",
   "id": "ad7a6b5e",
   "metadata": {},
   "source": [
    "### Network"
   ]
  },
  {
   "cell_type": "code",
   "execution_count": 66,
   "id": "529cfb49",
   "metadata": {},
   "outputs": [
    {
     "name": "stdout",
     "output_type": "stream",
     "text": [
      "Number of parameters: 12297\n"
     ]
    }
   ],
   "source": [
    "n_embd = 10\n",
    "n_hidden = 200\n",
    "block_size = 3\n",
    "vocab_size = len(chr_to_idx)\n",
    "\n",
    "# Lookup table\n",
    "C = torch.randn([vocab_size, n_embd])\n",
    "\n",
    "# Weights and biases\n",
    "## Layer 1\n",
    "W1 = torch.randn([n_embd * block_size, n_hidden]) * (5/3)/((n_embd * block_size) ** 0.5)\n",
    "b1 = torch.randn([n_hidden]) * 0.1\n",
    "\n",
    "## Layer 2\n",
    "W2 = torch.randn([n_hidden, vocab_size]) * 0.1\n",
    "b2 = torch.randn([vocab_size]) * 0.1\n",
    "\n",
    "## Batch Norm Shifting weights\n",
    "bngain = torch.ones((1, n_hidden)) * 0.1 + 1\n",
    "bnbias = torch.zeros((1, n_hidden)) * 0.1\n",
    "\n",
    "# Placing parameters in list\n",
    "parameters = [C, W1, b1, W2, b2, bngain, bnbias]\n",
    "\n",
    "# Enabling gradients\n",
    "for p in parameters:\n",
    "    p.requires_grad = True\n",
    "print(\"Number of parameters: \" + str(sum(p.nelement() for p in parameters)))"
   ]
  },
  {
   "cell_type": "markdown",
   "id": "662651cb",
   "metadata": {},
   "source": [
    "### Training"
   ]
  },
  {
   "cell_type": "code",
   "execution_count": 70,
   "id": "378dc407",
   "metadata": {},
   "outputs": [
    {
     "name": "stdout",
     "output_type": "stream",
     "text": [
      "      0/ 200000: 3.5072\n",
      "  10000/ 200000: 2.4028\n",
      "  20000/ 200000: 2.2744\n",
      "  30000/ 200000: 1.8583\n",
      "  40000/ 200000: 2.6295\n",
      "  50000/ 200000: 2.2820\n",
      "  60000/ 200000: 1.9982\n",
      "  70000/ 200000: 1.9411\n",
      "  80000/ 200000: 2.2767\n",
      "  90000/ 200000: 2.4410\n",
      " 100000/ 200000: 2.5345\n",
      " 110000/ 200000: 2.2544\n",
      " 120000/ 200000: 2.3097\n",
      " 130000/ 200000: 2.1966\n",
      " 140000/ 200000: 1.9865\n",
      " 150000/ 200000: 2.2198\n",
      " 160000/ 200000: 2.0367\n",
      " 170000/ 200000: 2.0724\n",
      " 180000/ 200000: 1.8182\n",
      " 190000/ 200000: 2.0426\n"
     ]
    }
   ],
   "source": [
    "max_steps = 200000\n",
    "batch_size = 32\n",
    "lossi = []\n",
    "\n",
    "for i in range(max_steps):\n",
    "\n",
    "    # Minibatch\n",
    "    ix = torch.randint(0, Xtr.shape[0], (batch_size,))\n",
    "    Xb, Yb = Xtr[ix], Ytr[ix]\n",
    "\n",
    "    # Forward pass\n",
    "    emb = C[Xb]\n",
    "    embcat = emb.view(emb.shape[0], -1)\n",
    "    \n",
    "    ## Linear layer\n",
    "    hprebn = embcat @ W1 + b1 # hidden layer pre-activation\n",
    "    \n",
    "    ## BatchNorm layer\n",
    "    bnmean = hprebn.mean(0, keepdim=True)\n",
    "    bnvar = hprebn.var(0, keepdim=True, unbiased=True)\n",
    "    bnvar_inv = (bnvar + 1e-5)**-0.5\n",
    "    bnraw = (hprebn - bnmean) * bnvar_inv\n",
    "    hpreact = bngain * bnraw + bnbias\n",
    "    \n",
    "    ## Non-linearity\n",
    "    h = torch.tanh(hpreact) # hidden layer\n",
    "    logits = h @ W2 + b2 # output layer\n",
    "    loss = F.cross_entropy(logits, Yb) # loss function\n",
    "\n",
    "    # Backward pass\n",
    "    for p in parameters:\n",
    "      p.grad = None\n",
    "    \n",
    "    # loss.backward() # use this for correctness comparisons\n",
    "    \n",
    "    ## Manual backprop!\n",
    "    ## Logits\n",
    "    dlogits = F.softmax(logits, 1)\n",
    "    dlogits[range(batch_size), Yb] -= 1\n",
    "    dlogits /= batch_size\n",
    "    \n",
    "    ## Layer 2\n",
    "    dh = dlogits @ W2.T\n",
    "    dW2 = h.T @ dlogits\n",
    "    db2 = dlogits.sum(0)\n",
    "    \n",
    "    ## Non-linearity\n",
    "    dhpreact = (1.0 - h**2) * dh\n",
    "    \n",
    "    ## BatchNorm layer\n",
    "    dbngain = (bnraw * dhpreact).sum(0, keepdim=True)\n",
    "    dbnbias = dhpreact.sum(0, keepdim=True)\n",
    "    dhprebn = bngain*bnvar_inv/batch_size * (batch_size*dhpreact - dhpreact.sum(0) - batch_size/(batch_size-1)*bnraw*(dhpreact*bnraw).sum(0))\n",
    "    \n",
    "    ## Layer 1\n",
    "    dembcat = dhprebn @ W1.T\n",
    "    dW1 = embcat.T @ dhprebn\n",
    "    db1 = dhprebn.sum(0)\n",
    "    \n",
    "    ## Embeddings\n",
    "    demb = dembcat.view(emb.shape)\n",
    "    dC = torch.zeros_like(C)\n",
    "    for k in range(Xb.shape[0]):\n",
    "      for j in range(Xb.shape[1]):\n",
    "        ix = Xb[k,j]\n",
    "        dC[ix] += demb[k,j]\n",
    "    grads = [dC, dW1, db1, dW2, db2, dbngain, dbnbias]\n",
    "\n",
    "    # Update\n",
    "    lr = 0.1 if i < 100000 else 0.01\n",
    "    for p, grad in zip(parameters, grads):\n",
    "      p.data += -lr * grad\n",
    "\n",
    "    # Track stats\n",
    "    if i % 10000 == 0: # print every once in a while\n",
    "      print(f'{i:7d}/{max_steps:7d}: {loss.item():.4f}')\n",
    "    lossi.append(loss.log10().item())"
   ]
  },
  {
   "cell_type": "markdown",
   "id": "be885ba7",
   "metadata": {},
   "source": [
    "### Results"
   ]
  },
  {
   "cell_type": "code",
   "execution_count": 72,
   "id": "a2805057",
   "metadata": {},
   "outputs": [],
   "source": [
    "# Calibrate the batch norm at the end of training\n",
    "with torch.no_grad():\n",
    "    # pass the training set through\n",
    "    emb = C[Xtr]\n",
    "    embcat = emb.view(emb.shape[0], -1)\n",
    "    hpreact = embcat @ W1 + b1\n",
    "    # measure the mean/std over the entire training set\n",
    "    bnmean = hpreact.mean(0, keepdim=True)\n",
    "    bnvar = hpreact.var(0, keepdim=True, unbiased=True)"
   ]
  },
  {
   "cell_type": "code",
   "execution_count": 75,
   "id": "5c38cf2b",
   "metadata": {},
   "outputs": [
    {
     "name": "stdout",
     "output_type": "stream",
     "text": [
      "train 2.066371440887451\n",
      "valid 2.114915609359741\n"
     ]
    }
   ],
   "source": [
    "# Evaluating train and val loss\n",
    "@torch.no_grad()\n",
    "def split_loss(split):\n",
    "    x,y = {\n",
    "        'train': (Xtr, Ytr),\n",
    "        'valid': (Xval, Yval),\n",
    "        'test': (Xtest, Ytest),\n",
    "    }[split]\n",
    "    emb = C[x] # (N, block_size, n_embd)\n",
    "    embcat = emb.view(emb.shape[0], -1) # concat into (N, block_size * n_embd)\n",
    "    hpreact = embcat @ W1 + b1\n",
    "    hpreact = bngain * (hpreact - bnmean) * (bnvar + 1e-5)**-0.5 + bnbias\n",
    "    h = torch.tanh(hpreact) # (N, n_hidden)\n",
    "    logits = h @ W2 + b2 # (N, vocab_size)\n",
    "    loss = F.cross_entropy(logits, y)\n",
    "    print(split, loss.item())\n",
    "\n",
    "split_loss('train')\n",
    "split_loss('valid')"
   ]
  },
  {
   "cell_type": "code",
   "execution_count": 78,
   "id": "5d9522c2",
   "metadata": {},
   "outputs": [
    {
     "name": "stdout",
     "output_type": "stream",
     "text": [
      "aldie.\n",
      "nevy.\n",
      "tree.\n",
      "clivette.\n",
      "arri.\n",
      "robee.\n",
      "khalegeccyla.\n",
      "solaci.\n",
      "shawn.\n",
      "zatleigh.\n",
      "yoluwa.\n",
      "avagan.\n",
      "dani.\n",
      "janze.\n",
      "moegifven.\n",
      "katelan.\n",
      "brylintson.\n",
      "bravedaanna.\n",
      "via.\n",
      "karynn.\n"
     ]
    }
   ],
   "source": [
    "# Sample from model\n",
    "for _ in range(20):\n",
    "    out = []\n",
    "    context = [0] * block_size # initialize with all ...\n",
    "    while True:\n",
    "        # forward pass:\n",
    "        # Embedding\n",
    "        emb = C[torch.tensor([context])] # (1,block_size,d)      \n",
    "        embcat = emb.view(emb.shape[0], -1) # concat into (N, block_size * n_embd)\n",
    "        hpreact = embcat @ W1 + b1\n",
    "        hpreact = bngain * (hpreact - bnmean) * (bnvar + 1e-5)**-0.5 + bnbias\n",
    "        h = torch.tanh(hpreact) # (N, n_hidden)\n",
    "        logits = h @ W2 + b2 # (N, vocab_size)\n",
    "        \n",
    "        # Sample\n",
    "        probs = F.softmax(logits, dim=1)\n",
    "        ix = torch.multinomial(probs, num_samples=1).item()\n",
    "        context = context[1:] + [ix]\n",
    "        out.append(ix)\n",
    "        if ix == 0:\n",
    "            break\n",
    "    \n",
    "    print(''.join(idx_to_chr[i] for i in out))"
   ]
  }
 ],
 "metadata": {
  "kernelspec": {
   "display_name": "Python 3 (ipykernel)",
   "language": "python",
   "name": "python3"
  },
  "language_info": {
   "codemirror_mode": {
    "name": "ipython",
    "version": 3
   },
   "file_extension": ".py",
   "mimetype": "text/x-python",
   "name": "python",
   "nbconvert_exporter": "python",
   "pygments_lexer": "ipython3",
   "version": "3.10.6"
  }
 },
 "nbformat": 4,
 "nbformat_minor": 5
}
