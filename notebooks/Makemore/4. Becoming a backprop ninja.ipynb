{
 "cells": [
  {
   "cell_type": "markdown",
   "id": "a896ac6d",
   "metadata": {},
   "source": [
    "# Introduction\n",
    "In this notebook we will write out what happens behind the scene, when we in pytorch write **loss.backward()**. This is an important [exercise](https://karpathy.medium.com/yes-you-should-understand-backprop-e2f06eab496b), as it will make us much more effective at building and debugging neural networks, by removing \"the magic\" happening behind the scenes."
   ]
  },
  {
   "cell_type": "markdown",
   "id": "450852f6",
   "metadata": {},
   "source": [
    "# Libraries"
   ]
  },
  {
   "cell_type": "code",
   "execution_count": 37,
   "id": "2036684c",
   "metadata": {},
   "outputs": [],
   "source": [
    "%matplotlib inline\n",
    "%config IPCompleter.use_jedi=False"
   ]
  },
  {
   "cell_type": "code",
   "execution_count": 38,
   "id": "9a82fa8b",
   "metadata": {},
   "outputs": [],
   "source": [
    "import random\n",
    "import torch\n",
    "import torch.nn.functional as F\n",
    "import matplotlib.pyplot as plt"
   ]
  },
  {
   "cell_type": "markdown",
   "id": "e4637db7",
   "metadata": {},
   "source": [
    "# Data\n",
    "We are using the same data again again!"
   ]
  },
  {
   "cell_type": "markdown",
   "id": "7b8cafcc",
   "metadata": {},
   "source": [
    "### Reading the Data"
   ]
  },
  {
   "cell_type": "code",
   "execution_count": 39,
   "id": "c52acb82",
   "metadata": {},
   "outputs": [],
   "source": [
    "# Reading names into a list\n",
    "with open('../../data/names.txt', 'r') as f:\n",
    "    names = f.readlines()\n",
    "    names = [name.strip() for name in names]"
   ]
  },
  {
   "cell_type": "markdown",
   "id": "1ca20fe8",
   "metadata": {},
   "source": [
    "### Creating Vocabulary"
   ]
  },
  {
   "cell_type": "code",
   "execution_count": 40,
   "id": "4acfe888",
   "metadata": {},
   "outputs": [
    {
     "name": "stdout",
     "output_type": "stream",
     "text": [
      "{'a': 1, 'b': 2, 'c': 3, 'd': 4, 'e': 5, 'f': 6, 'g': 7, 'h': 8, 'i': 9, 'j': 10, 'k': 11, 'l': 12, 'm': 13, 'n': 14, 'o': 15, 'p': 16, 'q': 17, 'r': 18, 's': 19, 't': 20, 'u': 21, 'v': 22, 'w': 23, 'x': 24, 'y': 25, 'z': 26}\n",
      "{1: 'a', 2: 'b', 3: 'c', 4: 'd', 5: 'e', 6: 'f', 7: 'g', 8: 'h', 9: 'i', 10: 'j', 11: 'k', 12: 'l', 13: 'm', 14: 'n', 15: 'o', 16: 'p', 17: 'q', 18: 'r', 19: 's', 20: 't', 21: 'u', 22: 'v', 23: 'w', 24: 'x', 25: 'y', 26: 'z', 0: '.'}\n"
     ]
    }
   ],
   "source": [
    "# Building the vocabulary (character to/from index)\n",
    "chars = sorted(list(set(''.join(names))))\n",
    "chr_to_idx = {s:i+1 for i,s in enumerate(chars)}; print(chr_to_idx)\n",
    "chr_to_idx['.'] = 0\n",
    "idx_to_chr = {i:s for s,i in chr_to_idx.items()}; print(idx_to_chr)"
   ]
  },
  {
   "cell_type": "markdown",
   "id": "3032fbca",
   "metadata": {},
   "source": [
    "### Building the Dataset"
   ]
  },
  {
   "cell_type": "code",
   "execution_count": 41,
   "id": "6c389e40",
   "metadata": {},
   "outputs": [],
   "source": [
    "def build_dataset(words: list, block_size: int = 3, verbose: bool = False) -> tuple:\n",
    "    \"\"\"\n",
    "    Description:\n",
    "        Take a list of words and creates Xs and Ys give\n",
    "        a block size. E.g. block_size=3 for emma would \n",
    "        result in:\n",
    "            ... ---> e  \n",
    "            ..e ---> m  \n",
    "            .em ---> m  \n",
    "            emm ---> a  \n",
    "            mma ---> . \n",
    "        Stored in a (n, 3) tensor\n",
    "    Inputs:\n",
    "        words: List of words\n",
    "        block_size: The context window\n",
    "        verbose: Where to print the outputs\n",
    "    Ouputs:\n",
    "        A (n, block_size) tensor with Xs\n",
    "        A (n) tensor with Ys\n",
    "    \"\"\"\n",
    "    X, Y = [], []\n",
    "    for word in words:\n",
    "        if verbose:\n",
    "            print(word)\n",
    "        context = [0] * block_size\n",
    "        for char in word + '.':\n",
    "            idx = chr_to_idx[char]\n",
    "            X.append(context)\n",
    "            Y.append(idx)\n",
    "            if verbose:\n",
    "                print(''.join(idx_to_chr[i] for i in context), idx_to_chr[idx])\n",
    "            context = context[1:] + [idx]\n",
    "    \n",
    "    X = torch.tensor(X)\n",
    "    Y = torch.tensor(Y)\n",
    "    \n",
    "    return X, Y"
   ]
  },
  {
   "cell_type": "code",
   "execution_count": 42,
   "id": "ad8e41ed",
   "metadata": {},
   "outputs": [],
   "source": [
    "# Putting names in random order\n",
    "random.shuffle(names)\n",
    "\n",
    "# Creating split indices\n",
    "n1 = int(0.8 * len(names))\n",
    "n2 = int(0.9 * len(names))"
   ]
  },
  {
   "cell_type": "code",
   "execution_count": 43,
   "id": "9f499fdf",
   "metadata": {},
   "outputs": [
    {
     "name": "stdout",
     "output_type": "stream",
     "text": [
      "torch.Size([182501])\n",
      "torch.Size([22862])\n",
      "torch.Size([22783])\n"
     ]
    }
   ],
   "source": [
    "# Building training, validation and test sets\n",
    "Xtr, Ytr = build_dataset(names[:n1]); print(Ytr.size())\n",
    "Xval, Yval = build_dataset(names[n1:n2]); print(Yval.size())\n",
    "Xtest, Ytest = build_dataset(names[n2:]); print(Ytest.size())"
   ]
  },
  {
   "cell_type": "markdown",
   "id": "a4e29595",
   "metadata": {},
   "source": [
    "# Utility\n",
    "Here are some utility functions for various purposes later."
   ]
  },
  {
   "cell_type": "code",
   "execution_count": 44,
   "id": "4c3eadc2",
   "metadata": {},
   "outputs": [],
   "source": [
    "def cmp(s: torch.Tensor, dt: torch.Tensor, t: torch.Tensor):\n",
    "    \"\"\"\n",
    "    Description:\n",
    "        Compares manually calculated gradients to gradients\n",
    "        calculated using Pytorch. Prints exact gradients, \n",
    "        approximate gradients and the biggest difference\n",
    "        between gradients.\n",
    "    Inputs:\n",
    "        s: index\n",
    "        dt: Manual gradient\n",
    "        t: Pytorch gradient\n",
    "    \"\"\"\n",
    "    ex = torch.all(dt == t.grad).item()\n",
    "    app = torch.allclose(dt, t.grad)\n",
    "    maxdiff = (dt - t.grad).abs().max().item()\n",
    "    print(f'{s:15s} | exact: {str(ex):5s} | approximate: {str(app):5s} | maxdiff: {maxdiff}')"
   ]
  },
  {
   "cell_type": "markdown",
   "id": "5e68fba2",
   "metadata": {},
   "source": [
    "# Network\n",
    "We will be using one of the networks from the previous lesson that includes the bachnormalization layer."
   ]
  },
  {
   "cell_type": "code",
   "execution_count": 45,
   "id": "2908bc3d",
   "metadata": {},
   "outputs": [
    {
     "name": "stdout",
     "output_type": "stream",
     "text": [
      "Number of parameters: 12097\n"
     ]
    }
   ],
   "source": [
    "n_embd = 10\n",
    "n_hidden = 200\n",
    "block_size = 3\n",
    "vocab_size = len(chr_to_idx)\n",
    "\n",
    "# Lookup table\n",
    "C = torch.randn([vocab_size, n_embd])\n",
    "\n",
    "# Weights and biases\n",
    "## Layer 1\n",
    "W1 = torch.randn([n_embd * block_size, n_hidden]) * (5/3)/((n_embd * block_size) ** 0.5)\n",
    "b1 = torch.randn([n_hidden]) * 0.1\n",
    "\n",
    "## Layer 2\n",
    "W2 = torch.randn([n_hidden, vocab_size]) * 0.01\n",
    "b2 = torch.randn([vocab_size]) * 0.1\n",
    "\n",
    "## Batch Norm Shifting weights\n",
    "bngain = torch.ones((1, n_hidden)) * 0.1 + 1\n",
    "bnbias = torch.zeros((1, n_hidden)) * 0.1\n",
    "\n",
    "# Placing parameters in list\n",
    "parameters = [C, W1, W2, b2, bngain, bnbias]\n",
    "\n",
    "# Enabling gradients\n",
    "for p in parameters:\n",
    "    p.requires_grad = True\n",
    "print(\"Number of parameters: \" + str(sum(p.nelement() for p in parameters)))"
   ]
  },
  {
   "cell_type": "markdown",
   "id": "3f41162d",
   "metadata": {},
   "source": [
    "# Training\n",
    " The training loop will also be almost the same except that **loss.backward()** will be written manually. One change is that the forward has been chunked such that we can debug loss.backward() on one step at the time."
   ]
  },
  {
   "cell_type": "markdown",
   "id": "dcbc6721",
   "metadata": {},
   "source": [
    "### Constructing a mini-batch"
   ]
  },
  {
   "cell_type": "code",
   "execution_count": 46,
   "id": "e72d8235",
   "metadata": {},
   "outputs": [],
   "source": [
    "batch_size = 32\n",
    "ix = torch.randint(0, Xtr.shape[0], (batch_size,))\n",
    "Xb, Yb = Xtr[ix], Ytr[ix]"
   ]
  },
  {
   "cell_type": "markdown",
   "id": "19ab4bad",
   "metadata": {},
   "source": [
    "### Chunked Forward Pass"
   ]
  },
  {
   "cell_type": "code",
   "execution_count": 47,
   "id": "6c810efd",
   "metadata": {},
   "outputs": [],
   "source": [
    "# Embeddings\n",
    "emb = C[Xb]\n",
    "embcat = emb.view(emb.shape[0], -1) # concatenate the vectors\n",
    "\n",
    "# Linear layer\n",
    "hprebn = embcat @ W1 + b1\n",
    "\n",
    "# BatchNorm layer\n",
    "bnmeani = 1/batch_size*hprebn.sum(0, keepdim=True)\n",
    "bndiff = hprebn - bnmeani\n",
    "bndiff2 = bndiff**2\n",
    "bnvar = 1/(batch_size-1)*(bndiff2).sum(0, keepdim=True) # note: Bessel's correction (dividing by n-1, not n)\n",
    "bnvar_inv = (bnvar + 1e-5)**-0.5\n",
    "bnraw = bndiff * bnvar_inv\n",
    "hpreact = bngain * bnraw + bnbias\n",
    "\n",
    "# Non-linearity\n",
    "h = torch.tanh(hpreact) # hidden layer\n",
    "\n",
    "# Linear layer\n",
    "logits = h @ W2 + b2 # output layer\n",
    "\n",
    "# Loss (cross entropy loss)\n",
    "logit_maxes = logits.max(1, keepdim=True).values\n",
    "norm_logits = logits - logit_maxes # subtract max for numerical stability\n",
    "counts = norm_logits.exp()\n",
    "counts_sum = counts.sum(1, keepdims=True)\n",
    "counts_sum_inv = counts_sum**-1 # if I use (1.0 / counts_sum) instead then I can't get backprop to be bit exact...\n",
    "probs = counts * counts_sum_inv\n",
    "logprobs = probs.log()\n",
    "loss = -logprobs[range(batch_size), Yb].mean()"
   ]
  },
  {
   "cell_type": "markdown",
   "id": "2934673f",
   "metadata": {},
   "source": [
    "### Pytorch Backward Pass"
   ]
  },
  {
   "cell_type": "code",
   "execution_count": 48,
   "id": "8b62658d",
   "metadata": {},
   "outputs": [
    {
     "data": {
      "text/plain": [
       "tensor(3.3083, grad_fn=<NegBackward0>)"
      ]
     },
     "execution_count": 48,
     "metadata": {},
     "output_type": "execute_result"
    }
   ],
   "source": [
    "for p in parameters:\n",
    "    p.grad = None\n",
    "for t in [logprobs, probs, counts, counts_sum, counts_sum_inv,\n",
    "          norm_logits, logit_maxes, logits, h, hpreact, bnraw,\n",
    "         bnvar_inv, bnvar, bndiff2, bndiff, hprebn, bnmeani,\n",
    "         embcat, emb]:\n",
    "    t.retain_grad()\n",
    "loss.backward()\n",
    "loss"
   ]
  },
  {
   "cell_type": "markdown",
   "id": "0d6a5be1",
   "metadata": {},
   "source": [
    "# Exercise 1\n",
    "Here we will backprop through the all of the variables as they are defined in the forward pass above. "
   ]
  },
  {
   "cell_type": "markdown",
   "id": "7bc50c2a",
   "metadata": {},
   "source": [
    "#### Derivative of logprobs\n",
    "An example of the mean operation (see last calculation in the forward pass).\n",
    "\n",
    "Calculation:  \n",
    "loss = -(a + b + c) / 3 <=>  \n",
    "loss = -1/3\\*a + -1/3\\*b + -1/3\\*c\n",
    "\n",
    "Derivative:  \n",
    "dloss/da = -1/3 + 0 + 0 <=>  \n",
    "dloss/da = -1/3  \n",
    "\n",
    "As only the predicted letters participate in the loss, the remaning letters have a gradient of zero."
   ]
  },
  {
   "cell_type": "code",
   "execution_count": 49,
   "id": "b060789a",
   "metadata": {},
   "outputs": [
    {
     "name": "stdout",
     "output_type": "stream",
     "text": [
      "logprobs        | exact: True  | approximate: True  | maxdiff: 0.0\n"
     ]
    }
   ],
   "source": [
    "# Initializing with zeroes\n",
    "dlogprobs = torch.zeros_like(logprobs)\n",
    "\n",
    "# Setting gradients in letter locations\n",
    "dlogprobs[range(batch_size), Yb] = -1.0/batch_size\n",
    "\n",
    "# Checking estimated gradients vs pytorch gradients\n",
    "cmp('logprobs', dlogprobs, logprobs)"
   ]
  },
  {
   "cell_type": "markdown",
   "id": "e5637889",
   "metadata": {},
   "source": [
    "#### Derivative of probs\n",
    "The calculation can be found in the forward pass.\n",
    "\n",
    "Calculation:  \n",
    "logprobs = log(a)  \n",
    "\n",
    "Derivative:  \n",
    "dlogprobs/da = 1/a    \n",
    "\n",
    "Chain Rule:\n",
    "F(x) = f(g(x)) =>  \n",
    "F'(x) = f'(g(x)) * g'(x)  \n",
    "\n",
    "In our case this means that:  \n",
    "F'(x) = 1/probs * dlogprobs"
   ]
  },
  {
   "cell_type": "code",
   "execution_count": 50,
   "id": "13dd4bee",
   "metadata": {},
   "outputs": [
    {
     "name": "stdout",
     "output_type": "stream",
     "text": [
      "probs           | exact: True  | approximate: True  | maxdiff: 0.0\n"
     ]
    }
   ],
   "source": [
    "# Setting gradients\n",
    "dprobs = 1.0/probs * dlogprobs\n",
    "\n",
    "# Checking estimated gradients vs pytorch gradients\n",
    "cmp('probs', dprobs, probs)"
   ]
  },
  {
   "cell_type": "markdown",
   "id": "04b03ac9",
   "metadata": {},
   "source": [
    "#### Derivative of counts_sum_inv\n",
    "From here on only the calculation of the derivative will be show here, while the chain rule will be applied in the actual calculations.\n",
    "\n",
    "Calculation:  \n",
    "counts_sum_inv = a * b  \n",
    "\n",
    "Derivative:  \n",
    "dcounts_sum_inv/da = b    "
   ]
  },
  {
   "cell_type": "code",
   "execution_count": 51,
   "id": "5d35cf09",
   "metadata": {},
   "outputs": [
    {
     "name": "stdout",
     "output_type": "stream",
     "text": [
      "counts_sum_inv  | exact: True  | approximate: True  | maxdiff: 0.0\n"
     ]
    }
   ],
   "source": [
    "# Setting gradients\n",
    "dcounts_sum_inv = (counts * dprobs).sum(1, keepdim=True)\n",
    "\n",
    "# Checking estimated gradients vs pytorch gradients\n",
    "cmp('counts_sum_inv', dcounts_sum_inv, counts_sum_inv)"
   ]
  },
  {
   "cell_type": "markdown",
   "id": "088807fe",
   "metadata": {},
   "source": [
    "#### Calculating the remaining gradients\n",
    "We will no longer go through explicit examples, but just show the calculations. How to calculate the different derivatives can be found on [Wolframalpha](https://www.wolframalpha.com/input?i=d%2Fdx+x%5E-1)"
   ]
  },
  {
   "cell_type": "code",
   "execution_count": 52,
   "id": "95fdd4f7",
   "metadata": {},
   "outputs": [],
   "source": [
    "# counts (part 1)\n",
    "dcounts = counts_sum_inv * dprobs"
   ]
  },
  {
   "cell_type": "code",
   "execution_count": 53,
   "id": "1ed9c6b2",
   "metadata": {},
   "outputs": [
    {
     "name": "stdout",
     "output_type": "stream",
     "text": [
      "counts_sum      | exact: True  | approximate: True  | maxdiff: 0.0\n"
     ]
    }
   ],
   "source": [
    "# counts_sum\n",
    "dcounts_sum = (-counts_sum**-2) * dcounts_sum_inv\n",
    "cmp('counts_sum', dcounts_sum, counts_sum)"
   ]
  },
  {
   "cell_type": "code",
   "execution_count": 54,
   "id": "49ca0436",
   "metadata": {},
   "outputs": [
    {
     "name": "stdout",
     "output_type": "stream",
     "text": [
      "counts          | exact: True  | approximate: True  | maxdiff: 0.0\n"
     ]
    }
   ],
   "source": [
    "# counts (part 2)\n",
    "dcounts += torch.ones_like(counts) * dcounts_sum\n",
    "cmp('counts', dcounts, counts)"
   ]
  },
  {
   "cell_type": "code",
   "execution_count": 55,
   "id": "67717596",
   "metadata": {
    "scrolled": true
   },
   "outputs": [
    {
     "name": "stdout",
     "output_type": "stream",
     "text": [
      "norm_logits     | exact: True  | approximate: True  | maxdiff: 0.0\n"
     ]
    }
   ],
   "source": [
    "# norm_logits\n",
    "dnorm_logits = counts * dcounts\n",
    "cmp('norm_logits', dnorm_logits, norm_logits)"
   ]
  },
  {
   "cell_type": "code",
   "execution_count": 56,
   "id": "597cfa61",
   "metadata": {},
   "outputs": [
    {
     "name": "stdout",
     "output_type": "stream",
     "text": [
      "logit_maxes     | exact: True  | approximate: True  | maxdiff: 0.0\n"
     ]
    }
   ],
   "source": [
    "# logit_maxes\n",
    "dlogit_maxes = (-dnorm_logits).sum(1, keepdim=True)\n",
    "cmp('logit_maxes', dlogit_maxes, logit_maxes)"
   ]
  },
  {
   "cell_type": "code",
   "execution_count": 57,
   "id": "95a9194a",
   "metadata": {},
   "outputs": [
    {
     "name": "stdout",
     "output_type": "stream",
     "text": [
      "logits          | exact: True  | approximate: True  | maxdiff: 0.0\n"
     ]
    }
   ],
   "source": [
    "# logits\n",
    "dlogits = dnorm_logits.clone()\n",
    "dlogits += F.one_hot(logits.max(1).indices, num_classes=logits.shape[1]) * dlogit_maxes\n",
    "cmp('logits', dlogits, logits)"
   ]
  },
  {
   "cell_type": "markdown",
   "id": "9543fcb8",
   "metadata": {},
   "source": [
    "#### The derivative for matrix multiplication\n",
    "Here we make a small example, which illustrates how to calculate the derivatives.\n",
    "\n",
    "<pre>\n",
    "d = a @ b + c\n",
    "\n",
    "| d11 d12 |       | a11 a12 |     | b11 b12 |    | c1 c2 |\n",
    "| d21 d22 |   =   | a21 a22 |  @  | b21 b22 |  + | c1 c2 | =>\n",
    "\n",
    "d11 = a11 * b11 + a12 * b21 + c1\n",
    "d12 = a11 * b12 + a12 * b22 + c2\n",
    "d21 = a21 * b11 + a22 * b21 + c1\n",
    "d22 = a21 * b12 + a22 * b22 + c2\n",
    "</pre>\n",
    "\n",
    "When finding the derivative with respect to a, it will be:\n",
    "\n",
    "<pre>\n",
    "dL/da11 = dL/dd11 * b11 + dL/dd12 * b12\n",
    "dL/da12 = dL/dd11 * b21 + dL/dd12 * b22\n",
    "dL/da21 = dL/dd21 * b11 + dL/dd22 * b12\n",
    "dL/da22 = dL/dd21 * b21 + dL/dd22 * b22\n",
    "</pre>\n",
    "\n",
    "This means that the derivative for d is (if rewritten as a matrix multiplication):\n",
    "\n",
    "<pre>\n",
    "\n",
    "          | dL/da11    dL/da12 |   | b11    b21 |\n",
    "dL/da  =  | dL/da21    dL/da22 | * | b12    b22 | <=>\n",
    "\n",
    "dL/da = dL/dd @ b^T\n",
    "</pre>\n",
    "\n",
    "Doing the same for the derivative with respect to b, you will get\n",
    "\n",
    "<pre>\n",
    "dL/db = a^T @ dL/dd \n",
    "</pre>\n",
    "\n",
    "Doing the same for the derivative with respect to c, you will get\n",
    "\n",
    "<pre>\n",
    "dL/dc = dL/dd @ sum(0)\n",
    "</pre>"
   ]
  },
  {
   "cell_type": "code",
   "execution_count": 58,
   "id": "6b8047b3",
   "metadata": {},
   "outputs": [
    {
     "name": "stdout",
     "output_type": "stream",
     "text": [
      "h               | exact: True  | approximate: True  | maxdiff: 0.0\n"
     ]
    }
   ],
   "source": [
    "# h\n",
    "dh = dlogits @ W2.T\n",
    "cmp('h', dh, h)"
   ]
  },
  {
   "cell_type": "code",
   "execution_count": 59,
   "id": "23cf4b10",
   "metadata": {},
   "outputs": [
    {
     "name": "stdout",
     "output_type": "stream",
     "text": [
      "W2              | exact: True  | approximate: True  | maxdiff: 0.0\n"
     ]
    }
   ],
   "source": [
    "# W2\n",
    "dW2 = h.T @ dlogits\n",
    "cmp('W2', dW2, W2)"
   ]
  },
  {
   "cell_type": "code",
   "execution_count": 60,
   "id": "f7c34ff7",
   "metadata": {},
   "outputs": [
    {
     "name": "stdout",
     "output_type": "stream",
     "text": [
      "b2              | exact: True  | approximate: True  | maxdiff: 0.0\n"
     ]
    }
   ],
   "source": [
    "# b2\n",
    "db2 = dlogits.sum(0)\n",
    "cmp('b2', db2, b2)"
   ]
  },
  {
   "cell_type": "code",
   "execution_count": 61,
   "id": "83fc6b85",
   "metadata": {},
   "outputs": [
    {
     "name": "stdout",
     "output_type": "stream",
     "text": [
      "hpreact         | exact: False | approximate: True  | maxdiff: 5.820766091346741e-11\n"
     ]
    }
   ],
   "source": [
    "# hpreact\n",
    "dhpreact = (1.0 - h**2) * dh\n",
    "cmp('hpreact', dhpreact, hpreact)"
   ]
  },
  {
   "cell_type": "code",
   "execution_count": 62,
   "id": "25c07ed4",
   "metadata": {},
   "outputs": [
    {
     "name": "stdout",
     "output_type": "stream",
     "text": [
      "bngain          | exact: False | approximate: True  | maxdiff: 2.3283064365386963e-10\n"
     ]
    }
   ],
   "source": [
    "# bngain\n",
    "dbngain = (bnraw * dhpreact).sum(0, keepdim=True)\n",
    "cmp('bngain', dbngain, bngain)"
   ]
  },
  {
   "cell_type": "code",
   "execution_count": 63,
   "id": "22032090",
   "metadata": {},
   "outputs": [
    {
     "name": "stdout",
     "output_type": "stream",
     "text": [
      "bnraw           | exact: False | approximate: True  | maxdiff: 1.1641532182693481e-10\n"
     ]
    }
   ],
   "source": [
    "# bnraw\n",
    "dbnraw = bngain * dhpreact\n",
    "cmp('bnraw', dbnraw, bnraw)"
   ]
  },
  {
   "cell_type": "code",
   "execution_count": 64,
   "id": "976e3f9b",
   "metadata": {},
   "outputs": [
    {
     "name": "stdout",
     "output_type": "stream",
     "text": [
      "bnbias          | exact: False | approximate: True  | maxdiff: 3.4924596548080444e-10\n"
     ]
    }
   ],
   "source": [
    "# bnbias\n",
    "dbnbias = dhpreact.sum(0, keepdim=True)\n",
    "cmp('bnbias', dbnbias, bnbias)"
   ]
  },
  {
   "cell_type": "code",
   "execution_count": 69,
   "id": "64c93ea2",
   "metadata": {},
   "outputs": [],
   "source": [
    "# bndiff (part 1)\n",
    "dbndiff = bnvar_inv * dbnraw"
   ]
  },
  {
   "cell_type": "code",
   "execution_count": 70,
   "id": "162018df",
   "metadata": {},
   "outputs": [
    {
     "name": "stdout",
     "output_type": "stream",
     "text": [
      "bnvar_inv       | exact: False | approximate: True  | maxdiff: 2.9103830456733704e-10\n"
     ]
    }
   ],
   "source": [
    "# bnvar_inv \n",
    "dbnvar_inv = (bndiff * dbnraw).sum(0, keepdim=True)\n",
    "cmp('bnvar_inv', dbnvar_inv, bnvar_inv)"
   ]
  },
  {
   "cell_type": "code",
   "execution_count": 71,
   "id": "8d971606",
   "metadata": {},
   "outputs": [
    {
     "name": "stdout",
     "output_type": "stream",
     "text": [
      "bnvar           | exact: False | approximate: True  | maxdiff: 5.820766091346741e-11\n"
     ]
    }
   ],
   "source": [
    "# bnvar\n",
    "dbnvar = (-0.5*(bnvar + 1e-5)**-1.5) * dbnvar_inv\n",
    "cmp('bnvar', dbnvar, bnvar)"
   ]
  },
  {
   "cell_type": "code",
   "execution_count": 72,
   "id": "62a05148",
   "metadata": {},
   "outputs": [
    {
     "name": "stdout",
     "output_type": "stream",
     "text": [
      "bndiff2         | exact: False | approximate: True  | maxdiff: 1.8189894035458565e-12\n"
     ]
    }
   ],
   "source": [
    "# bndiff2\n",
    "dbndiff2 = (1.0/(batch_size-1))*torch.ones_like(bndiff2) * dbnvar\n",
    "cmp('bndiff2', dbndiff2, bndiff2)"
   ]
  },
  {
   "cell_type": "code",
   "execution_count": 73,
   "id": "e35c2f2a",
   "metadata": {},
   "outputs": [
    {
     "name": "stdout",
     "output_type": "stream",
     "text": [
      "bndiff          | exact: False | approximate: True  | maxdiff: 5.820766091346741e-11\n"
     ]
    }
   ],
   "source": [
    "# bndiff (part 2)\n",
    "dbndiff += (2*bndiff) * dbndiff2\n",
    "cmp('bndiff', dbndiff, bndiff)"
   ]
  },
  {
   "cell_type": "code",
   "execution_count": 74,
   "id": "7c61f8a9",
   "metadata": {},
   "outputs": [],
   "source": [
    "# CONTINUE: http://www.youtube.com/watch?v=q8SA3rM6ckI&t=66m0s"
   ]
  },
  {
   "cell_type": "code",
   "execution_count": null,
   "id": "2a1f79fc",
   "metadata": {},
   "outputs": [],
   "source": [
    "# hprebn (part 1)\n",
    "dhprebn = dbndiff.clone()"
   ]
  },
  {
   "cell_type": "code",
   "execution_count": null,
   "id": "1f447e2d",
   "metadata": {},
   "outputs": [],
   "source": [
    "# bnmeani\n",
    "dbnmeani = (-dbndiff).sum(0)\n",
    "cmp('bnmeani', dbnmeani, bnmeani)"
   ]
  },
  {
   "cell_type": "code",
   "execution_count": null,
   "id": "558c7cc0",
   "metadata": {},
   "outputs": [],
   "source": [
    "# hprebn (part 2)\n",
    "dhprebn += 1.0/batch_size * (torch.ones_like(hprebn) * dbnmeani)\n",
    "cmp('hprebn', dhprebn, hprebn)"
   ]
  },
  {
   "cell_type": "code",
   "execution_count": null,
   "id": "cef9807a",
   "metadata": {},
   "outputs": [],
   "source": [
    "# embcat\n",
    "dembcat = dhprebn @ W1.T\n",
    "cmp('embcat', dembcat, embcat)"
   ]
  },
  {
   "cell_type": "code",
   "execution_count": null,
   "id": "9f4bb4f6",
   "metadata": {},
   "outputs": [],
   "source": [
    "# W1\n",
    "dW1 = embcat.T @ dhprebn\n",
    "cmp('W1', dW1, W1)"
   ]
  },
  {
   "cell_type": "code",
   "execution_count": null,
   "id": "fa69a907",
   "metadata": {},
   "outputs": [],
   "source": [
    "# b1\n",
    "db1 = dhprebn.sum(0)\n",
    "cmp('b1', db1, b1)"
   ]
  },
  {
   "cell_type": "code",
   "execution_count": null,
   "id": "368f6091",
   "metadata": {},
   "outputs": [],
   "source": [
    "# emb\n",
    "demb = dembcat.view(emb.shape)\n",
    "cmp('emb', demb, emb)"
   ]
  },
  {
   "cell_type": "code",
   "execution_count": null,
   "id": "459a8e36",
   "metadata": {},
   "outputs": [],
   "source": [
    "# C\n",
    "dC = torch.zeros_like(C)\n",
    "for k in range(Xb.shape[0]):\n",
    "  for j in range(Xb.shape[1]):\n",
    "    ix = Xb[k,j]\n",
    "    dC[ix] += demb[k,j]\n",
    "cmp('C', dC, C)"
   ]
  },
  {
   "cell_type": "markdown",
   "id": "de2c7a63",
   "metadata": {},
   "source": [
    "# Exercise 2"
   ]
  },
  {
   "cell_type": "markdown",
   "id": "9bc54561",
   "metadata": {},
   "source": [
    "# Exercise 3"
   ]
  },
  {
   "cell_type": "markdown",
   "id": "825a0890",
   "metadata": {},
   "source": [
    "# Exercise 4"
   ]
  }
 ],
 "metadata": {
  "kernelspec": {
   "display_name": "Python 3 (ipykernel)",
   "language": "python",
   "name": "python3"
  },
  "language_info": {
   "codemirror_mode": {
    "name": "ipython",
    "version": 3
   },
   "file_extension": ".py",
   "mimetype": "text/x-python",
   "name": "python",
   "nbconvert_exporter": "python",
   "pygments_lexer": "ipython3",
   "version": "3.10.6"
  }
 },
 "nbformat": 4,
 "nbformat_minor": 5
}
