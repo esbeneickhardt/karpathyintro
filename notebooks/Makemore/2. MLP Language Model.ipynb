{
 "cells": [
  {
   "cell_type": "markdown",
   "id": "c3d64476",
   "metadata": {},
   "source": [
    "# Introduction\n",
    "In the previous notebook we predicted the next character of a name only by looking at the previous character. Here we want to do something in a bit more sophistcated way, as we want to use more of the context than a single character. We will furthermore be using a multilayer perceptron (MLP). The MLP approach will be based on the a [paper from 2003](https://www.youtube.com/redirect?event=video_description&redir_token=QUFFLUhqbGJ0RndnaG1JbUhHVURROWVQVFNuOWZwU01oQXxBQ3Jtc0ttbW5SQnhQN0ZMWWtHem5FVFA5dFFCdk02R29raDVBNlMxaXpxU3E1S2dReHAxcVRYQjN3bjZsM2ZLcjdkRG5oWTBnSU1OUjZsaThxSnZLdVpKWEFWTDgzZnd3QlNmQXRldFFxRjZ1ekdfUFV0ZnVTcw&q=https%3A%2F%2Fwww.jmlr.org%2Fpapers%2Fvolume3%2Fbengio03a%2Fbengio03a.pdf&v=TCH_1BHY58I), in which they predicted the next word using the previous words.\n",
    "\n",
    "We will be doing the following:\n",
    "\n",
    "* Preparing the data with a larger context window\n",
    "* Learn how to understand embedding and look-up tables\n",
    "* Understand learning rates\n",
    "* Splitting data into train, validation and test"
   ]
  },
  {
   "cell_type": "markdown",
   "id": "1ce9dc35",
   "metadata": {},
   "source": [
    "# Libraries"
   ]
  },
  {
   "cell_type": "code",
   "execution_count": 1,
   "id": "2e124022",
   "metadata": {},
   "outputs": [],
   "source": [
    "%matplotlib inline\n",
    "%config IPCompleter.use_jedi=False"
   ]
  },
  {
   "cell_type": "code",
   "execution_count": 2,
   "id": "b6b656d8",
   "metadata": {},
   "outputs": [],
   "source": [
    "import random\n",
    "import torch\n",
    "import torch.nn.functional as F\n",
    "import matplotlib.pyplot as plt"
   ]
  },
  {
   "cell_type": "markdown",
   "id": "c99dbb64",
   "metadata": {},
   "source": [
    "# Data\n",
    "For creating the language models we use a dataset of the most common names from [ssa.gov](https://www.ssa.gov/oact/babynames/)."
   ]
  },
  {
   "cell_type": "markdown",
   "id": "5698640b",
   "metadata": {},
   "source": [
    "### Reading Data"
   ]
  },
  {
   "cell_type": "code",
   "execution_count": 3,
   "id": "a3d263a1",
   "metadata": {},
   "outputs": [],
   "source": [
    "# Reading names into a list\n",
    "with open('../../data/names.txt', 'r') as f:\n",
    "    names = f.readlines()\n",
    "    names = [name.strip() for name in names]"
   ]
  },
  {
   "cell_type": "markdown",
   "id": "f37bc9da",
   "metadata": {},
   "source": [
    "### Creating Vocabulary\n",
    "As a neural network works with numbers, we need a way to translate back and forth between letters and numbers."
   ]
  },
  {
   "cell_type": "code",
   "execution_count": 7,
   "id": "891261be",
   "metadata": {},
   "outputs": [
    {
     "name": "stdout",
     "output_type": "stream",
     "text": [
      "{'a': 1, 'b': 2, 'c': 3, 'd': 4, 'e': 5, 'f': 6, 'g': 7, 'h': 8, 'i': 9, 'j': 10, 'k': 11, 'l': 12, 'm': 13, 'n': 14, 'o': 15, 'p': 16, 'q': 17, 'r': 18, 's': 19, 't': 20, 'u': 21, 'v': 22, 'w': 23, 'x': 24, 'y': 25, 'z': 26}\n",
      "{1: 'a', 2: 'b', 3: 'c', 4: 'd', 5: 'e', 6: 'f', 7: 'g', 8: 'h', 9: 'i', 10: 'j', 11: 'k', 12: 'l', 13: 'm', 14: 'n', 15: 'o', 16: 'p', 17: 'q', 18: 'r', 19: 's', 20: 't', 21: 'u', 22: 'v', 23: 'w', 24: 'x', 25: 'y', 26: 'z', 0: '.'}\n"
     ]
    }
   ],
   "source": [
    "# Building the vocabulary (character to/from index)\n",
    "chars = sorted(list(set(''.join(names))))\n",
    "chr_to_idx = {s:i+1 for i,s in enumerate(chars)}; print(chr_to_idx)\n",
    "chr_to_idx['.'] = 0\n",
    "idx_to_chr = {i:s for s,i in chr_to_idx.items()}; print(idx_to_chr)"
   ]
  },
  {
   "cell_type": "markdown",
   "id": "4e9d3685",
   "metadata": {},
   "source": [
    "### Preparing Dataset\n",
    "For each letter we will be using the previous X characters to predict it (block_size). \n",
    "\n",
    "Example for emma:  \n",
    "\n",
    "<pre>\n",
    "... ---> e  \n",
    "..e ---> m  \n",
    ".em ---> m  \n",
    "emm ---> a  \n",
    "mma ---> .  \n",
    "</pre>"
   ]
  },
  {
   "cell_type": "code",
   "execution_count": 22,
   "id": "e9b7002a",
   "metadata": {},
   "outputs": [],
   "source": [
    "block_size = 3\n",
    "verbose = False\n",
    "\n",
    "X, Y = [], []\n",
    "for name in names:\n",
    "    if verbose:\n",
    "        print(name)\n",
    "    context = [0] * block_size\n",
    "    for char in name + '.':\n",
    "        idx = chr_to_idx[char]\n",
    "        X.append(context)\n",
    "        Y.append(idx)\n",
    "        if verbose:\n",
    "            print(''.join(idx_to_chr[i] for i in context), idx_to_chr[idx])\n",
    "        context = context[1:] + [idx]"
   ]
  },
  {
   "cell_type": "code",
   "execution_count": 23,
   "id": "89a9b966",
   "metadata": {},
   "outputs": [
    {
     "name": "stdout",
     "output_type": "stream",
     "text": [
      ".em\n",
      "m\n"
     ]
    }
   ],
   "source": [
    "# Printing example x and y\n",
    "x2 = X[2]; print(''.join(idx_to_chr[x] for x in x2))\n",
    "y2 = Y[2]; print(idx_to_chr[y2])"
   ]
  },
  {
   "cell_type": "code",
   "execution_count": 24,
   "id": "f3212168",
   "metadata": {},
   "outputs": [],
   "source": [
    "# Converting lists to pytorch arrays\n",
    "X = torch.tensor(X) # n_examples x block_size\n",
    "Y = torch.tensor(Y) # n_examples"
   ]
  },
  {
   "cell_type": "code",
   "execution_count": 25,
   "id": "364d988e",
   "metadata": {},
   "outputs": [],
   "source": [
    "# Number of samples not to run out of memory\n",
    "n_samples = len(Y)\n",
    "X = X[:n_samples]\n",
    "Y = Y[:n_samples]"
   ]
  },
  {
   "cell_type": "markdown",
   "id": "2535f321",
   "metadata": {},
   "source": [
    "# Building the Neural Network\n",
    "We now build the neural network as described in the paper."
   ]
  },
  {
   "cell_type": "markdown",
   "id": "8b832643",
   "metadata": {},
   "source": [
    "### The Lookup Table"
   ]
  },
  {
   "cell_type": "markdown",
   "id": "ab95ba0b",
   "metadata": {},
   "source": [
    "First we build an embedding lookup table. The lookup table is in concept similar to that of the one-hot encodings, as we in both cases represent the individual characters as vectors. One-hot vectors are the same length as the vocabulary, while embedding vectors can be arbitrarily short, depending on how much information you want them to be able to store.\n",
    "\n",
    "One-Hot Example with dictionary ABCD:\n",
    "<pre>\n",
    "  A B C D\n",
    "A 1 0 0 0\n",
    "B 0 1 0 0\n",
    "B 0 1 0 0\n",
    "A 1 0 0 0\n",
    "</pre>\n",
    "\n",
    "Lookup table Example with two dimenstions:\n",
    "<pre>\n",
    "Lookup table:\n",
    "    d1    d2\n",
    "A  0.1  -0.3\n",
    "B -0.5  -0.7\n",
    "C -0.1   1.3\n",
    "D  3.0   0.9\n",
    "\n",
    "Chars   Indicies     Embeddings\n",
    "ABBA -> [1,2,2,1] -> [[0.1, -0.3],[-0.5, -0.7],[-0.5, -0.7],[0.1, -0.3]]\n",
    "</pre>"
   ]
  },
  {
   "cell_type": "code",
   "execution_count": 26,
   "id": "713f3eac",
   "metadata": {},
   "outputs": [
    {
     "name": "stdout",
     "output_type": "stream",
     "text": [
      "tensor([[ 0.9550, -0.8499],\n",
      "        [-1.2868, -0.1332],\n",
      "        [ 0.0911, -0.6646],\n",
      "        [-0.6689, -1.0140],\n",
      "        [ 2.5380,  0.4413],\n",
      "        [ 0.3894,  0.3660],\n",
      "        [ 0.1220, -0.3193],\n",
      "        [ 0.7569, -0.6639],\n",
      "        [-0.7973,  1.6476],\n",
      "        [-1.0194, -1.6218],\n",
      "        [-0.5455, -2.3907],\n",
      "        [-0.6826,  1.0605],\n",
      "        [-2.7207, -0.4049],\n",
      "        [ 0.5006, -0.8711],\n",
      "        [-1.6799, -1.2290],\n",
      "        [-0.1069,  1.6862],\n",
      "        [ 0.0939, -1.2063],\n",
      "        [-0.3301,  0.8151],\n",
      "        [ 1.6375,  0.7976],\n",
      "        [ 1.8796,  0.9939],\n",
      "        [-0.0512, -0.3653],\n",
      "        [ 0.5032, -0.2526],\n",
      "        [-0.5290, -1.4840],\n",
      "        [ 0.6751, -0.4515],\n",
      "        [-0.8572, -2.0530],\n",
      "        [-0.1633,  0.3804],\n",
      "        [ 0.6759,  0.0896]])\n"
     ]
    }
   ],
   "source": [
    "# Building a lookup table (vocab_length x n_dimensions)\n",
    "C = torch.randn([27, 2]); print(C)"
   ]
  },
  {
   "cell_type": "code",
   "execution_count": 27,
   "id": "050aa2de",
   "metadata": {},
   "outputs": [
    {
     "name": "stdout",
     "output_type": "stream",
     "text": [
      "Character: c\n",
      "Vocab Index: 3\n",
      "Embedding: tensor([-0.6689, -1.0140])\n"
     ]
    }
   ],
   "source": [
    "# Looking up the embedding of one character\n",
    "chr = \"c\"; print(f\"Character: {chr}\")\n",
    "idx = chr_to_idx[chr]; print(f\"Vocab Index: {idx}\")\n",
    "embedding = C[idx]; print(f\"Embedding: {embedding}\")"
   ]
  },
  {
   "cell_type": "code",
   "execution_count": 28,
   "id": "d1e42402",
   "metadata": {},
   "outputs": [
    {
     "data": {
      "text/plain": [
       "tensor([[-1.2868, -0.1332],\n",
       "        [ 0.0911, -0.6646],\n",
       "        [ 0.0911, -0.6646],\n",
       "        [-1.2868, -0.1332]])"
      ]
     },
     "execution_count": 28,
     "metadata": {},
     "output_type": "execute_result"
    }
   ],
   "source": [
    "# Looking up embeddings of four characters: \"abba\"\n",
    "chars = torch.tensor([1,2,2,1])\n",
    "embeddings = C[chars]; embeddings"
   ]
  },
  {
   "cell_type": "markdown",
   "id": "ffc11f6f",
   "metadata": {},
   "source": [
    "It is also possible to make these lookups in higher dimensionality, e.g. in our X-data we created earlier we have two dimensions, rows (samples) and columns (context window). Here we will try to look all X data up in the C lookup table."
   ]
  },
  {
   "cell_type": "code",
   "execution_count": 29,
   "id": "696ab7c6",
   "metadata": {
    "scrolled": true
   },
   "outputs": [
    {
     "data": {
      "text/plain": [
       "tensor([[[ 0.9550, -0.8499],\n",
       "         [ 0.9550, -0.8499],\n",
       "         [ 0.9550, -0.8499]],\n",
       "\n",
       "        [[ 0.9550, -0.8499],\n",
       "         [ 0.9550, -0.8499],\n",
       "         [ 0.3894,  0.3660]],\n",
       "\n",
       "        [[ 0.9550, -0.8499],\n",
       "         [ 0.3894,  0.3660],\n",
       "         [ 0.5006, -0.8711]],\n",
       "\n",
       "        ...,\n",
       "\n",
       "        [[ 0.6759,  0.0896],\n",
       "         [ 0.6759,  0.0896],\n",
       "         [-0.1633,  0.3804]],\n",
       "\n",
       "        [[ 0.6759,  0.0896],\n",
       "         [-0.1633,  0.3804],\n",
       "         [ 0.6759,  0.0896]],\n",
       "\n",
       "        [[-0.1633,  0.3804],\n",
       "         [ 0.6759,  0.0896],\n",
       "         [-0.8572, -2.0530]]])"
      ]
     },
     "execution_count": 29,
     "metadata": {},
     "output_type": "execute_result"
    }
   ],
   "source": [
    "# Dimensions are: n_samples x context_window x embedding_size\n",
    "C[X]"
   ]
  },
  {
   "cell_type": "markdown",
   "id": "f50750e2",
   "metadata": {},
   "source": [
    "These were all examples, so what we bring from this section into the next part of the neural network is the **lookup table** as well as the **embeddings**."
   ]
  },
  {
   "cell_type": "code",
   "execution_count": 30,
   "id": "0768bdf6",
   "metadata": {},
   "outputs": [],
   "source": [
    "# Lookup table: vocab_size x embedding_dimension\n",
    "C = torch.randn([27, 2])\n",
    "\n",
    "# Embeddings\n",
    "emb = C[X]"
   ]
  },
  {
   "cell_type": "markdown",
   "id": "ea596834",
   "metadata": {},
   "source": [
    "### Adding more layers to the network\n",
    "The different layers of the network fit together via their input- and output-dimensions. \n",
    "\n",
    "Examples of dimensions:  \n",
    "\n",
    "* samples: n_samples x context_window  \n",
    "* lookup table: vocab_size x embedding_size  \n",
    "* layer: (context_window * embedding_size) x n_neurons  \n",
    "\n",
    "After the samples have gone through the embedding layer we have a matrix pr sample of dimension context_window x embedding_size. Before we can multiply this output with the first neuron layer, we need to unstack it:\n",
    "\n",
    "<pre>\n",
    "[[1,2],\n",
    " [4,5],    ---> [1,2,3,4,5,6]\n",
    " [6,7]]\n",
    "</pre>\n",
    "\n",
    "Actually pytorch stores its data as a one-dimentional tensor all ready, and one can easily alter between the dimensionality using .view(). We will use that here to unstack the two dimensions."
   ]
  },
  {
   "cell_type": "code",
   "execution_count": 31,
   "id": "ee87b81f",
   "metadata": {},
   "outputs": [],
   "source": [
    "# Weights and biases (layer 1)\n",
    "W1 = torch.randn([6,100])\n",
    "b1 = torch.randn([100])"
   ]
  },
  {
   "cell_type": "code",
   "execution_count": 32,
   "id": "f6bba8d5",
   "metadata": {},
   "outputs": [
    {
     "name": "stdout",
     "output_type": "stream",
     "text": [
      "tensor([ 0,  1,  2,  3,  4,  5,  6,  7,  8,  9, 10, 11, 12, 13, 14, 15, 16, 17])\n",
      "tensor([[[ 0,  1],\n",
      "         [ 2,  3],\n",
      "         [ 4,  5]],\n",
      "\n",
      "        [[ 6,  7],\n",
      "         [ 8,  9],\n",
      "         [10, 11]],\n",
      "\n",
      "        [[12, 13],\n",
      "         [14, 15],\n",
      "         [16, 17]]])\n",
      "tensor([[ 0,  1,  2,  3,  4,  5],\n",
      "        [ 6,  7,  8,  9, 10, 11],\n",
      "        [12, 13, 14, 15, 16, 17]])\n"
     ]
    }
   ],
   "source": [
    "# Unstack example\n",
    "e1 = torch.arange(18); print(e1)\n",
    "e2 = e1.view(3,3,2); print(e2)\n",
    "e3 = e2.view(3,6); print(e3)"
   ]
  },
  {
   "cell_type": "code",
   "execution_count": 33,
   "id": "698b180a",
   "metadata": {},
   "outputs": [
    {
     "data": {
      "text/plain": [
       "torch.Size([228146, 100])"
      ]
     },
     "execution_count": 33,
     "metadata": {},
     "output_type": "execute_result"
    }
   ],
   "source": [
    "# Unstacking sample dimensions and calculating activations\n",
    "h = torch.tanh(emb.view(emb.size()[0], emb.size()[1]*emb.size()[2]) @ W1 + b1); h.size()"
   ]
  },
  {
   "cell_type": "code",
   "execution_count": 34,
   "id": "925792a3",
   "metadata": {},
   "outputs": [],
   "source": [
    "# Weights and biases (layer 2)\n",
    "W2 = torch.randn([100,27])\n",
    "b2 = torch.randn([27])"
   ]
  },
  {
   "cell_type": "code",
   "execution_count": 35,
   "id": "716039e1",
   "metadata": {},
   "outputs": [
    {
     "data": {
      "text/plain": [
       "torch.Size([228146, 27])"
      ]
     },
     "execution_count": 35,
     "metadata": {},
     "output_type": "execute_result"
    }
   ],
   "source": [
    "# Calculating logits for each possible output\n",
    "logits = h @ W2 + b2; logits.shape"
   ]
  },
  {
   "cell_type": "code",
   "execution_count": 36,
   "id": "8cbd8b41",
   "metadata": {},
   "outputs": [
    {
     "data": {
      "text/plain": [
       "torch.Size([228146, 27])"
      ]
     },
     "execution_count": 36,
     "metadata": {},
     "output_type": "execute_result"
    }
   ],
   "source": [
    "# Calculating probablitities pr character pr sample\n",
    "counts = logits.exp()\n",
    "probs = counts / counts.sum(1, keepdims=True); probs.size()"
   ]
  },
  {
   "cell_type": "code",
   "execution_count": null,
   "id": "77e12c55",
   "metadata": {},
   "outputs": [],
   "source": [
    "## Calculating loss (can give memory problems - make sample sizes smaller)\n",
    "### Without regularization\n",
    "### loss = -probs[:,ys[:n_samples]].log().mean()\n",
    "### With regulatization (Rewarding low Ws)\n",
    "loss = -probs[:,Y].log().mean()"
   ]
  },
  {
   "cell_type": "markdown",
   "id": "77708c74",
   "metadata": {},
   "source": [
    "Now we write it all into a few cells removing all the example code."
   ]
  },
  {
   "cell_type": "code",
   "execution_count": 38,
   "id": "1f6f8c85",
   "metadata": {},
   "outputs": [
    {
     "name": "stdout",
     "output_type": "stream",
     "text": [
      "Number of parameters: 3481\n"
     ]
    }
   ],
   "source": [
    "# Lookup table\n",
    "C = torch.randn([27, 2])\n",
    "\n",
    "# Weights and biases\n",
    "W1 = torch.randn([6,100])\n",
    "b1 = torch.randn([100])\n",
    "W2 = torch.randn([100,27])\n",
    "b2 = torch.randn([27])\n",
    "print(\"Number of parameters: \" + str(sum(p.nelement() for p in [C, W1, b1, W2, b2])))"
   ]
  },
  {
   "cell_type": "code",
   "execution_count": null,
   "id": "149867d9",
   "metadata": {},
   "outputs": [],
   "source": [
    "# Forward pass (can give memory problems - make sample sizes smaller)\n",
    "emb = C[X]\n",
    "h = torch.tanh(emb.view(emb.size()[0], emb.size()[1]*emb.size()[2]) @ W1 + b1); h.size()\n",
    "logits = h @ W2 + b2\n",
    "counts = logits.exp()\n",
    "probs = counts / counts.sum(1, keepdims=True); probs.size()\n",
    "loss = -probs[:,Y].log().mean()\n",
    "loss"
   ]
  },
  {
   "cell_type": "markdown",
   "id": "c23271b4",
   "metadata": {},
   "source": [
    "# Simplifying and Training Model\n",
    "All the places we can use the pytorch native metods we want to do that, e.g. pytorch can calculate the cross entropy loss for us instead of us doing it explicitely. Pytorch uses less memory, is more efficient and is better at handling extreme numbers. After simplifying we will write the code into a training loop."
   ]
  },
  {
   "cell_type": "code",
   "execution_count": 44,
   "id": "7e147ace",
   "metadata": {},
   "outputs": [],
   "source": [
    "# Hyperparameters\n",
    "epochs = 1000\n",
    "lr = 0.1\n",
    "minibatch_size = 32"
   ]
  },
  {
   "cell_type": "code",
   "execution_count": 53,
   "id": "7c11576d",
   "metadata": {},
   "outputs": [
    {
     "name": "stdout",
     "output_type": "stream",
     "text": [
      "Number of parameters: 3481\n"
     ]
    }
   ],
   "source": [
    "# Lookup table\n",
    "C = torch.randn([27, 2])\n",
    "\n",
    "# Weights and biases\n",
    "W1 = torch.randn([6,100])\n",
    "b1 = torch.randn([100])\n",
    "W2 = torch.randn([100,27])\n",
    "b2 = torch.randn([27])\n",
    "\n",
    "# Placing parameters in list\n",
    "parameters = [C, W1, b1, W2, b2]\n",
    "\n",
    "# Enabling gradients\n",
    "for p in parameters:\n",
    "    p.requires_grad = True\n",
    "print(\"Number of parameters: \" + str(sum(p.nelement() for p in parameters)))"
   ]
  },
  {
   "cell_type": "code",
   "execution_count": null,
   "id": "3bfa45ca",
   "metadata": {},
   "outputs": [],
   "source": [
    "for _ in range(epochs):\n",
    "    # Forward pass\n",
    "    emb = C[X]\n",
    "    h = torch.tanh(emb.view(emb.size()[0], emb.size()[1]*emb.size()[2]) @ W1 + b1); h.size()\n",
    "    logits = h @ W2 + b2\n",
    "    loss = F.cross_entropy(logits, Y);print(loss)\n",
    "\n",
    "    # Backward pass\n",
    "    for p in parameters:\n",
    "        p.grad = None\n",
    "    loss.backward()\n",
    "\n",
    "    ## Update\n",
    "    for p in parameters:\n",
    "        p.data += -lr * p.grad"
   ]
  },
  {
   "cell_type": "markdown",
   "id": "d9df20ef",
   "metadata": {},
   "source": [
    "### Mini-batching\n",
    "It can be quite heavy to process all the data in every forward/backward pass, which it why people often divided their data into mini-batches. This simply means to take a random group of data points for each epoch. This is introduced in this next training loop."
   ]
  },
  {
   "cell_type": "code",
   "execution_count": 47,
   "id": "2cf32ca4",
   "metadata": {},
   "outputs": [
    {
     "name": "stdout",
     "output_type": "stream",
     "text": [
      "tensor(9.2255, grad_fn=<NllLossBackward0>)\n",
      "tensor(8.2864, grad_fn=<NllLossBackward0>)\n",
      "tensor(6.7078, grad_fn=<NllLossBackward0>)\n",
      "tensor(7.5637, grad_fn=<NllLossBackward0>)\n",
      "tensor(10.5673, grad_fn=<NllLossBackward0>)\n",
      "tensor(10.1459, grad_fn=<NllLossBackward0>)\n",
      "tensor(7.4827, grad_fn=<NllLossBackward0>)\n",
      "tensor(6.0031, grad_fn=<NllLossBackward0>)\n",
      "tensor(8.6556, grad_fn=<NllLossBackward0>)\n",
      "tensor(6.0886, grad_fn=<NllLossBackward0>)\n",
      "tensor(6.4035, grad_fn=<NllLossBackward0>)\n",
      "tensor(4.9761, grad_fn=<NllLossBackward0>)\n",
      "tensor(4.2965, grad_fn=<NllLossBackward0>)\n",
      "tensor(6.1550, grad_fn=<NllLossBackward0>)\n",
      "tensor(6.5643, grad_fn=<NllLossBackward0>)\n",
      "tensor(7.2998, grad_fn=<NllLossBackward0>)\n",
      "tensor(5.4950, grad_fn=<NllLossBackward0>)\n",
      "tensor(5.5631, grad_fn=<NllLossBackward0>)\n",
      "tensor(6.1926, grad_fn=<NllLossBackward0>)\n",
      "tensor(5.7068, grad_fn=<NllLossBackward0>)\n",
      "tensor(4.4468, grad_fn=<NllLossBackward0>)\n",
      "tensor(4.8081, grad_fn=<NllLossBackward0>)\n",
      "tensor(5.3031, grad_fn=<NllLossBackward0>)\n",
      "tensor(5.8662, grad_fn=<NllLossBackward0>)\n",
      "tensor(5.2156, grad_fn=<NllLossBackward0>)\n",
      "tensor(4.1980, grad_fn=<NllLossBackward0>)\n",
      "tensor(4.7629, grad_fn=<NllLossBackward0>)\n",
      "tensor(4.3901, grad_fn=<NllLossBackward0>)\n",
      "tensor(6.2775, grad_fn=<NllLossBackward0>)\n",
      "tensor(3.8713, grad_fn=<NllLossBackward0>)\n",
      "tensor(4.2427, grad_fn=<NllLossBackward0>)\n",
      "tensor(3.7217, grad_fn=<NllLossBackward0>)\n",
      "tensor(4.7137, grad_fn=<NllLossBackward0>)\n",
      "tensor(4.0838, grad_fn=<NllLossBackward0>)\n",
      "tensor(4.0549, grad_fn=<NllLossBackward0>)\n",
      "tensor(5.3000, grad_fn=<NllLossBackward0>)\n",
      "tensor(4.4123, grad_fn=<NllLossBackward0>)\n",
      "tensor(4.2362, grad_fn=<NllLossBackward0>)\n",
      "tensor(4.5139, grad_fn=<NllLossBackward0>)\n",
      "tensor(4.1636, grad_fn=<NllLossBackward0>)\n",
      "tensor(3.2605, grad_fn=<NllLossBackward0>)\n",
      "tensor(4.0463, grad_fn=<NllLossBackward0>)\n",
      "tensor(4.2898, grad_fn=<NllLossBackward0>)\n",
      "tensor(3.3266, grad_fn=<NllLossBackward0>)\n",
      "tensor(3.1368, grad_fn=<NllLossBackward0>)\n",
      "tensor(3.6045, grad_fn=<NllLossBackward0>)\n",
      "tensor(3.4816, grad_fn=<NllLossBackward0>)\n",
      "tensor(4.1921, grad_fn=<NllLossBackward0>)\n",
      "tensor(3.2915, grad_fn=<NllLossBackward0>)\n",
      "tensor(3.6506, grad_fn=<NllLossBackward0>)\n",
      "tensor(4.2765, grad_fn=<NllLossBackward0>)\n",
      "tensor(3.7324, grad_fn=<NllLossBackward0>)\n",
      "tensor(3.0985, grad_fn=<NllLossBackward0>)\n",
      "tensor(4.4747, grad_fn=<NllLossBackward0>)\n",
      "tensor(3.2303, grad_fn=<NllLossBackward0>)\n",
      "tensor(3.7704, grad_fn=<NllLossBackward0>)\n",
      "tensor(4.3393, grad_fn=<NllLossBackward0>)\n",
      "tensor(3.6742, grad_fn=<NllLossBackward0>)\n",
      "tensor(3.6176, grad_fn=<NllLossBackward0>)\n",
      "tensor(3.5611, grad_fn=<NllLossBackward0>)\n",
      "tensor(4.6055, grad_fn=<NllLossBackward0>)\n",
      "tensor(3.5899, grad_fn=<NllLossBackward0>)\n",
      "tensor(3.5560, grad_fn=<NllLossBackward0>)\n",
      "tensor(3.3016, grad_fn=<NllLossBackward0>)\n",
      "tensor(3.5720, grad_fn=<NllLossBackward0>)\n",
      "tensor(3.7999, grad_fn=<NllLossBackward0>)\n",
      "tensor(3.8819, grad_fn=<NllLossBackward0>)\n",
      "tensor(3.8354, grad_fn=<NllLossBackward0>)\n",
      "tensor(3.4875, grad_fn=<NllLossBackward0>)\n",
      "tensor(3.7110, grad_fn=<NllLossBackward0>)\n",
      "tensor(3.5139, grad_fn=<NllLossBackward0>)\n",
      "tensor(2.7067, grad_fn=<NllLossBackward0>)\n",
      "tensor(3.6847, grad_fn=<NllLossBackward0>)\n",
      "tensor(3.5167, grad_fn=<NllLossBackward0>)\n",
      "tensor(4.2990, grad_fn=<NllLossBackward0>)\n",
      "tensor(3.6164, grad_fn=<NllLossBackward0>)\n",
      "tensor(4.0389, grad_fn=<NllLossBackward0>)\n",
      "tensor(3.7450, grad_fn=<NllLossBackward0>)\n",
      "tensor(3.1222, grad_fn=<NllLossBackward0>)\n",
      "tensor(3.4265, grad_fn=<NllLossBackward0>)\n",
      "tensor(3.6583, grad_fn=<NllLossBackward0>)\n",
      "tensor(3.4374, grad_fn=<NllLossBackward0>)\n",
      "tensor(4.6201, grad_fn=<NllLossBackward0>)\n",
      "tensor(3.0258, grad_fn=<NllLossBackward0>)\n",
      "tensor(3.4221, grad_fn=<NllLossBackward0>)\n",
      "tensor(3.7289, grad_fn=<NllLossBackward0>)\n",
      "tensor(3.6266, grad_fn=<NllLossBackward0>)\n",
      "tensor(3.1359, grad_fn=<NllLossBackward0>)\n",
      "tensor(3.2792, grad_fn=<NllLossBackward0>)\n",
      "tensor(2.8181, grad_fn=<NllLossBackward0>)\n",
      "tensor(3.4603, grad_fn=<NllLossBackward0>)\n",
      "tensor(3.3734, grad_fn=<NllLossBackward0>)\n",
      "tensor(3.0582, grad_fn=<NllLossBackward0>)\n",
      "tensor(3.4609, grad_fn=<NllLossBackward0>)\n",
      "tensor(4.6377, grad_fn=<NllLossBackward0>)\n",
      "tensor(3.0701, grad_fn=<NllLossBackward0>)\n",
      "tensor(3.1991, grad_fn=<NllLossBackward0>)\n",
      "tensor(3.7526, grad_fn=<NllLossBackward0>)\n",
      "tensor(3.4649, grad_fn=<NllLossBackward0>)\n",
      "tensor(2.9932, grad_fn=<NllLossBackward0>)\n",
      "tensor(2.8513, grad_fn=<NllLossBackward0>)\n",
      "tensor(3.2768, grad_fn=<NllLossBackward0>)\n",
      "tensor(3.1855, grad_fn=<NllLossBackward0>)\n",
      "tensor(2.8800, grad_fn=<NllLossBackward0>)\n",
      "tensor(3.1342, grad_fn=<NllLossBackward0>)\n",
      "tensor(4.4497, grad_fn=<NllLossBackward0>)\n",
      "tensor(3.7544, grad_fn=<NllLossBackward0>)\n",
      "tensor(3.1962, grad_fn=<NllLossBackward0>)\n",
      "tensor(3.6362, grad_fn=<NllLossBackward0>)\n",
      "tensor(3.8713, grad_fn=<NllLossBackward0>)\n",
      "tensor(2.7142, grad_fn=<NllLossBackward0>)\n",
      "tensor(2.6855, grad_fn=<NllLossBackward0>)\n",
      "tensor(3.4323, grad_fn=<NllLossBackward0>)\n",
      "tensor(2.9940, grad_fn=<NllLossBackward0>)\n",
      "tensor(3.1076, grad_fn=<NllLossBackward0>)\n",
      "tensor(3.5068, grad_fn=<NllLossBackward0>)\n",
      "tensor(3.1283, grad_fn=<NllLossBackward0>)\n",
      "tensor(2.8281, grad_fn=<NllLossBackward0>)\n",
      "tensor(4.1814, grad_fn=<NllLossBackward0>)\n",
      "tensor(4.9078, grad_fn=<NllLossBackward0>)\n",
      "tensor(2.9921, grad_fn=<NllLossBackward0>)\n",
      "tensor(3.0859, grad_fn=<NllLossBackward0>)\n",
      "tensor(3.7098, grad_fn=<NllLossBackward0>)\n",
      "tensor(3.1188, grad_fn=<NllLossBackward0>)\n",
      "tensor(2.8774, grad_fn=<NllLossBackward0>)\n",
      "tensor(3.0198, grad_fn=<NllLossBackward0>)\n",
      "tensor(3.0011, grad_fn=<NllLossBackward0>)\n",
      "tensor(3.1216, grad_fn=<NllLossBackward0>)\n",
      "tensor(2.8643, grad_fn=<NllLossBackward0>)\n",
      "tensor(3.0665, grad_fn=<NllLossBackward0>)\n",
      "tensor(2.8677, grad_fn=<NllLossBackward0>)\n",
      "tensor(2.7625, grad_fn=<NllLossBackward0>)\n",
      "tensor(2.9836, grad_fn=<NllLossBackward0>)\n",
      "tensor(2.9958, grad_fn=<NllLossBackward0>)\n",
      "tensor(3.2668, grad_fn=<NllLossBackward0>)\n",
      "tensor(3.3501, grad_fn=<NllLossBackward0>)\n",
      "tensor(3.1442, grad_fn=<NllLossBackward0>)\n",
      "tensor(3.3367, grad_fn=<NllLossBackward0>)\n",
      "tensor(3.0523, grad_fn=<NllLossBackward0>)\n",
      "tensor(2.7665, grad_fn=<NllLossBackward0>)\n",
      "tensor(2.9872, grad_fn=<NllLossBackward0>)\n",
      "tensor(3.1884, grad_fn=<NllLossBackward0>)\n",
      "tensor(2.7041, grad_fn=<NllLossBackward0>)\n",
      "tensor(3.0548, grad_fn=<NllLossBackward0>)\n",
      "tensor(2.6508, grad_fn=<NllLossBackward0>)\n",
      "tensor(3.3740, grad_fn=<NllLossBackward0>)\n",
      "tensor(3.0175, grad_fn=<NllLossBackward0>)\n",
      "tensor(3.0611, grad_fn=<NllLossBackward0>)\n",
      "tensor(2.8649, grad_fn=<NllLossBackward0>)\n",
      "tensor(3.1823, grad_fn=<NllLossBackward0>)\n",
      "tensor(3.1149, grad_fn=<NllLossBackward0>)\n",
      "tensor(3.2129, grad_fn=<NllLossBackward0>)\n",
      "tensor(3.3150, grad_fn=<NllLossBackward0>)\n",
      "tensor(2.8787, grad_fn=<NllLossBackward0>)\n",
      "tensor(3.1695, grad_fn=<NllLossBackward0>)\n",
      "tensor(2.9430, grad_fn=<NllLossBackward0>)\n",
      "tensor(3.0607, grad_fn=<NllLossBackward0>)\n",
      "tensor(2.7738, grad_fn=<NllLossBackward0>)\n",
      "tensor(2.7383, grad_fn=<NllLossBackward0>)\n",
      "tensor(4.0806, grad_fn=<NllLossBackward0>)\n",
      "tensor(3.6958, grad_fn=<NllLossBackward0>)\n",
      "tensor(2.9005, grad_fn=<NllLossBackward0>)\n",
      "tensor(2.4529, grad_fn=<NllLossBackward0>)\n",
      "tensor(2.4116, grad_fn=<NllLossBackward0>)\n",
      "tensor(2.9345, grad_fn=<NllLossBackward0>)\n",
      "tensor(3.6863, grad_fn=<NllLossBackward0>)\n",
      "tensor(3.0577, grad_fn=<NllLossBackward0>)\n",
      "tensor(3.3440, grad_fn=<NllLossBackward0>)\n",
      "tensor(3.2588, grad_fn=<NllLossBackward0>)\n",
      "tensor(2.4694, grad_fn=<NllLossBackward0>)\n",
      "tensor(2.8364, grad_fn=<NllLossBackward0>)\n",
      "tensor(4.2188, grad_fn=<NllLossBackward0>)\n",
      "tensor(2.7724, grad_fn=<NllLossBackward0>)\n",
      "tensor(3.0582, grad_fn=<NllLossBackward0>)\n",
      "tensor(2.7978, grad_fn=<NllLossBackward0>)\n",
      "tensor(3.3031, grad_fn=<NllLossBackward0>)\n",
      "tensor(2.5648, grad_fn=<NllLossBackward0>)\n",
      "tensor(2.4847, grad_fn=<NllLossBackward0>)\n",
      "tensor(3.0509, grad_fn=<NllLossBackward0>)\n",
      "tensor(2.9880, grad_fn=<NllLossBackward0>)\n",
      "tensor(3.3167, grad_fn=<NllLossBackward0>)\n",
      "tensor(3.2803, grad_fn=<NllLossBackward0>)\n",
      "tensor(3.2816, grad_fn=<NllLossBackward0>)\n",
      "tensor(2.6516, grad_fn=<NllLossBackward0>)\n",
      "tensor(3.3056, grad_fn=<NllLossBackward0>)\n",
      "tensor(2.6965, grad_fn=<NllLossBackward0>)\n",
      "tensor(2.9092, grad_fn=<NllLossBackward0>)\n",
      "tensor(2.7232, grad_fn=<NllLossBackward0>)\n",
      "tensor(2.7382, grad_fn=<NllLossBackward0>)\n",
      "tensor(2.9549, grad_fn=<NllLossBackward0>)\n",
      "tensor(2.3361, grad_fn=<NllLossBackward0>)\n",
      "tensor(3.4878, grad_fn=<NllLossBackward0>)\n",
      "tensor(2.9334, grad_fn=<NllLossBackward0>)\n",
      "tensor(3.8632, grad_fn=<NllLossBackward0>)\n",
      "tensor(3.1075, grad_fn=<NllLossBackward0>)\n",
      "tensor(2.7740, grad_fn=<NllLossBackward0>)\n",
      "tensor(3.4977, grad_fn=<NllLossBackward0>)\n",
      "tensor(3.5759, grad_fn=<NllLossBackward0>)\n",
      "tensor(3.0932, grad_fn=<NllLossBackward0>)\n",
      "tensor(2.9945, grad_fn=<NllLossBackward0>)\n",
      "tensor(2.4216, grad_fn=<NllLossBackward0>)\n",
      "tensor(2.7216, grad_fn=<NllLossBackward0>)\n",
      "tensor(3.0772, grad_fn=<NllLossBackward0>)\n",
      "tensor(3.1387, grad_fn=<NllLossBackward0>)\n",
      "tensor(2.6896, grad_fn=<NllLossBackward0>)\n",
      "tensor(3.5980, grad_fn=<NllLossBackward0>)\n",
      "tensor(2.9151, grad_fn=<NllLossBackward0>)\n",
      "tensor(2.7299, grad_fn=<NllLossBackward0>)\n",
      "tensor(2.6923, grad_fn=<NllLossBackward0>)\n",
      "tensor(3.1034, grad_fn=<NllLossBackward0>)\n",
      "tensor(3.4770, grad_fn=<NllLossBackward0>)\n",
      "tensor(2.6836, grad_fn=<NllLossBackward0>)\n",
      "tensor(3.1748, grad_fn=<NllLossBackward0>)\n",
      "tensor(3.2735, grad_fn=<NllLossBackward0>)\n",
      "tensor(3.2671, grad_fn=<NllLossBackward0>)\n",
      "tensor(2.9000, grad_fn=<NllLossBackward0>)\n",
      "tensor(3.0266, grad_fn=<NllLossBackward0>)\n",
      "tensor(3.1856, grad_fn=<NllLossBackward0>)\n",
      "tensor(2.9092, grad_fn=<NllLossBackward0>)\n",
      "tensor(2.6928, grad_fn=<NllLossBackward0>)\n",
      "tensor(2.5494, grad_fn=<NllLossBackward0>)\n",
      "tensor(2.8791, grad_fn=<NllLossBackward0>)\n",
      "tensor(3.1945, grad_fn=<NllLossBackward0>)\n",
      "tensor(2.7907, grad_fn=<NllLossBackward0>)\n",
      "tensor(2.6129, grad_fn=<NllLossBackward0>)\n",
      "tensor(2.4561, grad_fn=<NllLossBackward0>)\n",
      "tensor(2.8409, grad_fn=<NllLossBackward0>)\n",
      "tensor(2.7760, grad_fn=<NllLossBackward0>)\n",
      "tensor(3.0020, grad_fn=<NllLossBackward0>)\n",
      "tensor(3.4821, grad_fn=<NllLossBackward0>)\n",
      "tensor(2.7761, grad_fn=<NllLossBackward0>)\n",
      "tensor(3.0390, grad_fn=<NllLossBackward0>)\n",
      "tensor(3.1762, grad_fn=<NllLossBackward0>)\n",
      "tensor(2.8137, grad_fn=<NllLossBackward0>)\n",
      "tensor(2.8585, grad_fn=<NllLossBackward0>)\n",
      "tensor(2.5241, grad_fn=<NllLossBackward0>)\n",
      "tensor(2.7973, grad_fn=<NllLossBackward0>)\n",
      "tensor(2.8971, grad_fn=<NllLossBackward0>)\n",
      "tensor(3.3020, grad_fn=<NllLossBackward0>)\n",
      "tensor(2.9384, grad_fn=<NllLossBackward0>)\n",
      "tensor(3.0517, grad_fn=<NllLossBackward0>)\n",
      "tensor(2.6237, grad_fn=<NllLossBackward0>)\n",
      "tensor(3.0979, grad_fn=<NllLossBackward0>)\n",
      "tensor(2.8305, grad_fn=<NllLossBackward0>)\n",
      "tensor(2.6959, grad_fn=<NllLossBackward0>)\n",
      "tensor(2.8098, grad_fn=<NllLossBackward0>)\n",
      "tensor(2.5376, grad_fn=<NllLossBackward0>)\n",
      "tensor(2.3294, grad_fn=<NllLossBackward0>)\n",
      "tensor(3.2539, grad_fn=<NllLossBackward0>)\n",
      "tensor(3.1903, grad_fn=<NllLossBackward0>)\n",
      "tensor(2.7235, grad_fn=<NllLossBackward0>)\n",
      "tensor(3.0307, grad_fn=<NllLossBackward0>)\n",
      "tensor(2.8190, grad_fn=<NllLossBackward0>)\n",
      "tensor(2.9923, grad_fn=<NllLossBackward0>)\n",
      "tensor(2.7953, grad_fn=<NllLossBackward0>)\n",
      "tensor(2.4506, grad_fn=<NllLossBackward0>)\n",
      "tensor(3.3980, grad_fn=<NllLossBackward0>)\n",
      "tensor(2.5687, grad_fn=<NllLossBackward0>)\n",
      "tensor(3.1173, grad_fn=<NllLossBackward0>)\n",
      "tensor(2.5551, grad_fn=<NllLossBackward0>)\n",
      "tensor(3.6588, grad_fn=<NllLossBackward0>)\n",
      "tensor(3.5814, grad_fn=<NllLossBackward0>)\n",
      "tensor(3.1247, grad_fn=<NllLossBackward0>)\n",
      "tensor(2.8146, grad_fn=<NllLossBackward0>)\n",
      "tensor(3.2523, grad_fn=<NllLossBackward0>)\n",
      "tensor(2.4316, grad_fn=<NllLossBackward0>)\n",
      "tensor(2.4633, grad_fn=<NllLossBackward0>)\n",
      "tensor(2.9082, grad_fn=<NllLossBackward0>)\n",
      "tensor(3.2060, grad_fn=<NllLossBackward0>)\n",
      "tensor(2.8131, grad_fn=<NllLossBackward0>)\n",
      "tensor(2.8477, grad_fn=<NllLossBackward0>)\n",
      "tensor(2.9175, grad_fn=<NllLossBackward0>)\n",
      "tensor(2.7672, grad_fn=<NllLossBackward0>)\n",
      "tensor(3.2250, grad_fn=<NllLossBackward0>)\n",
      "tensor(2.7418, grad_fn=<NllLossBackward0>)\n",
      "tensor(2.4554, grad_fn=<NllLossBackward0>)\n",
      "tensor(2.3079, grad_fn=<NllLossBackward0>)\n",
      "tensor(3.1577, grad_fn=<NllLossBackward0>)\n",
      "tensor(3.2726, grad_fn=<NllLossBackward0>)\n",
      "tensor(2.7889, grad_fn=<NllLossBackward0>)\n",
      "tensor(3.3282, grad_fn=<NllLossBackward0>)\n",
      "tensor(2.9753, grad_fn=<NllLossBackward0>)\n",
      "tensor(2.5586, grad_fn=<NllLossBackward0>)\n",
      "tensor(3.0179, grad_fn=<NllLossBackward0>)\n",
      "tensor(2.8407, grad_fn=<NllLossBackward0>)\n",
      "tensor(2.5805, grad_fn=<NllLossBackward0>)\n",
      "tensor(2.7972, grad_fn=<NllLossBackward0>)\n",
      "tensor(3.0728, grad_fn=<NllLossBackward0>)\n",
      "tensor(2.5468, grad_fn=<NllLossBackward0>)\n",
      "tensor(2.9578, grad_fn=<NllLossBackward0>)\n",
      "tensor(2.9951, grad_fn=<NllLossBackward0>)\n",
      "tensor(3.1307, grad_fn=<NllLossBackward0>)\n",
      "tensor(2.6145, grad_fn=<NllLossBackward0>)\n",
      "tensor(2.8722, grad_fn=<NllLossBackward0>)\n"
     ]
    },
    {
     "name": "stdout",
     "output_type": "stream",
     "text": [
      "tensor(3.2180, grad_fn=<NllLossBackward0>)\n",
      "tensor(2.7955, grad_fn=<NllLossBackward0>)\n",
      "tensor(2.6882, grad_fn=<NllLossBackward0>)\n",
      "tensor(3.0909, grad_fn=<NllLossBackward0>)\n",
      "tensor(3.1622, grad_fn=<NllLossBackward0>)\n",
      "tensor(2.9834, grad_fn=<NllLossBackward0>)\n",
      "tensor(3.0832, grad_fn=<NllLossBackward0>)\n",
      "tensor(3.0346, grad_fn=<NllLossBackward0>)\n",
      "tensor(2.6228, grad_fn=<NllLossBackward0>)\n",
      "tensor(2.9195, grad_fn=<NllLossBackward0>)\n",
      "tensor(2.8432, grad_fn=<NllLossBackward0>)\n",
      "tensor(3.2439, grad_fn=<NllLossBackward0>)\n",
      "tensor(2.5713, grad_fn=<NllLossBackward0>)\n",
      "tensor(3.1230, grad_fn=<NllLossBackward0>)\n",
      "tensor(2.8815, grad_fn=<NllLossBackward0>)\n",
      "tensor(2.6376, grad_fn=<NllLossBackward0>)\n",
      "tensor(2.5458, grad_fn=<NllLossBackward0>)\n",
      "tensor(3.3938, grad_fn=<NllLossBackward0>)\n",
      "tensor(2.9479, grad_fn=<NllLossBackward0>)\n",
      "tensor(3.1943, grad_fn=<NllLossBackward0>)\n",
      "tensor(3.2161, grad_fn=<NllLossBackward0>)\n",
      "tensor(2.5390, grad_fn=<NllLossBackward0>)\n",
      "tensor(2.8768, grad_fn=<NllLossBackward0>)\n",
      "tensor(2.7150, grad_fn=<NllLossBackward0>)\n",
      "tensor(2.5018, grad_fn=<NllLossBackward0>)\n",
      "tensor(2.8939, grad_fn=<NllLossBackward0>)\n",
      "tensor(3.2088, grad_fn=<NllLossBackward0>)\n",
      "tensor(2.5045, grad_fn=<NllLossBackward0>)\n",
      "tensor(2.6319, grad_fn=<NllLossBackward0>)\n",
      "tensor(3.3736, grad_fn=<NllLossBackward0>)\n",
      "tensor(2.9253, grad_fn=<NllLossBackward0>)\n",
      "tensor(2.9648, grad_fn=<NllLossBackward0>)\n",
      "tensor(2.5710, grad_fn=<NllLossBackward0>)\n",
      "tensor(3.0725, grad_fn=<NllLossBackward0>)\n",
      "tensor(3.0450, grad_fn=<NllLossBackward0>)\n",
      "tensor(2.9635, grad_fn=<NllLossBackward0>)\n",
      "tensor(2.9622, grad_fn=<NllLossBackward0>)\n",
      "tensor(2.6543, grad_fn=<NllLossBackward0>)\n",
      "tensor(1.9098, grad_fn=<NllLossBackward0>)\n",
      "tensor(2.2994, grad_fn=<NllLossBackward0>)\n",
      "tensor(2.7728, grad_fn=<NllLossBackward0>)\n",
      "tensor(3.6343, grad_fn=<NllLossBackward0>)\n",
      "tensor(3.0410, grad_fn=<NllLossBackward0>)\n",
      "tensor(3.0218, grad_fn=<NllLossBackward0>)\n",
      "tensor(2.5703, grad_fn=<NllLossBackward0>)\n",
      "tensor(3.0011, grad_fn=<NllLossBackward0>)\n",
      "tensor(2.5653, grad_fn=<NllLossBackward0>)\n",
      "tensor(3.1710, grad_fn=<NllLossBackward0>)\n",
      "tensor(3.0395, grad_fn=<NllLossBackward0>)\n",
      "tensor(3.0869, grad_fn=<NllLossBackward0>)\n",
      "tensor(2.8622, grad_fn=<NllLossBackward0>)\n",
      "tensor(2.9098, grad_fn=<NllLossBackward0>)\n",
      "tensor(3.0712, grad_fn=<NllLossBackward0>)\n",
      "tensor(2.3431, grad_fn=<NllLossBackward0>)\n",
      "tensor(3.0538, grad_fn=<NllLossBackward0>)\n",
      "tensor(3.1518, grad_fn=<NllLossBackward0>)\n",
      "tensor(2.7706, grad_fn=<NllLossBackward0>)\n",
      "tensor(2.5790, grad_fn=<NllLossBackward0>)\n",
      "tensor(2.9804, grad_fn=<NllLossBackward0>)\n",
      "tensor(3.1487, grad_fn=<NllLossBackward0>)\n",
      "tensor(2.5314, grad_fn=<NllLossBackward0>)\n",
      "tensor(2.5889, grad_fn=<NllLossBackward0>)\n",
      "tensor(2.8236, grad_fn=<NllLossBackward0>)\n",
      "tensor(3.0954, grad_fn=<NllLossBackward0>)\n",
      "tensor(2.6579, grad_fn=<NllLossBackward0>)\n",
      "tensor(2.4999, grad_fn=<NllLossBackward0>)\n",
      "tensor(3.1987, grad_fn=<NllLossBackward0>)\n",
      "tensor(3.2517, grad_fn=<NllLossBackward0>)\n",
      "tensor(2.4314, grad_fn=<NllLossBackward0>)\n",
      "tensor(2.5013, grad_fn=<NllLossBackward0>)\n",
      "tensor(3.0659, grad_fn=<NllLossBackward0>)\n",
      "tensor(2.5370, grad_fn=<NllLossBackward0>)\n",
      "tensor(2.8721, grad_fn=<NllLossBackward0>)\n",
      "tensor(2.1346, grad_fn=<NllLossBackward0>)\n",
      "tensor(2.6235, grad_fn=<NllLossBackward0>)\n",
      "tensor(2.4104, grad_fn=<NllLossBackward0>)\n",
      "tensor(2.7499, grad_fn=<NllLossBackward0>)\n",
      "tensor(2.5339, grad_fn=<NllLossBackward0>)\n",
      "tensor(2.7494, grad_fn=<NllLossBackward0>)\n",
      "tensor(2.3473, grad_fn=<NllLossBackward0>)\n",
      "tensor(2.9517, grad_fn=<NllLossBackward0>)\n",
      "tensor(3.4294, grad_fn=<NllLossBackward0>)\n",
      "tensor(2.5603, grad_fn=<NllLossBackward0>)\n",
      "tensor(2.6385, grad_fn=<NllLossBackward0>)\n",
      "tensor(2.6140, grad_fn=<NllLossBackward0>)\n",
      "tensor(2.9794, grad_fn=<NllLossBackward0>)\n",
      "tensor(3.6831, grad_fn=<NllLossBackward0>)\n",
      "tensor(2.8218, grad_fn=<NllLossBackward0>)\n",
      "tensor(3.0256, grad_fn=<NllLossBackward0>)\n",
      "tensor(2.6628, grad_fn=<NllLossBackward0>)\n",
      "tensor(3.0093, grad_fn=<NllLossBackward0>)\n",
      "tensor(2.6783, grad_fn=<NllLossBackward0>)\n",
      "tensor(2.6706, grad_fn=<NllLossBackward0>)\n",
      "tensor(2.7764, grad_fn=<NllLossBackward0>)\n",
      "tensor(2.8736, grad_fn=<NllLossBackward0>)\n",
      "tensor(2.3833, grad_fn=<NllLossBackward0>)\n",
      "tensor(2.8612, grad_fn=<NllLossBackward0>)\n",
      "tensor(2.7345, grad_fn=<NllLossBackward0>)\n",
      "tensor(2.7187, grad_fn=<NllLossBackward0>)\n",
      "tensor(2.9098, grad_fn=<NllLossBackward0>)\n",
      "tensor(2.9521, grad_fn=<NllLossBackward0>)\n",
      "tensor(2.7719, grad_fn=<NllLossBackward0>)\n",
      "tensor(2.7235, grad_fn=<NllLossBackward0>)\n",
      "tensor(3.0094, grad_fn=<NllLossBackward0>)\n",
      "tensor(2.8628, grad_fn=<NllLossBackward0>)\n",
      "tensor(2.4115, grad_fn=<NllLossBackward0>)\n",
      "tensor(2.5959, grad_fn=<NllLossBackward0>)\n",
      "tensor(2.9298, grad_fn=<NllLossBackward0>)\n",
      "tensor(3.0267, grad_fn=<NllLossBackward0>)\n",
      "tensor(2.7782, grad_fn=<NllLossBackward0>)\n",
      "tensor(2.7961, grad_fn=<NllLossBackward0>)\n",
      "tensor(2.5168, grad_fn=<NllLossBackward0>)\n",
      "tensor(2.6860, grad_fn=<NllLossBackward0>)\n",
      "tensor(3.0427, grad_fn=<NllLossBackward0>)\n",
      "tensor(2.3724, grad_fn=<NllLossBackward0>)\n",
      "tensor(2.6945, grad_fn=<NllLossBackward0>)\n",
      "tensor(2.6762, grad_fn=<NllLossBackward0>)\n",
      "tensor(3.3672, grad_fn=<NllLossBackward0>)\n",
      "tensor(3.1099, grad_fn=<NllLossBackward0>)\n",
      "tensor(3.0370, grad_fn=<NllLossBackward0>)\n",
      "tensor(2.8779, grad_fn=<NllLossBackward0>)\n",
      "tensor(2.8191, grad_fn=<NllLossBackward0>)\n",
      "tensor(2.8649, grad_fn=<NllLossBackward0>)\n",
      "tensor(2.9522, grad_fn=<NllLossBackward0>)\n",
      "tensor(2.5417, grad_fn=<NllLossBackward0>)\n",
      "tensor(2.3194, grad_fn=<NllLossBackward0>)\n",
      "tensor(3.2912, grad_fn=<NllLossBackward0>)\n",
      "tensor(3.1059, grad_fn=<NllLossBackward0>)\n",
      "tensor(2.3495, grad_fn=<NllLossBackward0>)\n",
      "tensor(2.2259, grad_fn=<NllLossBackward0>)\n",
      "tensor(2.8698, grad_fn=<NllLossBackward0>)\n",
      "tensor(2.4522, grad_fn=<NllLossBackward0>)\n",
      "tensor(2.7489, grad_fn=<NllLossBackward0>)\n",
      "tensor(2.9280, grad_fn=<NllLossBackward0>)\n",
      "tensor(2.9904, grad_fn=<NllLossBackward0>)\n",
      "tensor(2.4871, grad_fn=<NllLossBackward0>)\n",
      "tensor(2.3886, grad_fn=<NllLossBackward0>)\n",
      "tensor(2.1928, grad_fn=<NllLossBackward0>)\n",
      "tensor(3.0363, grad_fn=<NllLossBackward0>)\n",
      "tensor(3.4632, grad_fn=<NllLossBackward0>)\n",
      "tensor(2.6709, grad_fn=<NllLossBackward0>)\n",
      "tensor(2.3709, grad_fn=<NllLossBackward0>)\n",
      "tensor(2.9399, grad_fn=<NllLossBackward0>)\n",
      "tensor(2.7227, grad_fn=<NllLossBackward0>)\n",
      "tensor(2.2788, grad_fn=<NllLossBackward0>)\n",
      "tensor(3.1382, grad_fn=<NllLossBackward0>)\n",
      "tensor(2.5341, grad_fn=<NllLossBackward0>)\n",
      "tensor(2.4466, grad_fn=<NllLossBackward0>)\n",
      "tensor(2.9932, grad_fn=<NllLossBackward0>)\n",
      "tensor(2.7669, grad_fn=<NllLossBackward0>)\n",
      "tensor(2.6211, grad_fn=<NllLossBackward0>)\n",
      "tensor(2.9237, grad_fn=<NllLossBackward0>)\n",
      "tensor(2.9323, grad_fn=<NllLossBackward0>)\n",
      "tensor(2.7101, grad_fn=<NllLossBackward0>)\n",
      "tensor(2.5447, grad_fn=<NllLossBackward0>)\n",
      "tensor(2.8356, grad_fn=<NllLossBackward0>)\n",
      "tensor(2.8606, grad_fn=<NllLossBackward0>)\n",
      "tensor(3.3525, grad_fn=<NllLossBackward0>)\n",
      "tensor(2.7837, grad_fn=<NllLossBackward0>)\n",
      "tensor(2.9288, grad_fn=<NllLossBackward0>)\n",
      "tensor(3.1058, grad_fn=<NllLossBackward0>)\n",
      "tensor(2.4855, grad_fn=<NllLossBackward0>)\n",
      "tensor(3.1643, grad_fn=<NllLossBackward0>)\n",
      "tensor(2.8035, grad_fn=<NllLossBackward0>)\n",
      "tensor(3.7441, grad_fn=<NllLossBackward0>)\n",
      "tensor(3.1420, grad_fn=<NllLossBackward0>)\n",
      "tensor(2.4994, grad_fn=<NllLossBackward0>)\n",
      "tensor(2.9293, grad_fn=<NllLossBackward0>)\n",
      "tensor(2.5529, grad_fn=<NllLossBackward0>)\n",
      "tensor(2.8888, grad_fn=<NllLossBackward0>)\n",
      "tensor(2.9475, grad_fn=<NllLossBackward0>)\n",
      "tensor(2.9237, grad_fn=<NllLossBackward0>)\n",
      "tensor(2.8637, grad_fn=<NllLossBackward0>)\n",
      "tensor(2.8210, grad_fn=<NllLossBackward0>)\n",
      "tensor(2.6181, grad_fn=<NllLossBackward0>)\n",
      "tensor(3.2430, grad_fn=<NllLossBackward0>)\n",
      "tensor(3.2606, grad_fn=<NllLossBackward0>)\n",
      "tensor(2.5403, grad_fn=<NllLossBackward0>)\n",
      "tensor(2.7834, grad_fn=<NllLossBackward0>)\n",
      "tensor(2.5909, grad_fn=<NllLossBackward0>)\n",
      "tensor(2.7668, grad_fn=<NllLossBackward0>)\n",
      "tensor(2.4470, grad_fn=<NllLossBackward0>)\n",
      "tensor(2.2706, grad_fn=<NllLossBackward0>)\n",
      "tensor(2.7618, grad_fn=<NllLossBackward0>)\n",
      "tensor(3.2437, grad_fn=<NllLossBackward0>)\n",
      "tensor(2.5558, grad_fn=<NllLossBackward0>)\n",
      "tensor(2.4563, grad_fn=<NllLossBackward0>)\n",
      "tensor(2.7975, grad_fn=<NllLossBackward0>)\n",
      "tensor(2.8897, grad_fn=<NllLossBackward0>)\n",
      "tensor(2.7782, grad_fn=<NllLossBackward0>)\n",
      "tensor(2.6315, grad_fn=<NllLossBackward0>)\n",
      "tensor(2.8461, grad_fn=<NllLossBackward0>)\n",
      "tensor(2.5506, grad_fn=<NllLossBackward0>)\n",
      "tensor(2.7001, grad_fn=<NllLossBackward0>)\n",
      "tensor(2.6243, grad_fn=<NllLossBackward0>)\n",
      "tensor(2.8750, grad_fn=<NllLossBackward0>)\n",
      "tensor(2.9936, grad_fn=<NllLossBackward0>)\n",
      "tensor(2.5474, grad_fn=<NllLossBackward0>)\n",
      "tensor(1.6744, grad_fn=<NllLossBackward0>)\n",
      "tensor(2.8109, grad_fn=<NllLossBackward0>)\n",
      "tensor(2.7521, grad_fn=<NllLossBackward0>)\n",
      "tensor(2.6433, grad_fn=<NllLossBackward0>)\n",
      "tensor(2.9725, grad_fn=<NllLossBackward0>)\n",
      "tensor(2.9860, grad_fn=<NllLossBackward0>)\n",
      "tensor(2.6617, grad_fn=<NllLossBackward0>)\n",
      "tensor(2.5962, grad_fn=<NllLossBackward0>)\n",
      "tensor(2.6346, grad_fn=<NllLossBackward0>)\n",
      "tensor(2.8000, grad_fn=<NllLossBackward0>)\n",
      "tensor(2.7700, grad_fn=<NllLossBackward0>)\n",
      "tensor(3.0531, grad_fn=<NllLossBackward0>)\n",
      "tensor(2.4910, grad_fn=<NllLossBackward0>)\n",
      "tensor(3.0308, grad_fn=<NllLossBackward0>)\n",
      "tensor(2.5329, grad_fn=<NllLossBackward0>)\n",
      "tensor(2.7180, grad_fn=<NllLossBackward0>)\n",
      "tensor(2.7850, grad_fn=<NllLossBackward0>)\n",
      "tensor(2.9270, grad_fn=<NllLossBackward0>)\n",
      "tensor(2.9080, grad_fn=<NllLossBackward0>)\n",
      "tensor(2.2281, grad_fn=<NllLossBackward0>)\n",
      "tensor(2.7720, grad_fn=<NllLossBackward0>)\n",
      "tensor(2.5504, grad_fn=<NllLossBackward0>)\n",
      "tensor(2.7809, grad_fn=<NllLossBackward0>)\n",
      "tensor(2.6111, grad_fn=<NllLossBackward0>)\n",
      "tensor(3.0953, grad_fn=<NllLossBackward0>)\n",
      "tensor(2.8857, grad_fn=<NllLossBackward0>)\n",
      "tensor(2.9663, grad_fn=<NllLossBackward0>)\n",
      "tensor(2.5283, grad_fn=<NllLossBackward0>)\n",
      "tensor(3.0640, grad_fn=<NllLossBackward0>)\n",
      "tensor(2.9067, grad_fn=<NllLossBackward0>)\n",
      "tensor(2.4921, grad_fn=<NllLossBackward0>)\n",
      "tensor(2.9087, grad_fn=<NllLossBackward0>)\n",
      "tensor(3.0331, grad_fn=<NllLossBackward0>)\n",
      "tensor(2.8921, grad_fn=<NllLossBackward0>)\n",
      "tensor(2.3411, grad_fn=<NllLossBackward0>)\n",
      "tensor(2.9240, grad_fn=<NllLossBackward0>)\n",
      "tensor(2.6254, grad_fn=<NllLossBackward0>)\n",
      "tensor(2.9839, grad_fn=<NllLossBackward0>)\n",
      "tensor(2.6529, grad_fn=<NllLossBackward0>)\n",
      "tensor(2.7317, grad_fn=<NllLossBackward0>)\n",
      "tensor(3.0310, grad_fn=<NllLossBackward0>)\n",
      "tensor(2.4251, grad_fn=<NllLossBackward0>)\n",
      "tensor(2.8037, grad_fn=<NllLossBackward0>)\n",
      "tensor(3.1494, grad_fn=<NllLossBackward0>)\n",
      "tensor(2.8198, grad_fn=<NllLossBackward0>)\n",
      "tensor(2.9269, grad_fn=<NllLossBackward0>)\n",
      "tensor(2.7024, grad_fn=<NllLossBackward0>)\n",
      "tensor(2.8702, grad_fn=<NllLossBackward0>)\n",
      "tensor(2.5241, grad_fn=<NllLossBackward0>)\n",
      "tensor(2.6169, grad_fn=<NllLossBackward0>)\n",
      "tensor(2.4708, grad_fn=<NllLossBackward0>)\n",
      "tensor(2.7199, grad_fn=<NllLossBackward0>)\n",
      "tensor(2.4568, grad_fn=<NllLossBackward0>)\n",
      "tensor(2.3750, grad_fn=<NllLossBackward0>)\n",
      "tensor(2.3326, grad_fn=<NllLossBackward0>)\n",
      "tensor(2.5470, grad_fn=<NllLossBackward0>)\n",
      "tensor(3.0177, grad_fn=<NllLossBackward0>)\n",
      "tensor(3.0705, grad_fn=<NllLossBackward0>)\n",
      "tensor(3.1864, grad_fn=<NllLossBackward0>)\n",
      "tensor(2.9718, grad_fn=<NllLossBackward0>)\n",
      "tensor(2.6466, grad_fn=<NllLossBackward0>)\n",
      "tensor(2.7572, grad_fn=<NllLossBackward0>)\n",
      "tensor(2.9124, grad_fn=<NllLossBackward0>)\n",
      "tensor(2.8516, grad_fn=<NllLossBackward0>)\n",
      "tensor(2.6276, grad_fn=<NllLossBackward0>)\n",
      "tensor(2.6339, grad_fn=<NllLossBackward0>)\n",
      "tensor(2.8410, grad_fn=<NllLossBackward0>)\n",
      "tensor(2.4970, grad_fn=<NllLossBackward0>)\n",
      "tensor(2.7133, grad_fn=<NllLossBackward0>)\n",
      "tensor(2.6286, grad_fn=<NllLossBackward0>)\n",
      "tensor(2.9928, grad_fn=<NllLossBackward0>)\n",
      "tensor(2.6910, grad_fn=<NllLossBackward0>)\n",
      "tensor(2.3960, grad_fn=<NllLossBackward0>)\n",
      "tensor(2.6013, grad_fn=<NllLossBackward0>)\n",
      "tensor(3.0163, grad_fn=<NllLossBackward0>)\n",
      "tensor(2.6756, grad_fn=<NllLossBackward0>)\n",
      "tensor(2.8608, grad_fn=<NllLossBackward0>)\n",
      "tensor(2.1606, grad_fn=<NllLossBackward0>)\n",
      "tensor(2.8107, grad_fn=<NllLossBackward0>)\n",
      "tensor(2.7850, grad_fn=<NllLossBackward0>)\n",
      "tensor(2.4228, grad_fn=<NllLossBackward0>)\n",
      "tensor(2.7681, grad_fn=<NllLossBackward0>)\n",
      "tensor(2.4491, grad_fn=<NllLossBackward0>)\n",
      "tensor(3.0436, grad_fn=<NllLossBackward0>)\n",
      "tensor(2.9929, grad_fn=<NllLossBackward0>)\n",
      "tensor(2.3697, grad_fn=<NllLossBackward0>)\n",
      "tensor(2.8181, grad_fn=<NllLossBackward0>)\n",
      "tensor(2.6325, grad_fn=<NllLossBackward0>)\n",
      "tensor(3.0800, grad_fn=<NllLossBackward0>)\n",
      "tensor(3.0422, grad_fn=<NllLossBackward0>)\n",
      "tensor(2.5384, grad_fn=<NllLossBackward0>)\n",
      "tensor(2.5028, grad_fn=<NllLossBackward0>)\n",
      "tensor(2.5580, grad_fn=<NllLossBackward0>)\n",
      "tensor(2.7179, grad_fn=<NllLossBackward0>)\n",
      "tensor(2.6600, grad_fn=<NllLossBackward0>)\n",
      "tensor(2.7157, grad_fn=<NllLossBackward0>)\n",
      "tensor(3.0763, grad_fn=<NllLossBackward0>)\n",
      "tensor(2.9469, grad_fn=<NllLossBackward0>)\n",
      "tensor(2.3636, grad_fn=<NllLossBackward0>)\n",
      "tensor(2.7742, grad_fn=<NllLossBackward0>)\n",
      "tensor(2.2426, grad_fn=<NllLossBackward0>)\n",
      "tensor(2.5803, grad_fn=<NllLossBackward0>)\n",
      "tensor(2.7061, grad_fn=<NllLossBackward0>)\n",
      "tensor(2.4280, grad_fn=<NllLossBackward0>)\n",
      "tensor(2.6782, grad_fn=<NllLossBackward0>)\n",
      "tensor(3.1617, grad_fn=<NllLossBackward0>)\n",
      "tensor(2.3334, grad_fn=<NllLossBackward0>)\n"
     ]
    },
    {
     "name": "stdout",
     "output_type": "stream",
     "text": [
      "tensor(2.8327, grad_fn=<NllLossBackward0>)\n",
      "tensor(2.7800, grad_fn=<NllLossBackward0>)\n",
      "tensor(2.6878, grad_fn=<NllLossBackward0>)\n",
      "tensor(2.1569, grad_fn=<NllLossBackward0>)\n",
      "tensor(3.1686, grad_fn=<NllLossBackward0>)\n",
      "tensor(3.1116, grad_fn=<NllLossBackward0>)\n",
      "tensor(2.7810, grad_fn=<NllLossBackward0>)\n",
      "tensor(2.8890, grad_fn=<NllLossBackward0>)\n",
      "tensor(2.8524, grad_fn=<NllLossBackward0>)\n",
      "tensor(2.7373, grad_fn=<NllLossBackward0>)\n",
      "tensor(2.3736, grad_fn=<NllLossBackward0>)\n",
      "tensor(2.4822, grad_fn=<NllLossBackward0>)\n",
      "tensor(2.4773, grad_fn=<NllLossBackward0>)\n",
      "tensor(2.7887, grad_fn=<NllLossBackward0>)\n",
      "tensor(2.7146, grad_fn=<NllLossBackward0>)\n",
      "tensor(2.8124, grad_fn=<NllLossBackward0>)\n",
      "tensor(2.8702, grad_fn=<NllLossBackward0>)\n",
      "tensor(3.8676, grad_fn=<NllLossBackward0>)\n",
      "tensor(2.3657, grad_fn=<NllLossBackward0>)\n",
      "tensor(2.3774, grad_fn=<NllLossBackward0>)\n",
      "tensor(2.9033, grad_fn=<NllLossBackward0>)\n",
      "tensor(2.5125, grad_fn=<NllLossBackward0>)\n",
      "tensor(2.5791, grad_fn=<NllLossBackward0>)\n",
      "tensor(2.4077, grad_fn=<NllLossBackward0>)\n",
      "tensor(3.2098, grad_fn=<NllLossBackward0>)\n",
      "tensor(2.3256, grad_fn=<NllLossBackward0>)\n",
      "tensor(2.7710, grad_fn=<NllLossBackward0>)\n",
      "tensor(3.0006, grad_fn=<NllLossBackward0>)\n",
      "tensor(2.3634, grad_fn=<NllLossBackward0>)\n",
      "tensor(2.9962, grad_fn=<NllLossBackward0>)\n",
      "tensor(2.7216, grad_fn=<NllLossBackward0>)\n",
      "tensor(2.6869, grad_fn=<NllLossBackward0>)\n",
      "tensor(2.7530, grad_fn=<NllLossBackward0>)\n",
      "tensor(2.6278, grad_fn=<NllLossBackward0>)\n",
      "tensor(2.8413, grad_fn=<NllLossBackward0>)\n",
      "tensor(2.8999, grad_fn=<NllLossBackward0>)\n",
      "tensor(2.5667, grad_fn=<NllLossBackward0>)\n",
      "tensor(2.5241, grad_fn=<NllLossBackward0>)\n",
      "tensor(2.9778, grad_fn=<NllLossBackward0>)\n",
      "tensor(2.1312, grad_fn=<NllLossBackward0>)\n",
      "tensor(3.3039, grad_fn=<NllLossBackward0>)\n",
      "tensor(2.8023, grad_fn=<NllLossBackward0>)\n",
      "tensor(2.5407, grad_fn=<NllLossBackward0>)\n",
      "tensor(3.0265, grad_fn=<NllLossBackward0>)\n",
      "tensor(2.4587, grad_fn=<NllLossBackward0>)\n",
      "tensor(2.8644, grad_fn=<NllLossBackward0>)\n",
      "tensor(3.1772, grad_fn=<NllLossBackward0>)\n",
      "tensor(2.6104, grad_fn=<NllLossBackward0>)\n",
      "tensor(2.6512, grad_fn=<NllLossBackward0>)\n",
      "tensor(2.8054, grad_fn=<NllLossBackward0>)\n",
      "tensor(2.8222, grad_fn=<NllLossBackward0>)\n",
      "tensor(2.4607, grad_fn=<NllLossBackward0>)\n",
      "tensor(2.5079, grad_fn=<NllLossBackward0>)\n",
      "tensor(3.0198, grad_fn=<NllLossBackward0>)\n",
      "tensor(2.7439, grad_fn=<NllLossBackward0>)\n",
      "tensor(2.8239, grad_fn=<NllLossBackward0>)\n",
      "tensor(2.6703, grad_fn=<NllLossBackward0>)\n",
      "tensor(2.8307, grad_fn=<NllLossBackward0>)\n",
      "tensor(2.8106, grad_fn=<NllLossBackward0>)\n",
      "tensor(2.6835, grad_fn=<NllLossBackward0>)\n",
      "tensor(2.4831, grad_fn=<NllLossBackward0>)\n",
      "tensor(2.6751, grad_fn=<NllLossBackward0>)\n",
      "tensor(2.4274, grad_fn=<NllLossBackward0>)\n",
      "tensor(2.6574, grad_fn=<NllLossBackward0>)\n",
      "tensor(2.6660, grad_fn=<NllLossBackward0>)\n",
      "tensor(2.8330, grad_fn=<NllLossBackward0>)\n",
      "tensor(2.8894, grad_fn=<NllLossBackward0>)\n",
      "tensor(2.6100, grad_fn=<NllLossBackward0>)\n",
      "tensor(2.4477, grad_fn=<NllLossBackward0>)\n",
      "tensor(2.6543, grad_fn=<NllLossBackward0>)\n",
      "tensor(2.8190, grad_fn=<NllLossBackward0>)\n",
      "tensor(2.3655, grad_fn=<NllLossBackward0>)\n",
      "tensor(2.5521, grad_fn=<NllLossBackward0>)\n",
      "tensor(2.7897, grad_fn=<NllLossBackward0>)\n",
      "tensor(3.1167, grad_fn=<NllLossBackward0>)\n",
      "tensor(2.4443, grad_fn=<NllLossBackward0>)\n",
      "tensor(2.8636, grad_fn=<NllLossBackward0>)\n",
      "tensor(2.7974, grad_fn=<NllLossBackward0>)\n",
      "tensor(2.4551, grad_fn=<NllLossBackward0>)\n",
      "tensor(2.9188, grad_fn=<NllLossBackward0>)\n",
      "tensor(2.7311, grad_fn=<NllLossBackward0>)\n",
      "tensor(3.2136, grad_fn=<NllLossBackward0>)\n",
      "tensor(2.2923, grad_fn=<NllLossBackward0>)\n",
      "tensor(2.6821, grad_fn=<NllLossBackward0>)\n",
      "tensor(2.6099, grad_fn=<NllLossBackward0>)\n",
      "tensor(2.7569, grad_fn=<NllLossBackward0>)\n",
      "tensor(2.8774, grad_fn=<NllLossBackward0>)\n",
      "tensor(2.7742, grad_fn=<NllLossBackward0>)\n",
      "tensor(2.7637, grad_fn=<NllLossBackward0>)\n",
      "tensor(2.4107, grad_fn=<NllLossBackward0>)\n",
      "tensor(2.9587, grad_fn=<NllLossBackward0>)\n",
      "tensor(3.0286, grad_fn=<NllLossBackward0>)\n",
      "tensor(2.5959, grad_fn=<NllLossBackward0>)\n",
      "tensor(2.3457, grad_fn=<NllLossBackward0>)\n",
      "tensor(2.4302, grad_fn=<NllLossBackward0>)\n",
      "tensor(2.9253, grad_fn=<NllLossBackward0>)\n",
      "tensor(2.4881, grad_fn=<NllLossBackward0>)\n",
      "tensor(2.5992, grad_fn=<NllLossBackward0>)\n",
      "tensor(2.4492, grad_fn=<NllLossBackward0>)\n",
      "tensor(2.9747, grad_fn=<NllLossBackward0>)\n",
      "tensor(2.7016, grad_fn=<NllLossBackward0>)\n",
      "tensor(3.0898, grad_fn=<NllLossBackward0>)\n",
      "tensor(2.7775, grad_fn=<NllLossBackward0>)\n",
      "tensor(2.2804, grad_fn=<NllLossBackward0>)\n",
      "tensor(3.2035, grad_fn=<NllLossBackward0>)\n",
      "tensor(2.3049, grad_fn=<NllLossBackward0>)\n",
      "tensor(2.7262, grad_fn=<NllLossBackward0>)\n",
      "tensor(2.7313, grad_fn=<NllLossBackward0>)\n",
      "tensor(2.8140, grad_fn=<NllLossBackward0>)\n",
      "tensor(2.8140, grad_fn=<NllLossBackward0>)\n",
      "tensor(2.7145, grad_fn=<NllLossBackward0>)\n",
      "tensor(2.5856, grad_fn=<NllLossBackward0>)\n",
      "tensor(2.6994, grad_fn=<NllLossBackward0>)\n",
      "tensor(2.1667, grad_fn=<NllLossBackward0>)\n",
      "tensor(3.0360, grad_fn=<NllLossBackward0>)\n",
      "tensor(2.4522, grad_fn=<NllLossBackward0>)\n",
      "tensor(2.4777, grad_fn=<NllLossBackward0>)\n",
      "tensor(3.2010, grad_fn=<NllLossBackward0>)\n",
      "tensor(2.7271, grad_fn=<NllLossBackward0>)\n",
      "tensor(2.6989, grad_fn=<NllLossBackward0>)\n",
      "tensor(2.6832, grad_fn=<NllLossBackward0>)\n",
      "tensor(2.9109, grad_fn=<NllLossBackward0>)\n",
      "tensor(2.4612, grad_fn=<NllLossBackward0>)\n",
      "tensor(2.4255, grad_fn=<NllLossBackward0>)\n",
      "tensor(2.8925, grad_fn=<NllLossBackward0>)\n",
      "tensor(3.0826, grad_fn=<NllLossBackward0>)\n",
      "tensor(3.0596, grad_fn=<NllLossBackward0>)\n",
      "tensor(2.5158, grad_fn=<NllLossBackward0>)\n",
      "tensor(2.6295, grad_fn=<NllLossBackward0>)\n",
      "tensor(2.7411, grad_fn=<NllLossBackward0>)\n",
      "tensor(2.7011, grad_fn=<NllLossBackward0>)\n",
      "tensor(2.7499, grad_fn=<NllLossBackward0>)\n",
      "tensor(2.7847, grad_fn=<NllLossBackward0>)\n",
      "tensor(2.9474, grad_fn=<NllLossBackward0>)\n",
      "tensor(2.4777, grad_fn=<NllLossBackward0>)\n",
      "tensor(2.5677, grad_fn=<NllLossBackward0>)\n",
      "tensor(2.5548, grad_fn=<NllLossBackward0>)\n",
      "tensor(3.4658, grad_fn=<NllLossBackward0>)\n",
      "tensor(2.5349, grad_fn=<NllLossBackward0>)\n",
      "tensor(2.6332, grad_fn=<NllLossBackward0>)\n",
      "tensor(2.6613, grad_fn=<NllLossBackward0>)\n",
      "tensor(2.6488, grad_fn=<NllLossBackward0>)\n",
      "tensor(2.3160, grad_fn=<NllLossBackward0>)\n",
      "tensor(3.0769, grad_fn=<NllLossBackward0>)\n",
      "tensor(2.5729, grad_fn=<NllLossBackward0>)\n",
      "tensor(2.5439, grad_fn=<NllLossBackward0>)\n",
      "tensor(2.6643, grad_fn=<NllLossBackward0>)\n",
      "tensor(2.6287, grad_fn=<NllLossBackward0>)\n",
      "tensor(2.7023, grad_fn=<NllLossBackward0>)\n",
      "tensor(2.7533, grad_fn=<NllLossBackward0>)\n",
      "tensor(2.7105, grad_fn=<NllLossBackward0>)\n",
      "tensor(2.3938, grad_fn=<NllLossBackward0>)\n",
      "tensor(3.1347, grad_fn=<NllLossBackward0>)\n",
      "tensor(2.4124, grad_fn=<NllLossBackward0>)\n",
      "tensor(2.4887, grad_fn=<NllLossBackward0>)\n",
      "tensor(3.0054, grad_fn=<NllLossBackward0>)\n",
      "tensor(2.8378, grad_fn=<NllLossBackward0>)\n",
      "tensor(2.5384, grad_fn=<NllLossBackward0>)\n",
      "tensor(2.4393, grad_fn=<NllLossBackward0>)\n",
      "tensor(2.6166, grad_fn=<NllLossBackward0>)\n",
      "tensor(2.8591, grad_fn=<NllLossBackward0>)\n",
      "tensor(2.8810, grad_fn=<NllLossBackward0>)\n",
      "tensor(2.7516, grad_fn=<NllLossBackward0>)\n",
      "tensor(2.6454, grad_fn=<NllLossBackward0>)\n",
      "tensor(2.8413, grad_fn=<NllLossBackward0>)\n",
      "tensor(2.7415, grad_fn=<NllLossBackward0>)\n",
      "tensor(2.8455, grad_fn=<NllLossBackward0>)\n",
      "tensor(2.5047, grad_fn=<NllLossBackward0>)\n",
      "tensor(2.9927, grad_fn=<NllLossBackward0>)\n",
      "tensor(2.6535, grad_fn=<NllLossBackward0>)\n",
      "tensor(2.4334, grad_fn=<NllLossBackward0>)\n",
      "tensor(3.0056, grad_fn=<NllLossBackward0>)\n",
      "tensor(2.8686, grad_fn=<NllLossBackward0>)\n",
      "tensor(2.6694, grad_fn=<NllLossBackward0>)\n",
      "tensor(3.1533, grad_fn=<NllLossBackward0>)\n",
      "tensor(2.8228, grad_fn=<NllLossBackward0>)\n",
      "tensor(3.0252, grad_fn=<NllLossBackward0>)\n",
      "tensor(2.4290, grad_fn=<NllLossBackward0>)\n",
      "tensor(2.9408, grad_fn=<NllLossBackward0>)\n",
      "tensor(2.4903, grad_fn=<NllLossBackward0>)\n",
      "tensor(3.2772, grad_fn=<NllLossBackward0>)\n",
      "tensor(2.8471, grad_fn=<NllLossBackward0>)\n",
      "tensor(2.6372, grad_fn=<NllLossBackward0>)\n",
      "tensor(2.5702, grad_fn=<NllLossBackward0>)\n",
      "tensor(2.9969, grad_fn=<NllLossBackward0>)\n",
      "tensor(2.7770, grad_fn=<NllLossBackward0>)\n",
      "tensor(2.7891, grad_fn=<NllLossBackward0>)\n",
      "tensor(2.4235, grad_fn=<NllLossBackward0>)\n",
      "tensor(2.7885, grad_fn=<NllLossBackward0>)\n",
      "tensor(3.2643, grad_fn=<NllLossBackward0>)\n",
      "tensor(2.9898, grad_fn=<NllLossBackward0>)\n",
      "tensor(2.5275, grad_fn=<NllLossBackward0>)\n",
      "tensor(2.6958, grad_fn=<NllLossBackward0>)\n",
      "tensor(2.6030, grad_fn=<NllLossBackward0>)\n",
      "tensor(2.8495, grad_fn=<NllLossBackward0>)\n",
      "tensor(2.6338, grad_fn=<NllLossBackward0>)\n",
      "tensor(2.9354, grad_fn=<NllLossBackward0>)\n",
      "tensor(2.3083, grad_fn=<NllLossBackward0>)\n",
      "tensor(3.1557, grad_fn=<NllLossBackward0>)\n",
      "tensor(2.4109, grad_fn=<NllLossBackward0>)\n",
      "tensor(2.9672, grad_fn=<NllLossBackward0>)\n",
      "tensor(2.6985, grad_fn=<NllLossBackward0>)\n",
      "tensor(2.4929, grad_fn=<NllLossBackward0>)\n",
      "tensor(2.4384, grad_fn=<NllLossBackward0>)\n",
      "tensor(2.7678, grad_fn=<NllLossBackward0>)\n",
      "tensor(2.5216, grad_fn=<NllLossBackward0>)\n",
      "tensor(3.2116, grad_fn=<NllLossBackward0>)\n",
      "tensor(2.7340, grad_fn=<NllLossBackward0>)\n",
      "tensor(2.8595, grad_fn=<NllLossBackward0>)\n",
      "tensor(2.8429, grad_fn=<NllLossBackward0>)\n",
      "tensor(2.5944, grad_fn=<NllLossBackward0>)\n",
      "tensor(2.4448, grad_fn=<NllLossBackward0>)\n",
      "tensor(2.6146, grad_fn=<NllLossBackward0>)\n",
      "tensor(3.1125, grad_fn=<NllLossBackward0>)\n",
      "tensor(2.7300, grad_fn=<NllLossBackward0>)\n",
      "tensor(2.5265, grad_fn=<NllLossBackward0>)\n",
      "tensor(2.5560, grad_fn=<NllLossBackward0>)\n",
      "tensor(2.9711, grad_fn=<NllLossBackward0>)\n",
      "tensor(2.6580, grad_fn=<NllLossBackward0>)\n",
      "tensor(2.9117, grad_fn=<NllLossBackward0>)\n",
      "tensor(2.4814, grad_fn=<NllLossBackward0>)\n",
      "tensor(3.4643, grad_fn=<NllLossBackward0>)\n",
      "tensor(2.9080, grad_fn=<NllLossBackward0>)\n",
      "tensor(2.7037, grad_fn=<NllLossBackward0>)\n",
      "tensor(3.0084, grad_fn=<NllLossBackward0>)\n",
      "tensor(2.8628, grad_fn=<NllLossBackward0>)\n",
      "tensor(3.1608, grad_fn=<NllLossBackward0>)\n",
      "tensor(3.0901, grad_fn=<NllLossBackward0>)\n",
      "tensor(2.8633, grad_fn=<NllLossBackward0>)\n",
      "tensor(2.3789, grad_fn=<NllLossBackward0>)\n",
      "tensor(2.7525, grad_fn=<NllLossBackward0>)\n",
      "tensor(2.6565, grad_fn=<NllLossBackward0>)\n",
      "tensor(2.7177, grad_fn=<NllLossBackward0>)\n",
      "tensor(3.1939, grad_fn=<NllLossBackward0>)\n",
      "tensor(2.6078, grad_fn=<NllLossBackward0>)\n",
      "tensor(2.7339, grad_fn=<NllLossBackward0>)\n",
      "tensor(2.6779, grad_fn=<NllLossBackward0>)\n",
      "tensor(2.7804, grad_fn=<NllLossBackward0>)\n",
      "tensor(2.8043, grad_fn=<NllLossBackward0>)\n",
      "tensor(2.4916, grad_fn=<NllLossBackward0>)\n",
      "tensor(2.8170, grad_fn=<NllLossBackward0>)\n",
      "tensor(2.7076, grad_fn=<NllLossBackward0>)\n",
      "tensor(2.6667, grad_fn=<NllLossBackward0>)\n",
      "tensor(2.7397, grad_fn=<NllLossBackward0>)\n",
      "tensor(3.1882, grad_fn=<NllLossBackward0>)\n",
      "tensor(2.9639, grad_fn=<NllLossBackward0>)\n",
      "tensor(2.7528, grad_fn=<NllLossBackward0>)\n",
      "tensor(2.5319, grad_fn=<NllLossBackward0>)\n",
      "tensor(3.3505, grad_fn=<NllLossBackward0>)\n",
      "tensor(2.5968, grad_fn=<NllLossBackward0>)\n",
      "tensor(2.7176, grad_fn=<NllLossBackward0>)\n",
      "tensor(2.7549, grad_fn=<NllLossBackward0>)\n",
      "tensor(2.4400, grad_fn=<NllLossBackward0>)\n",
      "tensor(2.3601, grad_fn=<NllLossBackward0>)\n",
      "tensor(2.7322, grad_fn=<NllLossBackward0>)\n",
      "tensor(2.5832, grad_fn=<NllLossBackward0>)\n",
      "tensor(3.0406, grad_fn=<NllLossBackward0>)\n",
      "tensor(2.7745, grad_fn=<NllLossBackward0>)\n",
      "tensor(3.0097, grad_fn=<NllLossBackward0>)\n",
      "tensor(2.9754, grad_fn=<NllLossBackward0>)\n",
      "tensor(2.5182, grad_fn=<NllLossBackward0>)\n",
      "tensor(2.7045, grad_fn=<NllLossBackward0>)\n",
      "tensor(2.8720, grad_fn=<NllLossBackward0>)\n",
      "tensor(2.6486, grad_fn=<NllLossBackward0>)\n",
      "tensor(2.6359, grad_fn=<NllLossBackward0>)\n",
      "tensor(2.3441, grad_fn=<NllLossBackward0>)\n",
      "tensor(2.8116, grad_fn=<NllLossBackward0>)\n",
      "tensor(2.7249, grad_fn=<NllLossBackward0>)\n",
      "tensor(2.4319, grad_fn=<NllLossBackward0>)\n",
      "tensor(2.8975, grad_fn=<NllLossBackward0>)\n",
      "tensor(2.9272, grad_fn=<NllLossBackward0>)\n",
      "tensor(2.8668, grad_fn=<NllLossBackward0>)\n",
      "tensor(2.8110, grad_fn=<NllLossBackward0>)\n",
      "tensor(2.5721, grad_fn=<NllLossBackward0>)\n",
      "tensor(3.0374, grad_fn=<NllLossBackward0>)\n",
      "tensor(2.3506, grad_fn=<NllLossBackward0>)\n",
      "tensor(3.0720, grad_fn=<NllLossBackward0>)\n",
      "tensor(2.6155, grad_fn=<NllLossBackward0>)\n",
      "tensor(2.3554, grad_fn=<NllLossBackward0>)\n",
      "tensor(2.5935, grad_fn=<NllLossBackward0>)\n",
      "tensor(2.4906, grad_fn=<NllLossBackward0>)\n",
      "tensor(2.5202, grad_fn=<NllLossBackward0>)\n",
      "tensor(2.6701, grad_fn=<NllLossBackward0>)\n",
      "tensor(2.5345, grad_fn=<NllLossBackward0>)\n",
      "tensor(2.7931, grad_fn=<NllLossBackward0>)\n",
      "tensor(3.0888, grad_fn=<NllLossBackward0>)\n",
      "tensor(2.5505, grad_fn=<NllLossBackward0>)\n",
      "tensor(2.8624, grad_fn=<NllLossBackward0>)\n",
      "tensor(2.6640, grad_fn=<NllLossBackward0>)\n",
      "tensor(2.8401, grad_fn=<NllLossBackward0>)\n",
      "tensor(2.6542, grad_fn=<NllLossBackward0>)\n",
      "tensor(2.5684, grad_fn=<NllLossBackward0>)\n",
      "tensor(2.2554, grad_fn=<NllLossBackward0>)\n",
      "tensor(2.4369, grad_fn=<NllLossBackward0>)\n",
      "tensor(2.4361, grad_fn=<NllLossBackward0>)\n",
      "tensor(2.6196, grad_fn=<NllLossBackward0>)\n",
      "tensor(2.4720, grad_fn=<NllLossBackward0>)\n",
      "tensor(2.1550, grad_fn=<NllLossBackward0>)\n",
      "tensor(2.6475, grad_fn=<NllLossBackward0>)\n",
      "tensor(2.8882, grad_fn=<NllLossBackward0>)\n",
      "tensor(2.9060, grad_fn=<NllLossBackward0>)\n",
      "tensor(2.2692, grad_fn=<NllLossBackward0>)\n",
      "tensor(2.9795, grad_fn=<NllLossBackward0>)\n",
      "tensor(2.2878, grad_fn=<NllLossBackward0>)\n",
      "tensor(2.3293, grad_fn=<NllLossBackward0>)\n",
      "tensor(2.9441, grad_fn=<NllLossBackward0>)\n",
      "tensor(2.9116, grad_fn=<NllLossBackward0>)\n",
      "tensor(2.8054, grad_fn=<NllLossBackward0>)\n",
      "tensor(3.3812, grad_fn=<NllLossBackward0>)\n",
      "tensor(2.6070, grad_fn=<NllLossBackward0>)\n",
      "tensor(2.6960, grad_fn=<NllLossBackward0>)\n",
      "tensor(2.5811, grad_fn=<NllLossBackward0>)\n",
      "tensor(2.7722, grad_fn=<NllLossBackward0>)\n",
      "tensor(3.2857, grad_fn=<NllLossBackward0>)\n",
      "tensor(2.9682, grad_fn=<NllLossBackward0>)\n",
      "tensor(2.7519, grad_fn=<NllLossBackward0>)\n",
      "tensor(2.6282, grad_fn=<NllLossBackward0>)\n",
      "tensor(3.4907, grad_fn=<NllLossBackward0>)\n",
      "tensor(3.3615, grad_fn=<NllLossBackward0>)\n",
      "tensor(2.7071, grad_fn=<NllLossBackward0>)\n",
      "tensor(2.9143, grad_fn=<NllLossBackward0>)\n",
      "tensor(2.8033, grad_fn=<NllLossBackward0>)\n",
      "tensor(3.2105, grad_fn=<NllLossBackward0>)\n",
      "tensor(2.8223, grad_fn=<NllLossBackward0>)\n",
      "tensor(2.5274, grad_fn=<NllLossBackward0>)\n",
      "tensor(2.7112, grad_fn=<NllLossBackward0>)\n",
      "tensor(2.5574, grad_fn=<NllLossBackward0>)\n",
      "tensor(2.2816, grad_fn=<NllLossBackward0>)\n",
      "tensor(2.9051, grad_fn=<NllLossBackward0>)\n",
      "tensor(2.7358, grad_fn=<NllLossBackward0>)\n",
      "tensor(2.5936, grad_fn=<NllLossBackward0>)\n",
      "tensor(2.7704, grad_fn=<NllLossBackward0>)\n",
      "tensor(3.0075, grad_fn=<NllLossBackward0>)\n",
      "tensor(2.5545, grad_fn=<NllLossBackward0>)\n"
     ]
    },
    {
     "name": "stdout",
     "output_type": "stream",
     "text": [
      "tensor(2.7083, grad_fn=<NllLossBackward0>)\n",
      "tensor(2.1370, grad_fn=<NllLossBackward0>)\n",
      "tensor(2.2052, grad_fn=<NllLossBackward0>)\n",
      "tensor(3.2242, grad_fn=<NllLossBackward0>)\n",
      "tensor(2.7082, grad_fn=<NllLossBackward0>)\n",
      "tensor(2.6288, grad_fn=<NllLossBackward0>)\n",
      "tensor(2.5855, grad_fn=<NllLossBackward0>)\n",
      "tensor(2.5108, grad_fn=<NllLossBackward0>)\n",
      "tensor(2.6141, grad_fn=<NllLossBackward0>)\n",
      "tensor(2.7533, grad_fn=<NllLossBackward0>)\n",
      "tensor(2.6035, grad_fn=<NllLossBackward0>)\n",
      "tensor(2.4840, grad_fn=<NllLossBackward0>)\n",
      "tensor(2.4181, grad_fn=<NllLossBackward0>)\n",
      "tensor(2.7229, grad_fn=<NllLossBackward0>)\n",
      "tensor(2.5694, grad_fn=<NllLossBackward0>)\n",
      "tensor(2.8332, grad_fn=<NllLossBackward0>)\n",
      "tensor(2.5316, grad_fn=<NllLossBackward0>)\n",
      "tensor(2.7350, grad_fn=<NllLossBackward0>)\n",
      "tensor(2.5781, grad_fn=<NllLossBackward0>)\n",
      "tensor(2.4498, grad_fn=<NllLossBackward0>)\n",
      "tensor(2.1999, grad_fn=<NllLossBackward0>)\n",
      "tensor(3.0588, grad_fn=<NllLossBackward0>)\n",
      "tensor(2.8421, grad_fn=<NllLossBackward0>)\n",
      "tensor(2.5990, grad_fn=<NllLossBackward0>)\n",
      "tensor(2.6906, grad_fn=<NllLossBackward0>)\n",
      "tensor(2.6513, grad_fn=<NllLossBackward0>)\n",
      "tensor(2.8744, grad_fn=<NllLossBackward0>)\n",
      "tensor(2.3017, grad_fn=<NllLossBackward0>)\n",
      "tensor(2.5954, grad_fn=<NllLossBackward0>)\n",
      "tensor(2.7954, grad_fn=<NllLossBackward0>)\n",
      "tensor(2.7265, grad_fn=<NllLossBackward0>)\n",
      "tensor(2.7602, grad_fn=<NllLossBackward0>)\n",
      "tensor(2.6272, grad_fn=<NllLossBackward0>)\n",
      "tensor(2.3497, grad_fn=<NllLossBackward0>)\n",
      "tensor(2.4486, grad_fn=<NllLossBackward0>)\n",
      "tensor(3.0448, grad_fn=<NllLossBackward0>)\n",
      "tensor(2.4456, grad_fn=<NllLossBackward0>)\n",
      "tensor(2.5865, grad_fn=<NllLossBackward0>)\n",
      "tensor(2.5820, grad_fn=<NllLossBackward0>)\n",
      "tensor(2.3841, grad_fn=<NllLossBackward0>)\n",
      "tensor(2.4175, grad_fn=<NllLossBackward0>)\n",
      "tensor(2.6322, grad_fn=<NllLossBackward0>)\n",
      "tensor(2.6372, grad_fn=<NllLossBackward0>)\n",
      "tensor(2.3185, grad_fn=<NllLossBackward0>)\n",
      "tensor(3.0028, grad_fn=<NllLossBackward0>)\n",
      "tensor(2.4059, grad_fn=<NllLossBackward0>)\n",
      "tensor(2.0681, grad_fn=<NllLossBackward0>)\n",
      "tensor(2.6189, grad_fn=<NllLossBackward0>)\n",
      "tensor(3.2884, grad_fn=<NllLossBackward0>)\n",
      "tensor(3.3949, grad_fn=<NllLossBackward0>)\n",
      "tensor(2.8865, grad_fn=<NllLossBackward0>)\n",
      "tensor(3.1065, grad_fn=<NllLossBackward0>)\n",
      "tensor(2.4551, grad_fn=<NllLossBackward0>)\n",
      "tensor(2.3380, grad_fn=<NllLossBackward0>)\n",
      "tensor(2.6900, grad_fn=<NllLossBackward0>)\n",
      "tensor(2.9369, grad_fn=<NllLossBackward0>)\n",
      "tensor(2.6380, grad_fn=<NllLossBackward0>)\n",
      "tensor(2.8642, grad_fn=<NllLossBackward0>)\n",
      "tensor(2.6013, grad_fn=<NllLossBackward0>)\n",
      "tensor(2.6710, grad_fn=<NllLossBackward0>)\n",
      "tensor(2.6024, grad_fn=<NllLossBackward0>)\n",
      "tensor(2.8390, grad_fn=<NllLossBackward0>)\n",
      "tensor(2.9497, grad_fn=<NllLossBackward0>)\n",
      "tensor(2.9703, grad_fn=<NllLossBackward0>)\n",
      "tensor(2.9520, grad_fn=<NllLossBackward0>)\n",
      "tensor(2.6882, grad_fn=<NllLossBackward0>)\n",
      "tensor(2.8505, grad_fn=<NllLossBackward0>)\n"
     ]
    }
   ],
   "source": [
    "for _ in range(epochs):\n",
    "    # Minibatch (32 random sample indices/integers)\n",
    "    ix = torch.randint(0, X.shape[0], (minibatch_size,))\n",
    "    \n",
    "    # Forward pass\n",
    "    emb = C[X[ix]]\n",
    "    h = torch.tanh(emb.view(emb.size()[0], emb.size()[1]*emb.size()[2]) @ W1 + b1); h.size()\n",
    "    logits = h @ W2 + b2\n",
    "    loss = F.cross_entropy(logits, Y[ix]);print(loss)\n",
    "\n",
    "    # Backward pass\n",
    "    for p in parameters:\n",
    "        p.grad = None\n",
    "    loss.backward()\n",
    "\n",
    "    ## Update\n",
    "    for p in parameters:\n",
    "        p.data += -lr * p.grad"
   ]
  },
  {
   "cell_type": "code",
   "execution_count": 48,
   "id": "db8f1045",
   "metadata": {},
   "outputs": [
    {
     "name": "stdout",
     "output_type": "stream",
     "text": [
      "tensor(2.6686, grad_fn=<NllLossBackward0>)\n"
     ]
    }
   ],
   "source": [
    "# Full loss\n",
    "emb = C[X]\n",
    "h = torch.tanh(emb.view(emb.size()[0], emb.size()[1]*emb.size()[2]) @ W1 + b1); h.size()\n",
    "logits = h @ W2 + b2\n",
    "loss = F.cross_entropy(logits, Y);print(loss)"
   ]
  },
  {
   "cell_type": "markdown",
   "id": "9d36a5da",
   "metadata": {},
   "source": [
    "The gradient with minibatches will be much less stable/precise than with all the data, but it is still better to use minibatches with many epochs than to run few epochs with all the data."
   ]
  },
  {
   "cell_type": "markdown",
   "id": "6718133c",
   "metadata": {},
   "source": [
    "### What is a resonable learning rate?\n",
    "Here we will try to identify the best learning rate by searching over a bunch of learning rates."
   ]
  },
  {
   "cell_type": "code",
   "execution_count": 56,
   "id": "8226917c",
   "metadata": {},
   "outputs": [
    {
     "name": "stdout",
     "output_type": "stream",
     "text": [
      "tensor([0.0010, 0.0010, 0.0010])\n",
      "tensor([0.9863, 0.9931, 1.0000])\n"
     ]
    }
   ],
   "source": [
    "# Learning rate exponent candidates\n",
    "lre = torch.linspace(-3, 0, 1000)\n",
    "lrs = 10 ** lre; print(lrs[:3]); print(lrs[-3:])"
   ]
  },
  {
   "cell_type": "code",
   "execution_count": 57,
   "id": "381024e5",
   "metadata": {},
   "outputs": [
    {
     "name": "stdout",
     "output_type": "stream",
     "text": [
      "Number of parameters: 3481\n"
     ]
    }
   ],
   "source": [
    "# Resetting parameters\n",
    "# Lookup table\n",
    "C = torch.randn([27, 2])\n",
    "\n",
    "# Weights and biases\n",
    "W1 = torch.randn([6,100])\n",
    "b1 = torch.randn([100])\n",
    "W2 = torch.randn([100,27])\n",
    "b2 = torch.randn([27])\n",
    "\n",
    "# Placing parameters in list\n",
    "parameters = [C, W1, b1, W2, b2]\n",
    "\n",
    "# Enabling gradients\n",
    "for p in parameters:\n",
    "    p.requires_grad = True\n",
    "print(\"Number of parameters: \" + str(sum(p.nelement() for p in parameters)))"
   ]
  },
  {
   "cell_type": "code",
   "execution_count": 58,
   "id": "31b067ff",
   "metadata": {},
   "outputs": [],
   "source": [
    "# Testing learning rates\n",
    "lri = []\n",
    "lossi = []\n",
    "for i in range(1000):\n",
    "    # Minibatch (32 random sample indices/integers)\n",
    "    ix = torch.randint(0, X.shape[0], (minibatch_size,))\n",
    "    \n",
    "    # Forward pass\n",
    "    emb = C[X[ix]]\n",
    "    h = torch.tanh(emb.view(emb.size()[0], emb.size()[1]*emb.size()[2]) @ W1 + b1); h.size()\n",
    "    logits = h @ W2 + b2\n",
    "    loss = F.cross_entropy(logits, Y[ix])\n",
    "\n",
    "    # Backward pass\n",
    "    for p in parameters:\n",
    "        p.grad = None\n",
    "    loss.backward()\n",
    "\n",
    "    ## Update\n",
    "    lr = lrs[i]\n",
    "    for p in parameters:\n",
    "        p.data += -lr * p.grad\n",
    "        \n",
    "    # Tracking stats\n",
    "    lri.append(lr)\n",
    "    lossi.append(loss.item())"
   ]
  },
  {
   "cell_type": "code",
   "execution_count": 55,
   "id": "7a9e9e3f",
   "metadata": {
    "scrolled": false
   },
   "outputs": [
    {
     "data": {
      "text/plain": [
       "[<matplotlib.lines.Line2D at 0x7f2151eb2b30>]"
      ]
     },
     "execution_count": 55,
     "metadata": {},
     "output_type": "execute_result"
    },
    {
     "data": {
      "image/png": "[encoded data removed]",
      "text/plain": [
       "<Figure size 640x480 with 1 Axes>"
      ]
     },
     "metadata": {},
     "output_type": "display_data"
    }
   ],
   "source": [
    "# Plotting learning rates vs losses\n",
    "plt.plot(lri, lossi)"
   ]
  },
  {
   "cell_type": "markdown",
   "id": "480e6cef",
   "metadata": {},
   "source": [
    "Now we can see that the best learning rate is the best when it is around 0.01. It is, however, just a rought estimate, and it likely that the learning rate should e.g. vary between layers, and between iterations. E.g. for the last few iterations one would use a lower learning rate (learning rate decay). This will, however, not be covered here."
   ]
  },
  {
   "cell_type": "markdown",
   "id": "5805fd1b",
   "metadata": {},
   "source": [
    "#### Overfitting\n",
    "I you make a bigger network with more parameters it may for some data sets be possible to get a loss as low as zero. This is because the model will simply memorize the full dataset, and thus it will not be able to create something new. We want out models to be able to generalize!\n",
    "\n",
    "To handle this problem we divide out data into three splits:  \n",
    "\n",
    "* Training Split: 80 %  \n",
    "* Validation Split: 10 %  \n",
    "* Test Split: 10 %  \n",
    "\n",
    "The training split is used to optimise the parameters of the model, while the validation split is used to optimise the hyperparameters of the model. The test data is used in the end to measure the models performance. Ideally one would also do another out of sample validation on another dataset.  "
   ]
  },
  {
   "cell_type": "code",
   "execution_count": 59,
   "id": "d00bcf9c",
   "metadata": {},
   "outputs": [],
   "source": [
    "def build_dataset(words: list, block_size: int = 3, verbose: bool = False) -> tuple:\n",
    "    \"\"\"\n",
    "    Description:\n",
    "        Take a list of words and creates Xs and Ys give\n",
    "        a block size. E.g. block_size=3 for emma would \n",
    "        result in:\n",
    "            ... ---> e  \n",
    "            ..e ---> m  \n",
    "            .em ---> m  \n",
    "            emm ---> a  \n",
    "            mma ---> . \n",
    "        Stored in a (n, 3) tensor\n",
    "    Inputs:\n",
    "        words: List of words\n",
    "        block_size: The context window\n",
    "        verbose: Where to print the outputs\n",
    "    Ouputs:\n",
    "        A (n, block_size) tensor with Xs\n",
    "        A (n) tensor with Ys\n",
    "    \"\"\"\n",
    "    X, Y = [], []\n",
    "    for word in words:\n",
    "        if verbose:\n",
    "            print(word)\n",
    "        context = [0] * block_size\n",
    "        for char in word + '.':\n",
    "            idx = chr_to_idx[char]\n",
    "            X.append(context)\n",
    "            Y.append(idx)\n",
    "            if verbose:\n",
    "                print(''.join(idx_to_chr[i] for i in context), idx_to_chr[idx])\n",
    "            context = context[1:] + [idx]\n",
    "    \n",
    "    X = torch.tensor(X)\n",
    "    Y = torch.tensor(Y)\n",
    "    \n",
    "    return X, Y"
   ]
  },
  {
   "cell_type": "code",
   "execution_count": 60,
   "id": "c29723b4",
   "metadata": {},
   "outputs": [],
   "source": [
    "# Putting names in random order\n",
    "random.shuffle(names)\n",
    "\n",
    "# Creating split indices\n",
    "n1 = int(0.8 * len(names))\n",
    "n2 = int(0.9 * len(names))"
   ]
  },
  {
   "cell_type": "code",
   "execution_count": 61,
   "id": "14511ab9",
   "metadata": {},
   "outputs": [
    {
     "name": "stdout",
     "output_type": "stream",
     "text": [
      "torch.Size([182462])\n",
      "torch.Size([22797])\n",
      "torch.Size([22887])\n"
     ]
    }
   ],
   "source": [
    "# Building training, validation and test sets\n",
    "Xtr, Ytr = build_dataset(names[:n1]); print(Ytr.size())\n",
    "Xval, Yval = build_dataset(names[n1:n2]); print(Yval.size())\n",
    "Xtest, Ytest = build_dataset(names[n2:]); print(Ytest.size())"
   ]
  },
  {
   "cell_type": "markdown",
   "id": "3c004358",
   "metadata": {},
   "source": [
    "We are going to write a new training loop where we will only be training on the training set, but we will be calculating the loss for both the training data and the validation data."
   ]
  },
  {
   "cell_type": "code",
   "execution_count": 62,
   "id": "8da5da3f",
   "metadata": {},
   "outputs": [
    {
     "name": "stdout",
     "output_type": "stream",
     "text": [
      "Number of parameters: 3481\n"
     ]
    }
   ],
   "source": [
    "# Lookup table\n",
    "C = torch.randn([27, 2])\n",
    "\n",
    "# Weights and biases\n",
    "W1 = torch.randn([6,100])\n",
    "b1 = torch.randn([100])\n",
    "W2 = torch.randn([100,27])\n",
    "b2 = torch.randn([27])\n",
    "\n",
    "# Placing parameters in list\n",
    "parameters = [C, W1, b1, W2, b2]\n",
    "\n",
    "# Enabling gradients\n",
    "for p in parameters:\n",
    "    p.requires_grad = True\n",
    "print(\"Number of parameters: \" + str(sum(p.nelement() for p in parameters)))"
   ]
  },
  {
   "cell_type": "code",
   "execution_count": 63,
   "id": "a0bec9c7",
   "metadata": {},
   "outputs": [],
   "source": [
    "epochs = 10000\n",
    "minibatch_size = 32\n",
    "lr = 0.1\n",
    "losses = {\"Train\": [], \"Val\": []}\n",
    "for _ in range(epochs):\n",
    "    # Minibatch (32 random sample indices/integers)\n",
    "    ix = torch.randint(0, Xtr.shape[0], (minibatch_size,))\n",
    "    \n",
    "    # Forward pass\n",
    "    emb = C[Xtr[ix]]\n",
    "    h = torch.tanh(emb.view(emb.size()[0], emb.size()[1]*emb.size()[2]) @ W1 + b1); h.size()\n",
    "    logits = h @ W2 + b2\n",
    "    loss = F.cross_entropy(logits, Ytr[ix])    \n",
    "        \n",
    "    # Calculating validation loss\n",
    "    embval = C[Xval]\n",
    "    hval = torch.tanh(embval.view(embval.size()[0], embval.size()[1]*embval.size()[2]) @ W1 + b1)\n",
    "    logitsval = hval @ W2 + b2\n",
    "    lossval = F.cross_entropy(logitsval, Yval)\n",
    "    \n",
    "    # Saving losses\n",
    "    losses[\"Train\"].append(loss.item())\n",
    "    losses[\"Val\"].append(lossval.item())\n",
    "    \n",
    "    # Backward pass\n",
    "    for p in parameters:\n",
    "        p.grad = None\n",
    "    loss.backward()\n",
    "\n",
    "    ## Update\n",
    "    for p in parameters:\n",
    "        p.data += -lr * p.grad"
   ]
  },
  {
   "cell_type": "code",
   "execution_count": 64,
   "id": "2f45954f",
   "metadata": {},
   "outputs": [
    {
     "data": {
      "image/png": "[encoded data removed]",
      "text/plain": [
       "<Figure size 640x480 with 1 Axes>"
      ]
     },
     "metadata": {},
     "output_type": "display_data"
    }
   ],
   "source": [
    "# Plotting training and validation losses\n",
    "xs = list(range(1, len(losses[\"Train\"])+1))\n",
    "plt.plot(xs, losses[\"Train\"], label = \"line 1\", color=\"green\")\n",
    "plt.plot(xs, losses[\"Val\"], label = \"line 2\", color=\"red\")\n",
    "plt.legend()\n",
    "plt.show()"
   ]
  },
  {
   "cell_type": "markdown",
   "id": "92aa466f",
   "metadata": {},
   "source": [
    "The good news here is that despite the model has never seen the validation data, its loss improves at the same time as the training loss improves. If we had seen the validation loss starting to increase while the traing loss was still improving, it would have been overfitting (memorizing the training data).\n",
    "\n",
    "The fact that overfitting does not happen indicated that our model is not big enought to be able to overfit. This also means that we might benefit from using a bigger model for out training. This is what we will be doing next."
   ]
  },
  {
   "cell_type": "markdown",
   "id": "82dcfd05",
   "metadata": {},
   "source": [
    "### A bigger model\n",
    "We will try to make a bigger model that can fit the data better by increasing the number of neurons in the hidden layer."
   ]
  },
  {
   "cell_type": "code",
   "execution_count": 65,
   "id": "29a60be6",
   "metadata": {},
   "outputs": [
    {
     "name": "stdout",
     "output_type": "stream",
     "text": [
      "Number of parameters: 10281\n"
     ]
    }
   ],
   "source": [
    "# Lookup table\n",
    "C = torch.randn([27, 2])\n",
    "\n",
    "# Weights and biases\n",
    "W1 = torch.randn([6,300])\n",
    "b1 = torch.randn([300])\n",
    "W2 = torch.randn([300,27])\n",
    "b2 = torch.randn([27])\n",
    "\n",
    "# Placing parameters in list\n",
    "parameters = [C, W1, b1, W2, b2]\n",
    "\n",
    "# Enabling gradients\n",
    "for p in parameters:\n",
    "    p.requires_grad = True\n",
    "print(\"Number of parameters: \" + str(sum(p.nelement() for p in parameters)))"
   ]
  },
  {
   "cell_type": "code",
   "execution_count": 66,
   "id": "ef506cc8",
   "metadata": {},
   "outputs": [],
   "source": [
    "epochs = 30000\n",
    "minibatch_size = 32\n",
    "lr = 0.01\n",
    "losses = {\"Train\": [], \"Val\": []}\n",
    "for epoch in range(epochs):\n",
    "    # Minibatch (32 random sample indices/integers)\n",
    "    ix = torch.randint(0, Xtr.shape[0], (minibatch_size,))\n",
    "    \n",
    "    # Forward pass\n",
    "    emb = C[Xtr[ix]]\n",
    "    h = torch.tanh(emb.view(emb.size()[0], emb.size()[1]*emb.size()[2]) @ W1 + b1); h.size()\n",
    "    logits = h @ W2 + b2\n",
    "    loss = F.cross_entropy(logits, Ytr[ix])    \n",
    "    \n",
    "    if not epoch % 100:\n",
    "        # Calculating validation loss\n",
    "        embval = C[Xval]\n",
    "        hval = torch.tanh(embval.view(embval.size()[0], embval.size()[1]*embval.size()[2]) @ W1 + b1)\n",
    "        logitsval = hval @ W2 + b2\n",
    "        lossval = F.cross_entropy(logitsval, Yval)\n",
    "\n",
    "        # Saving losses\n",
    "        losses[\"Train\"].append(loss.item())\n",
    "        losses[\"Val\"].append(lossval.item())\n",
    "    \n",
    "    # Backward pass\n",
    "    for p in parameters:\n",
    "        p.grad = None\n",
    "    loss.backward()\n",
    "\n",
    "    ## Update\n",
    "    for p in parameters:\n",
    "        p.data += -lr * p.grad"
   ]
  },
  {
   "cell_type": "code",
   "execution_count": 67,
   "id": "bb0b45f4",
   "metadata": {},
   "outputs": [
    {
     "data": {
      "image/png": "[encoded data removed]",
      "text/plain": [
       "<Figure size 640x480 with 1 Axes>"
      ]
     },
     "metadata": {},
     "output_type": "display_data"
    }
   ],
   "source": [
    "# Plotting training and validation losses\n",
    "xs = list(range(1, len(losses[\"Train\"])+1))\n",
    "plt.plot(xs, losses[\"Train\"], label = \"Train\", color=\"green\")\n",
    "plt.plot(xs, losses[\"Val\"], label = \"Valid\", color=\"red\")\n",
    "plt.legend()\n",
    "plt.show()"
   ]
  },
  {
   "cell_type": "markdown",
   "id": "7108ccc8",
   "metadata": {},
   "source": [
    "There are many places to optimize the neural net. It could need larger batch sizes, more epochs, a different learning rate or larger embeddings. Here we inspect the embeddings by plotting them to se how letters separate in \"meaning\"."
   ]
  },
  {
   "cell_type": "code",
   "execution_count": 68,
   "id": "f3e504dd",
   "metadata": {},
   "outputs": [
    {
     "data": {
      "image/png": "[encoded data removed]",
      "text/plain": [
       "<Figure size 640x480 with 1 Axes>"
      ]
     },
     "metadata": {},
     "output_type": "display_data"
    }
   ],
   "source": [
    "plt.scatter(C[:,0].data, C[:,1].data, s=200)\n",
    "for i in range(C.shape[0]):\n",
    "    plt.text(C[i,0].item(), C[i,1].item(), idx_to_chr[i], ha=\"center\", va=\"center\", color=\"white\")\n",
    "plt.grid('minor')"
   ]
  },
  {
   "cell_type": "markdown",
   "id": "3a62b820",
   "metadata": {},
   "source": [
    "Now we try to increase the embedding size, and train the model again to see if this increases the performance."
   ]
  },
  {
   "cell_type": "code",
   "execution_count": 69,
   "id": "18e26b5f",
   "metadata": {},
   "outputs": [
    {
     "name": "stdout",
     "output_type": "stream",
     "text": [
      "Number of parameters: 26452\n"
     ]
    }
   ],
   "source": [
    "# Lookup table\n",
    "C = torch.randn([27, 25])\n",
    "\n",
    "# Weights and biases\n",
    "W1 = torch.randn([75,250])\n",
    "b1 = torch.randn([250])\n",
    "W2 = torch.randn([250,27])\n",
    "b2 = torch.randn([27])\n",
    "\n",
    "# Placing parameters in list\n",
    "parameters = [C, W1, b1, W2, b2]\n",
    "\n",
    "# Enabling gradients\n",
    "for p in parameters:\n",
    "    p.requires_grad = True\n",
    "print(\"Number of parameters: \" + str(sum(p.nelement() for p in parameters)))"
   ]
  },
  {
   "cell_type": "code",
   "execution_count": 70,
   "id": "33001d44",
   "metadata": {},
   "outputs": [],
   "source": [
    "losses = {\"Train\": [], \"Val\": []}"
   ]
  },
  {
   "cell_type": "code",
   "execution_count": 71,
   "id": "00c5936f",
   "metadata": {},
   "outputs": [],
   "source": [
    "epochs = 100000\n",
    "minibatch_size = 64\n",
    "lr = 0.2\n",
    "for epoch in range(epochs):\n",
    "    # Minibatch (32 random sample indices/integers)\n",
    "    ix = torch.randint(0, Xtr.shape[0], (minibatch_size,))\n",
    "    \n",
    "    # Forward pass\n",
    "    emb = C[Xtr[ix]]\n",
    "    h = torch.tanh(emb.view(emb.size()[0], emb.size()[1]*emb.size()[2]) @ W1 + b1); h.size()\n",
    "    logits = h @ W2 + b2\n",
    "    loss = F.cross_entropy(logits, Ytr[ix])    \n",
    "    \n",
    "    if not epoch % 100:\n",
    "        # Calculating validation loss\n",
    "        embval = C[Xval]\n",
    "        hval = torch.tanh(embval.view(embval.size()[0], embval.size()[1]*embval.size()[2]) @ W1 + b1)\n",
    "        logitsval = hval @ W2 + b2\n",
    "        lossval = F.cross_entropy(logitsval, Yval)\n",
    "\n",
    "        # Saving losses\n",
    "        losses[\"Train\"].append(loss.item())\n",
    "        losses[\"Val\"].append(lossval.item())\n",
    "    \n",
    "    # Backward pass\n",
    "    for p in parameters:\n",
    "        p.grad = None\n",
    "    loss.backward()\n",
    "\n",
    "    ## Update\n",
    "    for p in parameters:\n",
    "        # Learning Rate decay\n",
    "        if epoch < 30000:\n",
    "            p.data += -lr * p.grad\n",
    "        elif epoch < 60000:\n",
    "            p.data += -lr * 0.1 * p.grad\n",
    "        elif epoch < 90000:\n",
    "            p.data += -lr * 0.01 * p.grad        \n",
    "        else:\n",
    "            p.data += -lr * 0.001 * p.grad"
   ]
  },
  {
   "cell_type": "code",
   "execution_count": 72,
   "id": "5b563b0f",
   "metadata": {
    "scrolled": true
   },
   "outputs": [
    {
     "data": {
      "image/png": "[encoded data removed]",
      "text/plain": [
       "<Figure size 640x480 with 1 Axes>"
      ]
     },
     "metadata": {},
     "output_type": "display_data"
    }
   ],
   "source": [
    "# Plotting training and validation losses\n",
    "xs = list(range(1, len(losses[\"Train\"])+1))\n",
    "plt.plot(xs, losses[\"Train\"], label = \"Train\", color=\"green\")\n",
    "plt.plot(xs, losses[\"Val\"], label = \"Valid\", color=\"red\")\n",
    "plt.legend()\n",
    "plt.show()"
   ]
  },
  {
   "cell_type": "code",
   "execution_count": 73,
   "id": "19112ade",
   "metadata": {},
   "outputs": [
    {
     "name": "stdout",
     "output_type": "stream",
     "text": [
      "2.1487393379211426\n",
      "1.5578958988189697\n"
     ]
    }
   ],
   "source": [
    "print(min(losses[\"Val\"]))\n",
    "print(min(losses[\"Train\"]))"
   ]
  },
  {
   "cell_type": "markdown",
   "id": "9a7b8313",
   "metadata": {},
   "source": [
    "We start to see that a clear separation of the training and validation losses, which means that the model is now big enough. The model is overfitting on the training data compared to the validation data, but this does not mean we should stop training. The training shouldn't be stopped until the validation loss no longer falls."
   ]
  },
  {
   "cell_type": "markdown",
   "id": "70295293",
   "metadata": {},
   "source": [
    "### Creating Names\n",
    "Here we use the model to create names by sampling it using the predicted probabilities. We have done this in the previous notebooks, so we will not go into details here."
   ]
  },
  {
   "cell_type": "code",
   "execution_count": null,
   "id": "098b7727",
   "metadata": {},
   "outputs": [],
   "source": [
    "number_of_names = 20\n",
    "\n",
    "for _ in range(number_of_names):\n",
    "    \n",
    "    char_idx = []\n",
    "    context = [0] * block_size # Initialize with all ...\n",
    "    while True:\n",
    "        emb = C[torch.tensor([context])] # Embeddings for context\n",
    "        h = torch.tanh(emb.view(1, -1) @ W1 + b1)\n",
    "        logits = h @ W2 + b2\n",
    "        probs = F.softmax(logits, dim=1)\n",
    "        idx = torch.multinomial(probs, num_samples=1).item()\n",
    "        context = context[1:] + [idx]\n",
    "        char_idx.append(idx)\n",
    "        if idx == 0:\n",
    "            break\n",
    "    \n",
    "    print(''.join(idx_to_chr[char_idx] for char_idx in char_idx))"
   ]
  }
 ],
 "metadata": {
  "kernelspec": {
   "display_name": "Python 3 (ipykernel)",
   "language": "python",
   "name": "python3"
  },
  "language_info": {
   "codemirror_mode": {
    "name": "ipython",
    "version": 3
   },
   "file_extension": ".py",
   "mimetype": "text/x-python",
   "name": "python",
   "nbconvert_exporter": "python",
   "pygments_lexer": "ipython3",
   "version": "3.10.6"
  }
 },
 "nbformat": 4,
 "nbformat_minor": 5
}
