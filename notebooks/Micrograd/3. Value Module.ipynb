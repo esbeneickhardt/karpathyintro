{
 "cells": [
  {
   "cell_type": "markdown",
   "id": "8af4d9bc",
   "metadata": {},
   "source": [
    "# Introduction\n",
    "We are going to build the Value class of the micrograd library such that it automatically keeps track of our calculations such that we can easily calculate the derivatives of arbitrarily nested functions (e.g. neural networks)."
   ]
  },
  {
   "cell_type": "markdown",
   "id": "63a42bcb",
   "metadata": {},
   "source": [
    "# Libraries"
   ]
  },
  {
   "cell_type": "code",
   "execution_count": 2,
   "id": "42913217",
   "metadata": {},
   "outputs": [],
   "source": [
    "import math\n",
    "import numpy as np\n",
    "import matplotlib.pyplot as plt"
   ]
  },
  {
   "cell_type": "code",
   "execution_count": 3,
   "id": "f6ff7aa2",
   "metadata": {},
   "outputs": [],
   "source": [
    "%matplotlib inline"
   ]
  },
  {
   "cell_type": "markdown",
   "id": "01e32911",
   "metadata": {},
   "source": [
    "# Value Class"
   ]
  },
  {
   "cell_type": "code",
   "execution_count": 10,
   "id": "1c4027bf",
   "metadata": {},
   "outputs": [
    {
     "name": "stdout",
     "output_type": "stream",
     "text": [
      "Hello World!\n"
     ]
    }
   ],
   "source": [
    "###VALUE###\n",
    "print(\"Hello World!\")"
   ]
  },
  {
   "cell_type": "markdown",
   "id": "b6091d83",
   "metadata": {},
   "source": [
    "# Writing Cells to Module"
   ]
  },
  {
   "cell_type": "code",
   "execution_count": 23,
   "id": "6b163a6e",
   "metadata": {},
   "outputs": [
    {
     "name": "stdout",
     "output_type": "stream",
     "text": [
      "INFO: Cells with label ###VALUE### extracted from 3. Value Module.ipynb\r\n",
      "Traceback (most recent call last):\r\n",
      "  File \"/home/arigato/code/karpathyintro/notebooks/Micrograd/../../helpers/ipynb_to_py.py\", line 71, in <module>\r\n",
      "    write_to_file(labeled_cells, sys.argv[3])\r\n",
      "  File \"/home/arigato/code/karpathyintro/notebooks/Micrograd/../../helpers/ipynb_to_py.py\", line 62, in write_to_file\r\n",
      "    file = open(output_file, 'w')\r\n",
      "FileNotFoundError: [Errno 2] No such file or directory: '../../modules/Micrograd/value.py'\r\n"
     ]
    }
   ],
   "source": [
    "!python3.10 ../../helpers/ipynb_to_py.py 3.\\ Value\\ Module.ipynb \"###VALUE###\" ../../modules/Micrograd/value.py"
   ]
  }
 ],
 "metadata": {
  "kernelspec": {
   "display_name": "Python 3 (ipykernel)",
   "language": "python",
   "name": "python3"
  },
  "language_info": {
   "codemirror_mode": {
    "name": "ipython",
    "version": 3
   },
   "file_extension": ".py",
   "mimetype": "text/x-python",
   "name": "python",
   "nbconvert_exporter": "python",
   "pygments_lexer": "ipython3",
   "version": "3.10.6"
  }
 },
 "nbformat": 4,
 "nbformat_minor": 5
}
