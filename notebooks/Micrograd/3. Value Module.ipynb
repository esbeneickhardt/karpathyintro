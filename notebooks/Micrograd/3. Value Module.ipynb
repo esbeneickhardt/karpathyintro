{
 "cells": [
  {
   "cell_type": "markdown",
   "id": "59ec8a68",
   "metadata": {},
   "source": [
    "# Introduction\n",
    "We are going to build the Value class of the micrograd library such that it automatically keeps track of our calculations such that we can easily calculate the derivatives of arbitrarily nested functions (e.g. neural networks)."
   ]
  },
  {
   "cell_type": "markdown",
   "id": "8e031e47",
   "metadata": {},
   "source": [
    "# Libraries"
   ]
  },
  {
   "cell_type": "code",
   "execution_count": 2,
   "id": "379c5f74",
   "metadata": {},
   "outputs": [],
   "source": [
    "import math\n",
    "import numpy as np\n",
    "import matplotlib.pyplot as plt"
   ]
  },
  {
   "cell_type": "code",
   "execution_count": 3,
   "id": "94692fae",
   "metadata": {},
   "outputs": [],
   "source": [
    "%matplotlib inline"
   ]
  },
  {
   "cell_type": "markdown",
   "id": "b4134668",
   "metadata": {},
   "source": [
    "# Value Class"
   ]
  },
  {
   "cell_type": "code",
   "execution_count": 10,
   "id": "ebfd800b",
   "metadata": {},
   "outputs": [
    {
     "name": "stdout",
     "output_type": "stream",
     "text": [
      "Hello World!\n"
     ]
    }
   ],
   "source": [
    "###VALUE###\n",
    "print(\"Hello World!\")"
   ]
  },
  {
   "cell_type": "markdown",
   "id": "0c15b339",
   "metadata": {},
   "source": [
    "# Writing Cells to Module"
   ]
  },
  {
   "cell_type": "code",
   "execution_count": 22,
   "id": "9c7df53c",
   "metadata": {},
   "outputs": [
    {
     "name": "stdout",
     "output_type": "stream",
     "text": [
      "INFO: Cells with label ###VALUE### extracted from 3. Value Module.ipynb\r\n"
     ]
    }
   ],
   "source": [
    "!python3.10 ../../helpers/ipynb_to_py.py 3.\\ Value\\ Module.ipynb \"###VALUE###\" ../../modules/value.py"
   ]
  }
 ],
 "metadata": {
  "kernelspec": {
   "display_name": "Python 3 (ipykernel)",
   "language": "python",
   "name": "python3"
  },
  "language_info": {
   "codemirror_mode": {
    "name": "ipython",
    "version": 3
   },
   "file_extension": ".py",
   "mimetype": "text/x-python",
   "name": "python",
   "nbconvert_exporter": "python",
   "pygments_lexer": "ipython3",
   "version": "3.10.6"
  }
 },
 "nbformat": 4,
 "nbformat_minor": 5
}
