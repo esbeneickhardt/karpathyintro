{
 "cells": [
  {
   "cell_type": "markdown",
   "id": "2be5ff70",
   "metadata": {},
   "source": [
    "# Introduction\n",
    "We are going to build the Value class of the micrograd library such that it automatically keeps track of our calculations such that we can easily calculate the derivatives of arbitrarily nested functions (e.g. neural networks)."
   ]
  },
  {
   "cell_type": "markdown",
   "id": "19f26d2b",
   "metadata": {},
   "source": [
    "# Libraries"
   ]
  },
  {
   "cell_type": "code",
   "execution_count": 3,
   "id": "173192c7",
   "metadata": {},
   "outputs": [],
   "source": [
    "%matplotlib inline"
   ]
  },
  {
   "cell_type": "markdown",
   "id": "800fa3fb",
   "metadata": {},
   "source": [
    "# Value Class\n",
    "In this class we implement the simple math operations we saw in the first notebook as well as the backpropagation."
   ]
  },
  {
   "cell_type": "markdown",
   "id": "7548834e",
   "metadata": {},
   "source": [
    "### Adding Addition and Multiplication\n",
    "The math operations are added using the special/dunder methods recognized by starting and ending with \\_\\_."
   ]
  },
  {
   "cell_type": "code",
   "execution_count": 37,
   "id": "fc72ca0b",
   "metadata": {},
   "outputs": [],
   "source": [
    "# Implementing simple addition and multiplication\n",
    "class Value:\n",
    "    def __init__(self, data:float):\n",
    "        self.data = data\n",
    "        \n",
    "    def __repr__(self):\n",
    "        return f'Value(data={self.data})'\n",
    "    \n",
    "    def __add__(self, other:Value) -> Value:\n",
    "        out = Value(self.data + other.data)\n",
    "        return out\n",
    "    \n",
    "    def __mul__(self, other:Value) -> Value:\n",
    "        out = Value(self.data * other.data)\n",
    "        return out"
   ]
  },
  {
   "cell_type": "code",
   "execution_count": 38,
   "id": "475d9e3f",
   "metadata": {},
   "outputs": [
    {
     "name": "stdout",
     "output_type": "stream",
     "text": [
      "Value(data=5)\n",
      "Value(data=6)\n"
     ]
    }
   ],
   "source": [
    "# Testing methods\n",
    "print(Value(2) + Value(3))\n",
    "print(Value(2) * Value(3))"
   ]
  },
  {
   "cell_type": "markdown",
   "id": "809beaf4",
   "metadata": {},
   "source": [
    "### Keeping track of Expression Graphs\n",
    "As mentioned in the first notebook our library needs to keep track of which values produce which other values before it can do backpropagation. This functionality is added here. Everytime an addition or multiplication has been performed the previous calculation is saved."
   ]
  },
  {
   "cell_type": "code",
   "execution_count": 81,
   "id": "d5016e31",
   "metadata": {},
   "outputs": [],
   "source": [
    "# Keeping track of previous calculations\n",
    "class Value:\n",
    "    def __init__(self, data:float, _children:tuple = (), _op:str = ''):\n",
    "        self.data = data\n",
    "        self._prev = set(_children)\n",
    "        self._op = _op\n",
    "        \n",
    "    def __repr__(self):\n",
    "        return f'Value(data={self.data})'\n",
    "    \n",
    "    def __add__(self, other:Value) -> Value:\n",
    "        out = Value(self.data + other.data, (self, other), '+')\n",
    "        return out\n",
    "    \n",
    "    def __mul__(self, other:Value) -> Value:\n",
    "        out = Value(self.data * other.data, (self, other), '*')\n",
    "        return out"
   ]
  },
  {
   "cell_type": "code",
   "execution_count": 82,
   "id": "6a635d40",
   "metadata": {},
   "outputs": [
    {
     "name": "stdout",
     "output_type": "stream",
     "text": [
      "Value(data=4.0)\n"
     ]
    }
   ],
   "source": [
    "# Making Calculations\n",
    "a = Value(2.0)\n",
    "b = Value(-3.0)\n",
    "c = Value(10.0)\n",
    "d = a * b + c;print(d)"
   ]
  },
  {
   "cell_type": "code",
   "execution_count": 66,
   "id": "9bbe8660",
   "metadata": {
    "scrolled": true
   },
   "outputs": [
    {
     "name": "stdout",
     "output_type": "stream",
     "text": [
      "Previous calculation for d: {Value(data=10.0), Value(data=-6.0)}\n",
      "Previous calculation for d: {'+'}\n",
      "Previous calculation for value 1: set()\n",
      "Previous calculation for value 1: set()\n",
      "Previous calculation for value 2: {Value(data=-3.0), Value(data=2.0)}\n",
      "Previous calculation for value 2: {'*'}\n"
     ]
    }
   ],
   "source": [
    "# Investigating the numbers were calculated\n",
    "print(f'Previous calculation for d: {d._prev}')\n",
    "print(f'Previous calculation for d: {d._op}')\n",
    "\n",
    "print(f'Previous calculation for value 1: {list(d._prev)[0]._prev}')\n",
    "print(f'Previous calculation for value 1: {list(d._prev)[0]._op}')\n",
    "\n",
    "print(f'Previous calculation for value 2: {list(d._prev)[1]._prev}')\n",
    "print(f'Previous calculation for value 2: {list(d._prev)[1]._op}')"
   ]
  },
  {
   "cell_type": "markdown",
   "id": "35d439f6",
   "metadata": {},
   "source": [
    "The tracking shows that d was calculated from two numbers: 10 and -6. We can further see that -6 was calculated by multiplying 2 and -3. It looks like the hierachical calculations are now correctly tracked. "
   ]
  },
  {
   "cell_type": "markdown",
   "id": "0cff651a",
   "metadata": {},
   "source": [
    "### Visualizing Expression Graphs\n",
    "As the manuel walkthrough of previous calculations above is rather annoying to perform, here we use the **graphviz**-library to visualise the calculations instead."
   ]
  },
  {
   "cell_type": "code",
   "execution_count": 69,
   "id": "13e40285",
   "metadata": {},
   "outputs": [],
   "source": [
    "from graphviz import Digraph"
   ]
  },
  {
   "cell_type": "code",
   "execution_count": 83,
   "id": "3f099197",
   "metadata": {},
   "outputs": [],
   "source": [
    "def trace(root: Value) -> tuple:\n",
    "    \"\"\"\n",
    "    Description:\n",
    "        Iterates recursively through the previous calculations\n",
    "        from the root to the leafs and creates a tree.\n",
    "    Inputs:\n",
    "        root: The Value object of a forward pass\n",
    "    Outputs:\n",
    "        Nodes and Edges representing the calculations\n",
    "    \"\"\"\n",
    "    nodes, edges = set(), set()\n",
    "    def build(v):\n",
    "        if v not in nodes:\n",
    "            nodes.add(v)\n",
    "            for child in v._prev:\n",
    "                edges.add((child, v))\n",
    "                build(child)\n",
    "    build(root)\n",
    "    return nodes, edges"
   ]
  },
  {
   "cell_type": "code",
   "execution_count": 86,
   "id": "df8db439",
   "metadata": {},
   "outputs": [],
   "source": [
    "def draw_dot(root: Value) -> Digraph:\n",
    "    \"\"\"\n",
    "    Description:\n",
    "        Creates a graph showing the relations between calculations.\n",
    "    Inputs:\n",
    "        root: The Value object of a forward pass\n",
    "    Outputs:\n",
    "        A graph representation of the calculations        \n",
    "    \"\"\"\n",
    "    nodes, edges = trace(root)\n",
    "    dot = Digraph(format='svg', graph_attr={'rankdir': 'LR'})\n",
    "    \n",
    "    for n in nodes:\n",
    "        uid = str(id(n))\n",
    "        # For each value in graph create rectangular node for it\n",
    "        dot.node(name=str(id(n)), label = \"{ data %.4f }\" % (n.data), shape='record')\n",
    "        \n",
    "        # If the value is a result of a calculation create a \"operation\" node for it\n",
    "        if n._op:\n",
    "            dot.node(name=uid + n._op, label=n._op)\n",
    "            dot.edge(str(id(n)) + n._op, str(id(n)))\n",
    "    \n",
    "    for n1, n2 in edges:\n",
    "        # Connect the n1 to the op node of n2\n",
    "        dot.edge(str(id(n1)), str(id(n2)) + n2._op)\n",
    "    \n",
    "    return dot"
   ]
  },
  {
   "cell_type": "code",
   "execution_count": 87,
   "id": "91f0d445",
   "metadata": {},
   "outputs": [
    {
     "data": {
      "image/svg+xml": [
       "<?xml version=\"1.0\" encoding=\"UTF-8\" standalone=\"no\"?>\n",
       "<!DOCTYPE svg PUBLIC \"-//W3C//DTD SVG 1.1//EN\"\n",
       " \"http://www.w3.org/Graphics/SVG/1.1/DTD/svg11.dtd\">\n",
       "<!-- Generated by graphviz version 2.43.0 (0)\n",
       " -->\n",
       "<!-- Title: %3 Pages: 1 -->\n",
       "<svg width=\"580pt\" height=\"128pt\"\n",
       " viewBox=\"0.00 0.00 580.00 128.00\" xmlns=\"http://www.w3.org/2000/svg\" xmlns:xlink=\"http://www.w3.org/1999/xlink\">\n",
       "<g id=\"graph0\" class=\"graph\" transform=\"scale(1 1) rotate(0) translate(4 124)\">\n",
       "<title>%3</title>\n",
       "<polygon fill=\"white\" stroke=\"transparent\" points=\"-4,4 -4,-124 576,-124 576,4 -4,4\"/>\n",
       "<!-- 140055124580416 -->\n",
       "<g id=\"node1\" class=\"node\">\n",
       "<title>140055124580416</title>\n",
       "<polygon fill=\"none\" stroke=\"black\" points=\"2.5,-83.5 2.5,-119.5 104.5,-119.5 104.5,-83.5 2.5,-83.5\"/>\n",
       "<text text-anchor=\"middle\" x=\"53.5\" y=\"-97.8\" font-family=\"Times,serif\" font-size=\"14.00\">data 2.0000</text>\n",
       "</g>\n",
       "<!-- 140055124589968* -->\n",
       "<g id=\"node7\" class=\"node\">\n",
       "<title>140055124589968*</title>\n",
       "<ellipse fill=\"none\" stroke=\"black\" cx=\"170\" cy=\"-73.5\" rx=\"27\" ry=\"18\"/>\n",
       "<text text-anchor=\"middle\" x=\"170\" y=\"-69.8\" font-family=\"Times,serif\" font-size=\"14.00\">*</text>\n",
       "</g>\n",
       "<!-- 140055124580416&#45;&gt;140055124589968* -->\n",
       "<g id=\"edge4\" class=\"edge\">\n",
       "<title>140055124580416&#45;&gt;140055124589968*</title>\n",
       "<path fill=\"none\" stroke=\"black\" d=\"M104.72,-89.22C114.78,-86.76 125.14,-84.23 134.52,-81.93\"/>\n",
       "<polygon fill=\"black\" stroke=\"black\" points=\"135.37,-85.33 144.25,-79.55 133.71,-78.53 135.37,-85.33\"/>\n",
       "</g>\n",
       "<!-- 140055124589728 -->\n",
       "<g id=\"node2\" class=\"node\">\n",
       "<title>140055124589728</title>\n",
       "<polygon fill=\"none\" stroke=\"black\" points=\"233,-0.5 233,-36.5 344,-36.5 344,-0.5 233,-0.5\"/>\n",
       "<text text-anchor=\"middle\" x=\"288.5\" y=\"-14.8\" font-family=\"Times,serif\" font-size=\"14.00\">data 10.0000</text>\n",
       "</g>\n",
       "<!-- 140055124575424+ -->\n",
       "<g id=\"node4\" class=\"node\">\n",
       "<title>140055124575424+</title>\n",
       "<ellipse fill=\"none\" stroke=\"black\" cx=\"407\" cy=\"-45.5\" rx=\"27\" ry=\"18\"/>\n",
       "<text text-anchor=\"middle\" x=\"407\" y=\"-41.8\" font-family=\"Times,serif\" font-size=\"14.00\">+</text>\n",
       "</g>\n",
       "<!-- 140055124589728&#45;&gt;140055124575424+ -->\n",
       "<g id=\"edge3\" class=\"edge\">\n",
       "<title>140055124589728&#45;&gt;140055124575424+</title>\n",
       "<path fill=\"none\" stroke=\"black\" d=\"M344.34,-31.21C353.57,-33.35 362.91,-35.51 371.44,-37.49\"/>\n",
       "<polygon fill=\"black\" stroke=\"black\" points=\"370.85,-40.95 381.38,-39.79 372.43,-34.13 370.85,-40.95\"/>\n",
       "</g>\n",
       "<!-- 140055124575424 -->\n",
       "<g id=\"node3\" class=\"node\">\n",
       "<title>140055124575424</title>\n",
       "<polygon fill=\"none\" stroke=\"black\" points=\"470,-27.5 470,-63.5 572,-63.5 572,-27.5 470,-27.5\"/>\n",
       "<text text-anchor=\"middle\" x=\"521\" y=\"-41.8\" font-family=\"Times,serif\" font-size=\"14.00\">data 4.0000</text>\n",
       "</g>\n",
       "<!-- 140055124575424+&#45;&gt;140055124575424 -->\n",
       "<g id=\"edge1\" class=\"edge\">\n",
       "<title>140055124575424+&#45;&gt;140055124575424</title>\n",
       "<path fill=\"none\" stroke=\"black\" d=\"M434.26,-45.5C441.96,-45.5 450.73,-45.5 459.64,-45.5\"/>\n",
       "<polygon fill=\"black\" stroke=\"black\" points=\"459.71,-49 469.71,-45.5 459.71,-42 459.71,-49\"/>\n",
       "</g>\n",
       "<!-- 140055124585840 -->\n",
       "<g id=\"node5\" class=\"node\">\n",
       "<title>140055124585840</title>\n",
       "<polygon fill=\"none\" stroke=\"black\" points=\"0,-28.5 0,-64.5 107,-64.5 107,-28.5 0,-28.5\"/>\n",
       "<text text-anchor=\"middle\" x=\"53.5\" y=\"-42.8\" font-family=\"Times,serif\" font-size=\"14.00\">data &#45;3.0000</text>\n",
       "</g>\n",
       "<!-- 140055124585840&#45;&gt;140055124589968* -->\n",
       "<g id=\"edge6\" class=\"edge\">\n",
       "<title>140055124585840&#45;&gt;140055124589968*</title>\n",
       "<path fill=\"none\" stroke=\"black\" d=\"M107.06,-58.89C116.25,-61.06 125.61,-63.27 134.17,-65.29\"/>\n",
       "<polygon fill=\"black\" stroke=\"black\" points=\"133.62,-68.75 144.16,-67.64 135.23,-61.94 133.62,-68.75\"/>\n",
       "</g>\n",
       "<!-- 140055124589968 -->\n",
       "<g id=\"node6\" class=\"node\">\n",
       "<title>140055124589968</title>\n",
       "<polygon fill=\"none\" stroke=\"black\" points=\"235,-55.5 235,-91.5 342,-91.5 342,-55.5 235,-55.5\"/>\n",
       "<text text-anchor=\"middle\" x=\"288.5\" y=\"-69.8\" font-family=\"Times,serif\" font-size=\"14.00\">data &#45;6.0000</text>\n",
       "</g>\n",
       "<!-- 140055124589968&#45;&gt;140055124575424+ -->\n",
       "<g id=\"edge5\" class=\"edge\">\n",
       "<title>140055124589968&#45;&gt;140055124575424+</title>\n",
       "<path fill=\"none\" stroke=\"black\" d=\"M342.3,-60.81C352.18,-58.43 362.28,-56.01 371.43,-53.81\"/>\n",
       "<polygon fill=\"black\" stroke=\"black\" points=\"372.41,-57.17 381.31,-51.43 370.77,-50.37 372.41,-57.17\"/>\n",
       "</g>\n",
       "<!-- 140055124589968*&#45;&gt;140055124589968 -->\n",
       "<g id=\"edge2\" class=\"edge\">\n",
       "<title>140055124589968*&#45;&gt;140055124589968</title>\n",
       "<path fill=\"none\" stroke=\"black\" d=\"M197.14,-73.5C205.41,-73.5 214.93,-73.5 224.62,-73.5\"/>\n",
       "<polygon fill=\"black\" stroke=\"black\" points=\"224.74,-77 234.74,-73.5 224.74,-70 224.74,-77\"/>\n",
       "</g>\n",
       "</g>\n",
       "</svg>\n"
      ],
      "text/plain": [
       "<graphviz.graphs.Digraph at 0x7f6128cb5870>"
      ]
     },
     "execution_count": 87,
     "metadata": {},
     "output_type": "execute_result"
    }
   ],
   "source": [
    "# Plotting calculation graph\n",
    "draw_dot(d)"
   ]
  },
  {
   "cell_type": "markdown",
   "id": "1a39e02e",
   "metadata": {},
   "source": [
    "### Adding backpropagation"
   ]
  },
  {
   "cell_type": "code",
   "execution_count": null,
   "id": "18249371",
   "metadata": {},
   "outputs": [],
   "source": [
    "# Keeping track of previous calculations\n",
    "class Value:\n",
    "    def __init__(self, data:float, _children:tuple = (), _op:str = ''):\n",
    "        self.data = data\n",
    "        self._grad = 0\n",
    "        self._prev = set(_children)\n",
    "        self._op = _op\n",
    "        \n",
    "    def __repr__(self):\n",
    "        return f'Value(data={self.data})'\n",
    "    \n",
    "    def __add__(self, other:Value) -> Value:\n",
    "        out = Value(self.data + other.data, (self, other), '+')\n",
    "        return out\n",
    "    \n",
    "    def __mul__(self, other:Value) -> Value:\n",
    "        out = Value(self.data * other.data, (self, other), '*')\n",
    "        return out"
   ]
  },
  {
   "cell_type": "code",
   "execution_count": null,
   "id": "cf13647d",
   "metadata": {},
   "outputs": [],
   "source": [
    "# CONTINUE HERE\n",
    "# http://www.youtube.com/watch?v=VMj-3S1tku0&t=31m10s"
   ]
  },
  {
   "cell_type": "markdown",
   "id": "e53aaada",
   "metadata": {},
   "source": [
    "# Writing Cells to Module"
   ]
  },
  {
   "cell_type": "code",
   "execution_count": 24,
   "id": "1517d32f",
   "metadata": {},
   "outputs": [
    {
     "name": "stdout",
     "output_type": "stream",
     "text": [
      "INFO: Cells with label ###VALUE### extracted from 3. Value Module.ipynb\r\n"
     ]
    }
   ],
   "source": [
    "!python3.10 ../../helpers/ipynb_to_py.py 3.\\ Value\\ Module.ipynb \"###VALUE###\" ../../modules/Micrograd/value.py"
   ]
  }
 ],
 "metadata": {
  "kernelspec": {
   "display_name": "Python 3 (ipykernel)",
   "language": "python",
   "name": "python3"
  },
  "language_info": {
   "codemirror_mode": {
    "name": "ipython",
    "version": 3
   },
   "file_extension": ".py",
   "mimetype": "text/x-python",
   "name": "python",
   "nbconvert_exporter": "python",
   "pygments_lexer": "ipython3",
   "version": "3.10.6"
  }
 },
 "nbformat": 4,
 "nbformat_minor": 5
}
