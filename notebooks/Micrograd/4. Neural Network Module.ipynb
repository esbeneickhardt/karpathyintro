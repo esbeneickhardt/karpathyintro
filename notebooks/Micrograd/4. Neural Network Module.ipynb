{
 "cells": [
  {
   "cell_type": "markdown",
   "id": "1eb053ed",
   "metadata": {},
   "source": [
    "# Introduction\n",
    "Here we are going to build neural network class such that we can actually train a model using our Value class."
   ]
  },
  {
   "cell_type": "markdown",
   "id": "c789e5a3",
   "metadata": {},
   "source": [
    "# Libraries"
   ]
  },
  {
   "cell_type": "markdown",
   "id": "5b218820",
   "metadata": {},
   "source": [
    "# Module Class"
   ]
  },
  {
   "cell_type": "markdown",
   "id": "d77cc269",
   "metadata": {},
   "source": [
    "# Neural Network Class"
   ]
  },
  {
   "cell_type": "markdown",
   "id": "017d9eba",
   "metadata": {},
   "source": [
    "# Layer Class"
   ]
  },
  {
   "cell_type": "markdown",
   "id": "776e48a3",
   "metadata": {},
   "source": [
    "# Multi-Layer Percepton Class"
   ]
  },
  {
   "cell_type": "markdown",
   "id": "adb1e3b4",
   "metadata": {},
   "source": [
    "# Writing Cells to Module\n",
    "Here we write the Value class to a module by labeling the cell with ###NN###."
   ]
  },
  {
   "cell_type": "code",
   "execution_count": null,
   "id": "c13c58ad",
   "metadata": {},
   "outputs": [],
   "source": [
    "!python3.10 ../../helpers/ipynb_to_py.py 4.\\ Neural\\ Network\\ Module.ipynb \"###NN###\" ../../modules/Micrograd/nn.py"
   ]
  }
 ],
 "metadata": {
  "kernelspec": {
   "display_name": "Python 3 (ipykernel)",
   "language": "python",
   "name": "python3"
  },
  "language_info": {
   "codemirror_mode": {
    "name": "ipython",
    "version": 3
   },
   "file_extension": ".py",
   "mimetype": "text/x-python",
   "name": "python",
   "nbconvert_exporter": "python",
   "pygments_lexer": "ipython3",
   "version": "3.10.6"
  }
 },
 "nbformat": 4,
 "nbformat_minor": 5
}
