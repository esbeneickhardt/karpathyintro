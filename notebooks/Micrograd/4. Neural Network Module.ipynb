{
 "cells": [
  {
   "cell_type": "markdown",
   "id": "6938df86",
   "metadata": {},
   "source": [
    "# Introduction\n",
    "Here we are going to build neural network class such that we can actually train a model using our Value class."
   ]
  },
  {
   "cell_type": "markdown",
   "id": "a9ee5f47",
   "metadata": {},
   "source": [
    "# Libraries"
   ]
  },
  {
   "cell_type": "markdown",
   "id": "91195611",
   "metadata": {},
   "source": [
    "# Module Class\n",
    "This class has common functionality that will be used for all our other classes. It just has two functionalities: 1. It can take all parameters and set their gradients to zero, 2. It can return the parameters."
   ]
  },
  {
   "cell_type": "code",
   "execution_count": 3,
   "id": "50519b31",
   "metadata": {},
   "outputs": [],
   "source": [
    "class Module:\n",
    "\n",
    "    def zero_grad(self):\n",
    "        \"\"\"\n",
    "        Description:\n",
    "            Sets the gradients of alle parameters to zero\n",
    "        \"\"\"\n",
    "        for p in self.parameters():\n",
    "            p.grad = 0\n",
    "\n",
    "    def parameters(self):\n",
    "        \"\"\"\n",
    "        Description:\n",
    "            Returns the parameters\n",
    "        \"\"\"\n",
    "        return []"
   ]
  },
  {
   "cell_type": "markdown",
   "id": "6c8f980a",
   "metadata": {},
   "source": [
    "# Neuron Class\n",
    "The **Neuron Class** lets you create a neuron with a random weight for each input value."
   ]
  },
  {
   "cell_type": "code",
   "execution_count": 4,
   "id": "a244d490",
   "metadata": {},
   "outputs": [],
   "source": [
    "class Neuron(Module):\n",
    "\n",
    "    def __init__(self, nin, nonlin=True):\n",
    "        self.w = [Value(random.uniform(-1,1)) for _ in range(nin)]\n",
    "        self.b = Value(0)\n",
    "        self.nonlin = nonlin\n",
    "\n",
    "    def __call__(self, x):\n",
    "        act = sum((wi*xi for wi,xi in zip(self.w, x)), self.b)\n",
    "        return act.relu() if self.nonlin else act\n",
    "\n",
    "    def parameters(self):\n",
    "        return self.w + [self.b]\n",
    "\n",
    "    def __repr__(self):\n",
    "        return f\"{'ReLU' if self.nonlin else 'Linear'}Neuron({len(self.w)})\""
   ]
  },
  {
   "cell_type": "code",
   "execution_count": null,
   "id": "3bb31ac1",
   "metadata": {},
   "outputs": [],
   "source": []
  },
  {
   "cell_type": "markdown",
   "id": "5f6b88af",
   "metadata": {},
   "source": [
    "# Layer Class"
   ]
  },
  {
   "cell_type": "markdown",
   "id": "6b0c2288",
   "metadata": {},
   "source": [
    "# Multi-Layer Percepton Class"
   ]
  },
  {
   "cell_type": "markdown",
   "id": "2c578bef",
   "metadata": {},
   "source": [
    "# Writing Cells to Module\n",
    "Here we write the Value class to a module by labeling the cell with ###NN###."
   ]
  },
  {
   "cell_type": "code",
   "execution_count": null,
   "id": "b53babe2",
   "metadata": {},
   "outputs": [],
   "source": [
    "!python3.10 ../../helpers/ipynb_to_py.py 4.\\ Neural\\ Network\\ Module.ipynb \"###NN###\" ../../modules/Micrograd/nn.py"
   ]
  }
 ],
 "metadata": {
  "kernelspec": {
   "display_name": "Python 3 (ipykernel)",
   "language": "python",
   "name": "python3"
  },
  "language_info": {
   "codemirror_mode": {
    "name": "ipython",
    "version": 3
   },
   "file_extension": ".py",
   "mimetype": "text/x-python",
   "name": "python",
   "nbconvert_exporter": "python",
   "pygments_lexer": "ipython3",
   "version": "3.10.6"
  }
 },
 "nbformat": 4,
 "nbformat_minor": 5
}
